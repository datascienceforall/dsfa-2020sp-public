{
 "cells": [
  {
   "cell_type": "markdown",
   "metadata": {},
   "source": [
    "# Lecture 14: Simulation"
   ]
  },
  {
   "cell_type": "code",
   "execution_count": 1,
   "metadata": {},
   "outputs": [],
   "source": [
    "#!pip install datascience\n",
    "from datascience import *\n",
    "import numpy as np\n",
    "\n",
    "import matplotlib.pyplot as plots\n",
    "plots.style.use('fivethirtyeight')\n",
    "%matplotlib inline"
   ]
  },
  {
   "cell_type": "markdown",
   "metadata": {},
   "source": [
    "### Structure of simulation\n",
    "\n",
    "**Purpose:** simulate sampling from a population, computing a statistic, and visualizing the bias and variability of that statistic"
   ]
  },
  {
   "cell_type": "code",
   "execution_count": 2,
   "metadata": {},
   "outputs": [],
   "source": [
    "# ###########################\n",
    "# # Template for a simulation\n",
    "# # (This cell won't run.)\n",
    "# ###########################\n",
    "\n",
    "# # Create table to represent population\n",
    "# population = Table().with_column('data', make_array(...))\n",
    "\n",
    "# # Create empty array to accumulate statistics\n",
    "# statistics = make_array()\n",
    "\n",
    "# # \"Tuning knobs\" for simulation\n",
    "# repetitions = ...\n",
    "# sample_size = ...\n",
    "\n",
    "# for _ in np.arange(repetitions):\n",
    "#     sample = population.sample(sample_size).column('data')\n",
    "#     statistic = ... # computed from sample\n",
    "#     statistics = np.append(statistics, statistic)\n",
    "\n",
    "# statistics"
   ]
  },
  {
   "cell_type": "markdown",
   "metadata": {},
   "source": [
    "## Pea Flowers"
   ]
  },
  {
   "cell_type": "code",
   "execution_count": 6,
   "metadata": {},
   "outputs": [
    {
     "data": {
      "text/plain": [
       "array(['Purple', 'Purple', 'Purple', 'White'], dtype='<U6')"
      ]
     },
     "execution_count": 6,
     "metadata": {},
     "output_type": "execute_result"
    }
   ],
   "source": [
    "pea_colors = make_array('Purple', 'Purple', 'Purple', 'White')\n",
    "pea_colors"
   ]
  },
  {
   "cell_type": "markdown",
   "metadata": {},
   "source": [
    "**Question.** Assume Mendel's theories are correct.  The proportion of purple plants is .75.  What kind of number is that?\n",
    "\n",
    "A. Population parameter  \n",
    "B. Population statistic  \n",
    "C. Sample parameter  \n",
    "D. Sample statistic  \n",
    "E. I don't know\n",
    "\n",
    "<br/><br/><br/><br/><br/>"
   ]
  },
  {
   "cell_type": "code",
   "execution_count": 7,
   "metadata": {},
   "outputs": [],
   "source": [
    "sample_size = 929\n",
    "\n",
    "def get_sample():\n",
    "    return Table().with_column('color', pea_colors).sample(sample_size).column('color')"
   ]
  },
  {
   "cell_type": "code",
   "execution_count": 11,
   "metadata": {},
   "outputs": [],
   "source": [
    "a = get_sample()"
   ]
  },
  {
   "cell_type": "code",
   "execution_count": 14,
   "metadata": {},
   "outputs": [],
   "source": [
    "def proportion_purple(sample):\n",
    "    return np.sum(sample == 'Purple') / len(sample)\n"
   ]
  },
  {
   "cell_type": "code",
   "execution_count": 23,
   "metadata": {},
   "outputs": [
    {
     "data": {
      "text/plain": [
       "0.7190527448869752"
      ]
     },
     "execution_count": 23,
     "metadata": {},
     "output_type": "execute_result"
    }
   ],
   "source": [
    "proportion_purple(get_sample())  # sample statistic"
   ]
  },
  {
   "cell_type": "markdown",
   "metadata": {},
   "source": [
    "**Discussion question.** Every time we run the cell above, we get a different statistic.  How variable is that statistic?  \n",
    "\n",
    "<br/><br/><br/><br/><br/><br/><br/><br/>"
   ]
  },
  {
   "cell_type": "markdown",
   "metadata": {},
   "source": [
    "### Another way to sample"
   ]
  },
  {
   "cell_type": "code",
   "execution_count": 24,
   "metadata": {},
   "outputs": [
    {
     "data": {
      "text/html": [
       "<table border=\"1\" class=\"dataframe\">\n",
       "    <thead>\n",
       "        <tr>\n",
       "            <th>color</th>\n",
       "        </tr>\n",
       "    </thead>\n",
       "    <tbody>\n",
       "        <tr>\n",
       "            <td>Purple</td>\n",
       "        </tr>\n",
       "        <tr>\n",
       "            <td>White </td>\n",
       "        </tr>\n",
       "    </tbody>\n",
       "</table>"
      ],
      "text/plain": [
       "color\n",
       "Purple\n",
       "White"
      ]
     },
     "execution_count": 24,
     "metadata": {},
     "output_type": "execute_result"
    }
   ],
   "source": [
    "pea_colors = Table().with_column('color', make_array('Purple', 'White'))\n",
    "pea_colors"
   ]
  },
  {
   "cell_type": "code",
   "execution_count": 47,
   "metadata": {},
   "outputs": [
    {
     "data": {
      "text/plain": [
       "0.751345532831001"
      ]
     },
     "execution_count": 47,
     "metadata": {},
     "output_type": "execute_result"
    }
   ],
   "source": [
    "sample = pea_colors.sample(929, weights = make_array(.75, .25))\n",
    "proportion_purple(sample.column('color'))"
   ]
  },
  {
   "cell_type": "markdown",
   "metadata": {},
   "source": [
    "### Simulation"
   ]
  },
  {
   "cell_type": "code",
   "execution_count": 2,
   "metadata": {},
   "outputs": [
    {
     "data": {
      "text/html": [
       "<table border=\"1\" class=\"dataframe\">\n",
       "    <thead>\n",
       "        <tr>\n",
       "            <th>color</th> <th>chance</th>\n",
       "        </tr>\n",
       "    </thead>\n",
       "    <tbody>\n",
       "        <tr>\n",
       "            <td>Purple</td> <td>0.75  </td>\n",
       "        </tr>\n",
       "        <tr>\n",
       "            <td>White </td> <td>0.25  </td>\n",
       "        </tr>\n",
       "    </tbody>\n",
       "</table>"
      ],
      "text/plain": [
       "color  | chance\n",
       "Purple | 0.75\n",
       "White  | 0.25"
      ]
     },
     "execution_count": 2,
     "metadata": {},
     "output_type": "execute_result"
    }
   ],
   "source": [
    "# Create table to represent population\n",
    "peas = Table().with_columns(\n",
    "    'color', make_array('Purple', 'White'),\n",
    "    'chance', make_array(.75, .25)\n",
    ")\n",
    "peas"
   ]
  },
  {
   "cell_type": "code",
   "execution_count": 4,
   "metadata": {},
   "outputs": [
    {
     "data": {
      "text/html": [
       "<table border=\"1\" class=\"dataframe\">\n",
       "    <thead>\n",
       "        <tr>\n",
       "            <th>color</th> <th>chance</th>\n",
       "        </tr>\n",
       "    </thead>\n",
       "    <tbody>\n",
       "        <tr>\n",
       "            <td>White </td> <td>0.25  </td>\n",
       "        </tr>\n",
       "        <tr>\n",
       "            <td>White </td> <td>0.25  </td>\n",
       "        </tr>\n",
       "        <tr>\n",
       "            <td>Purple</td> <td>0.75  </td>\n",
       "        </tr>\n",
       "        <tr>\n",
       "            <td>White </td> <td>0.25  </td>\n",
       "        </tr>\n",
       "        <tr>\n",
       "            <td>White </td> <td>0.25  </td>\n",
       "        </tr>\n",
       "        <tr>\n",
       "            <td>Purple</td> <td>0.75  </td>\n",
       "        </tr>\n",
       "        <tr>\n",
       "            <td>Purple</td> <td>0.75  </td>\n",
       "        </tr>\n",
       "        <tr>\n",
       "            <td>Purple</td> <td>0.75  </td>\n",
       "        </tr>\n",
       "        <tr>\n",
       "            <td>Purple</td> <td>0.75  </td>\n",
       "        </tr>\n",
       "        <tr>\n",
       "            <td>Purple</td> <td>0.75  </td>\n",
       "        </tr>\n",
       "    </tbody>\n",
       "</table>"
      ],
      "text/plain": [
       "color  | chance\n",
       "White  | 0.25\n",
       "White  | 0.25\n",
       "Purple | 0.75\n",
       "White  | 0.25\n",
       "White  | 0.25\n",
       "Purple | 0.75\n",
       "Purple | 0.75\n",
       "Purple | 0.75\n",
       "Purple | 0.75\n",
       "Purple | 0.75"
      ]
     },
     "execution_count": 4,
     "metadata": {},
     "output_type": "execute_result"
    }
   ],
   "source": [
    "peas.sample(10, weights=peas.column('chance'))"
   ]
  },
  {
   "cell_type": "code",
   "execution_count": 71,
   "metadata": {},
   "outputs": [
    {
     "data": {
      "text/plain": [
       "array([0.74811625, 0.75242196, 0.76856835, ..., 0.73196986, 0.75134553,\n",
       "       0.73412271])"
      ]
     },
     "execution_count": 71,
     "metadata": {},
     "output_type": "execute_result"
    }
   ],
   "source": [
    "# Create empty array to accumulate statistics\n",
    "proportions = make_array()\n",
    "\n",
    "# \"Tuning knobs\" for simulation\n",
    "repetitions = 5000\n",
    "sample_size = 929      #929\n",
    "\n",
    "for _ in np.arange(repetitions):\n",
    "    sample = peas.sample(sample_size, weights=peas.column('chance')).column('color')\n",
    "    statistic = proportion_purple(sample)\n",
    "    proportions = np.append(proportions, statistic)\n",
    "\n",
    "proportions"
   ]
  },
  {
   "cell_type": "code",
   "execution_count": 72,
   "metadata": {},
   "outputs": [
    {
     "data": {
      "image/png": "[encoded data removed]",
      "text/plain": [
       "<Figure size 432x288 with 1 Axes>"
      ]
     },
     "metadata": {
      "needs_background": "light"
     },
     "output_type": "display_data"
    }
   ],
   "source": [
    "percents = Table().with_column('Plants', proportions * 100)\n",
    "percents.hist(bins=np.arange(70, 80, 1), unit='percent that are purple')"
   ]
  },
  {
   "cell_type": "markdown",
   "metadata": {},
   "source": [
    "## Comparing to observed data"
   ]
  },
  {
   "cell_type": "code",
   "execution_count": 73,
   "metadata": {},
   "outputs": [
    {
     "data": {
      "text/plain": [
       "75.8880516684607"
      ]
     },
     "execution_count": 73,
     "metadata": {},
     "output_type": "execute_result"
    }
   ],
   "source": [
    "observed_purples = 705\n",
    "total_plants = 929\n",
    "observed_percent_purple = 100 * observed_purples / total_plants\n",
    "observed_percent_purple"
   ]
  },
  {
   "cell_type": "code",
   "execution_count": 74,
   "metadata": {},
   "outputs": [
    {
     "data": {
      "image/png": "[encoded data removed]",
      "text/plain": [
       "<Figure size 432x288 with 1 Axes>"
      ]
     },
     "metadata": {
      "needs_background": "light"
     },
     "output_type": "display_data"
    }
   ],
   "source": [
    "percents.hist(bins=np.arange(70, 80, 1), unit='percent that are purple')\n",
    "plots.scatter(observed_percent_purple, 0, color='red', s=100);"
   ]
  },
  {
   "cell_type": "markdown",
   "metadata": {},
   "source": [
    "## A different statistic"
   ]
  },
  {
   "cell_type": "code",
   "execution_count": 15,
   "metadata": {},
   "outputs": [],
   "source": [
    "def mystery_statistic(sample):\n",
    "    return abs(np.sum(sample == 'Purple') / len(sample) - 0.75)"
   ]
  },
  {
   "cell_type": "markdown",
   "metadata": {},
   "source": [
    "**Question.** Describe that statistic in your own words.\n",
    "\n",
    "<br/><br/><br/><br/><br/>"
   ]
  },
  {
   "cell_type": "code",
   "execution_count": 16,
   "metadata": {},
   "outputs": [
    {
     "data": {
      "text/plain": [
       "array([0.01749193, 0.02072121, 0.00242196, ..., 0.00780409, 0.00080732,\n",
       "       0.00349839])"
      ]
     },
     "execution_count": 16,
     "metadata": {},
     "output_type": "execute_result"
    }
   ],
   "source": [
    "repetitions = 5000\n",
    "sample_size = 929\n",
    "\n",
    "statistics = make_array()\n",
    "\n",
    "for _ in np.arange(repetitions):\n",
    "    sample = peas.sample(sample_size, weights=peas.column('chance')).column('color')\n",
    "    statistic = mystery_statistic(sample)\n",
    "    statistics = np.append(statistics, statistic)\n",
    "\n",
    "statistics"
   ]
  },
  {
   "cell_type": "code",
   "execution_count": 17,
   "metadata": {},
   "outputs": [
    {
     "data": {
      "text/plain": [
       "0.008880516684607098"
      ]
     },
     "execution_count": 17,
     "metadata": {},
     "output_type": "execute_result"
    }
   ],
   "source": [
    "observed_statistic = abs(observed_purples / total_plants - 0.75)\n",
    "observed_statistic"
   ]
  },
  {
   "cell_type": "code",
   "execution_count": 18,
   "metadata": {},
   "outputs": [
    {
     "data": {
      "image/png": "[encoded data removed]",
      "text/plain": [
       "<matplotlib.figure.Figure at 0x11a348400>"
      ]
     },
     "metadata": {},
     "output_type": "display_data"
    }
   ],
   "source": [
    "pred = Table().with_column('Statistic', statistics)\n",
    "pred.hist()\n",
    "plots.scatter(observed_statistic, 0, color='red', s=100);"
   ]
  },
  {
   "cell_type": "markdown",
   "metadata": {},
   "source": [
    "## Yet another statistic"
   ]
  },
  {
   "cell_type": "markdown",
   "metadata": {},
   "source": [
    "**Question.** What do you expect the histogram produced by the simulation below to look like?"
   ]
  },
  {
   "cell_type": "code",
   "execution_count": 19,
   "metadata": {},
   "outputs": [
    {
     "data": {
      "image/png": "[encoded data removed]",
      "text/plain": [
       "<matplotlib.figure.Figure at 0x11a5a9b38>"
      ]
     },
     "metadata": {},
     "output_type": "display_data"
    }
   ],
   "source": [
    "###############################################################\n",
    "# A new statistic\n",
    "\n",
    "def number_of_different_colors(sample):\n",
    "    \"\"\"\n",
    "    Returns the number of different colors in sample.\n",
    "    For example, would return 2 on the input \n",
    "      make_array('Purple', 'White').\n",
    "    \"\"\"\n",
    "    return Table().with_column('color', sample).group('color').num_rows\n",
    "\n",
    "###############################################################\n",
    "# Everything below here is the same simulation we've been doing \n",
    "\n",
    "repetitions = 5000\n",
    "sample_size = 929\n",
    "\n",
    "statistics = make_array()\n",
    "\n",
    "for _ in np.arange(repetitions):\n",
    "    sample = peas.sample(sample_size, weights=peas.column('chance')).column('color')\n",
    "    statistic = number_of_different_colors(sample)\n",
    "    statistics = np.append(statistics, statistic)\n",
    "\n",
    "###############################################################\n",
    "# Plot a histogram of the simulated statistic\n",
    "Table().with_column('Statistic', statistics).hist()"
   ]
  },
  {
   "cell_type": "markdown",
   "metadata": {},
   "source": [
    "## Swain v. Alabama"
   ]
  },
  {
   "cell_type": "code",
   "execution_count": 75,
   "metadata": {},
   "outputs": [
    {
     "data": {
      "text/html": [
       "<table border=\"1\" class=\"dataframe\">\n",
       "    <thead>\n",
       "        <tr>\n",
       "            <th>Race</th> <th>Eligible</th> <th>Panel</th>\n",
       "        </tr>\n",
       "    </thead>\n",
       "    <tbody>\n",
       "        <tr>\n",
       "            <td>Black</td> <td>26%     </td> <td>8%   </td>\n",
       "        </tr>\n",
       "        <tr>\n",
       "            <td>Other</td> <td>74%     </td> <td>92%  </td>\n",
       "        </tr>\n",
       "    </tbody>\n",
       "</table>"
      ],
      "text/plain": [
       "Race  | Eligible | Panel\n",
       "Black | 26%      | 8%\n",
       "Other | 74%      | 92%"
      ]
     },
     "execution_count": 75,
     "metadata": {},
     "output_type": "execute_result"
    }
   ],
   "source": [
    "swain = Table().with_columns(\n",
    "    'Race', make_array('Black', 'Other'),\n",
    "    'Eligible', make_array(0.26, 0.74),\n",
    "    'Panel', make_array(0.08, 0.92)\n",
    ")\n",
    "\n",
    "swain.set_format([1, 2], PercentFormatter(0))"
   ]
  },
  {
   "cell_type": "code",
   "execution_count": 21,
   "metadata": {},
   "outputs": [
    {
     "data": {
      "image/png": "[encoded data removed]",
      "text/plain": [
       "<matplotlib.figure.Figure at 0x11a4adf28>"
      ]
     },
     "metadata": {},
     "output_type": "display_data"
    }
   ],
   "source": [
    "swain.barh('Race')"
   ]
  },
  {
   "cell_type": "markdown",
   "metadata": {},
   "source": [
    "## Simulating"
   ]
  },
  {
   "cell_type": "code",
   "execution_count": 76,
   "metadata": {},
   "outputs": [
    {
     "data": {
      "text/html": [
       "<table border=\"1\" class=\"dataframe\">\n",
       "    <thead>\n",
       "        <tr>\n",
       "            <th>Race</th> <th>Eligible</th> <th>Panel</th>\n",
       "        </tr>\n",
       "    </thead>\n",
       "    <tbody>\n",
       "        <tr>\n",
       "            <td>Black</td> <td>26%     </td> <td>8%   </td>\n",
       "        </tr>\n",
       "        <tr>\n",
       "            <td>Other</td> <td>74%     </td> <td>92%  </td>\n",
       "        </tr>\n",
       "    </tbody>\n",
       "</table>"
      ],
      "text/plain": [
       "Race  | Eligible | Panel\n",
       "Black | 26%      | 8%\n",
       "Other | 74%      | 92%"
      ]
     },
     "execution_count": 76,
     "metadata": {},
     "output_type": "execute_result"
    }
   ],
   "source": [
    "swain"
   ]
  },
  {
   "cell_type": "markdown",
   "metadata": {},
   "source": [
    "**Question.** How could we write code to produce a new randomly sampled panel of 100 jurors?  Specifically, their race?  E.g., `array(['Black', 'Other', ..., 'Black'])`, with 100 elements in that array?\n",
    "\n",
    "<br/><br/><br/><br/><br/>"
   ]
  },
  {
   "cell_type": "code",
   "execution_count": 83,
   "metadata": {},
   "outputs": [
    {
     "data": {
      "text/plain": [
       "array(['Black', 'Other', 'Other', 'Other', 'Other', 'Other', 'Black',\n",
       "       'Other', 'Other', 'Other', 'Other', 'Black', 'Black', 'Other',\n",
       "       'Black', 'Other', 'Black', 'Other', 'Other', 'Other', 'Black',\n",
       "       'Black', 'Other', 'Other', 'Other', 'Other', 'Other', 'Black',\n",
       "       'Other', 'Other', 'Black', 'Other', 'Other', 'Black', 'Other',\n",
       "       'Other', 'Other', 'Other', 'Other', 'Other', 'Black', 'Black',\n",
       "       'Black', 'Other', 'Other', 'Other', 'Other', 'Black', 'Other',\n",
       "       'Other', 'Other', 'Other', 'Other', 'Other', 'Other', 'Other',\n",
       "       'Other', 'Other', 'Black', 'Other', 'Other', 'Other', 'Black',\n",
       "       'Other', 'Black', 'Other', 'Other', 'Other', 'Other', 'Other',\n",
       "       'Other', 'Other', 'Black', 'Other', 'Other', 'Other', 'Other',\n",
       "       'Other', 'Black', 'Black', 'Other', 'Other', 'Black', 'Other',\n",
       "       'Other', 'Other', 'Other', 'Other', 'Other', 'Other', 'Other',\n",
       "       'Other', 'Black', 'Other', 'Black', 'Black', 'Black', 'Black',\n",
       "       'Other', 'Other'], dtype='<U5')"
      ]
     },
     "execution_count": 83,
     "metadata": {},
     "output_type": "execute_result"
    }
   ],
   "source": [
    "random_panel = swain.select('Race').sample(100, weights=swain.column('Eligible'))\n",
    "random_panel.column('Race')"
   ]
  },
  {
   "cell_type": "code",
   "execution_count": 84,
   "metadata": {},
   "outputs": [
    {
     "data": {
      "text/html": [
       "<table border=\"1\" class=\"dataframe\">\n",
       "    <thead>\n",
       "        <tr>\n",
       "            <th>Race</th> <th>count</th>\n",
       "        </tr>\n",
       "    </thead>\n",
       "    <tbody>\n",
       "        <tr>\n",
       "            <td>Black</td> <td>27   </td>\n",
       "        </tr>\n",
       "        <tr>\n",
       "            <td>Other</td> <td>73   </td>\n",
       "        </tr>\n",
       "    </tbody>\n",
       "</table>"
      ],
      "text/plain": [
       "Race  | count\n",
       "Black | 27\n",
       "Other | 73"
      ]
     },
     "execution_count": 84,
     "metadata": {},
     "output_type": "execute_result"
    }
   ],
   "source": [
    "# Let's summarize that panel\n",
    "counts = random_panel.group('Race')\n",
    "counts"
   ]
  },
  {
   "cell_type": "code",
   "execution_count": 85,
   "metadata": {},
   "outputs": [
    {
     "data": {
      "text/html": [
       "<table border=\"1\" class=\"dataframe\">\n",
       "    <thead>\n",
       "        <tr>\n",
       "            <th>Race</th> <th>Random Panel</th>\n",
       "        </tr>\n",
       "    </thead>\n",
       "    <tbody>\n",
       "        <tr>\n",
       "            <td>Black</td> <td>27%         </td>\n",
       "        </tr>\n",
       "        <tr>\n",
       "            <td>Other</td> <td>73%         </td>\n",
       "        </tr>\n",
       "    </tbody>\n",
       "</table>"
      ],
      "text/plain": [
       "Race  | Random Panel\n",
       "Black | 27%\n",
       "Other | 73%"
      ]
     },
     "execution_count": 85,
     "metadata": {},
     "output_type": "execute_result"
    }
   ],
   "source": [
    "proportions = counts.select('Race').with_column(\n",
    "    'Random Panel', counts.column('count') / 100\n",
    ")\n",
    "proportions.set_format('Random Panel', PercentFormatter(0))"
   ]
  },
  {
   "cell_type": "code",
   "execution_count": 86,
   "metadata": {},
   "outputs": [
    {
     "data": {
      "image/png": "[encoded data removed]",
      "text/plain": [
       "<Figure size 432x288 with 1 Axes>"
      ]
     },
     "metadata": {
      "needs_background": "light"
     },
     "output_type": "display_data"
    }
   ],
   "source": [
    "# For sake of comparison\n",
    "swain.join('Race', proportions).barh('Race')"
   ]
  },
  {
   "cell_type": "markdown",
   "metadata": {},
   "source": [
    "**Question.** Does the random panel look more like the actual panel?  Or more like the eligible population?"
   ]
  },
  {
   "cell_type": "code",
   "execution_count": 87,
   "metadata": {},
   "outputs": [
    {
     "data": {
      "text/html": [
       "<table border=\"1\" class=\"dataframe\">\n",
       "    <thead>\n",
       "        <tr>\n",
       "            <th>Race</th> <th>Random Panel</th>\n",
       "        </tr>\n",
       "    </thead>\n",
       "    <tbody>\n",
       "        <tr>\n",
       "            <td>Black</td> <td>21%         </td>\n",
       "        </tr>\n",
       "        <tr>\n",
       "            <td>Other</td> <td>79%         </td>\n",
       "        </tr>\n",
       "    </tbody>\n",
       "</table>"
      ],
      "text/plain": [
       "Race  | Random Panel\n",
       "Black | 21%\n",
       "Other | 79%"
      ]
     },
     "execution_count": 87,
     "metadata": {},
     "output_type": "execute_result"
    }
   ],
   "source": [
    "def random_jury_panel():   \n",
    "    panel_size = 100\n",
    "    panel = swain.select('Race').sample(panel_size, weights=swain.column('Eligible'))\n",
    "    counts = panel.group('Race')\n",
    "    proportions = counts.select('Race').with_column(\n",
    "        'Random Panel', counts.column('count') / panel_size\n",
    "    )\n",
    "    proportions.set_format('Random Panel', PercentFormatter(0))\n",
    "    return proportions\n",
    "\n",
    "random_jury_panel()"
   ]
  },
  {
   "cell_type": "code",
   "execution_count": 88,
   "metadata": {},
   "outputs": [
    {
     "data": {
      "text/html": [
       "<table border=\"1\" class=\"dataframe\">\n",
       "    <thead>\n",
       "        <tr>\n",
       "            <th>Proportion black</th>\n",
       "        </tr>\n",
       "    </thead>\n",
       "    <tbody>\n",
       "        <tr>\n",
       "            <td>0.29            </td>\n",
       "        </tr>\n",
       "        <tr>\n",
       "            <td>0.29            </td>\n",
       "        </tr>\n",
       "        <tr>\n",
       "            <td>0.21            </td>\n",
       "        </tr>\n",
       "        <tr>\n",
       "            <td>0.25            </td>\n",
       "        </tr>\n",
       "        <tr>\n",
       "            <td>0.26            </td>\n",
       "        </tr>\n",
       "        <tr>\n",
       "            <td>0.31            </td>\n",
       "        </tr>\n",
       "        <tr>\n",
       "            <td>0.34            </td>\n",
       "        </tr>\n",
       "        <tr>\n",
       "            <td>0.21            </td>\n",
       "        </tr>\n",
       "        <tr>\n",
       "            <td>0.27            </td>\n",
       "        </tr>\n",
       "        <tr>\n",
       "            <td>0.25            </td>\n",
       "        </tr>\n",
       "    </tbody>\n",
       "</table>\n",
       "<p>... (990 rows omitted)</p>"
      ],
      "text/plain": [
       "Proportion black\n",
       "0.29\n",
       "0.29\n",
       "0.21\n",
       "0.25\n",
       "0.26\n",
       "0.31\n",
       "0.34\n",
       "0.21\n",
       "0.27\n",
       "0.25\n",
       "... (990 rows omitted)"
      ]
     },
     "execution_count": 88,
     "metadata": {},
     "output_type": "execute_result"
    }
   ],
   "source": [
    "# Simulate \n",
    "\n",
    "proportion_black = make_array()\n",
    "\n",
    "for _ in np.arange(1000): \n",
    "    sample = random_jury_panel()\n",
    "    p = sample.where('Race', 'Black').column('Random Panel').item(0)\n",
    "    proportion_black = np.append(proportion_black, p)\n",
    "\n",
    "results = Table().with_column('Proportion black', proportion_black)\n",
    "results"
   ]
  },
  {
   "cell_type": "code",
   "execution_count": 29,
   "metadata": {
    "scrolled": true
   },
   "outputs": [
    {
     "data": {
      "image/png": "[encoded data removed]",
      "text/plain": [
       "<matplotlib.figure.Figure at 0x11a7f1748>"
      ]
     },
     "metadata": {},
     "output_type": "display_data"
    }
   ],
   "source": [
    "np.set_printoptions(legacy='1.13')\n",
    "\n",
    "results.hist(bins = np.arange(0, .51, .01))\n",
    "plots.scatter(.08, 0, color='red', s=100);"
   ]
  },
  {
   "cell_type": "markdown",
   "metadata": {},
   "source": [
    "## Alameda County Juries"
   ]
  },
  {
   "cell_type": "code",
   "execution_count": null,
   "metadata": {},
   "outputs": [],
   "source": [
    "# Data from an ACLU 2010 report\n",
    "# Racial and Ethnic Disparities in Alameda County Jury Pools\n",
    "# https://www.aclunc.org/sites/default/files/racial_and_ethnic_disparities_in_alameda_county_jury_pools.pdf\n",
    "\n",
    "alameda = Table().with_columns(\n",
    "    'Ethnicity', make_array('Asian', 'Black', 'Latino', 'White', 'Other'),\n",
    "    'Eligible', make_array(0.15, 0.18, 0.12, 0.54, 0.01),\n",
    "    'Panels', make_array(0.26, 0.08, 0.08, 0.54, 0.04)\n",
    ")\n",
    "\n",
    "alameda.set_format([1, 2], PercentFormatter(0))"
   ]
  },
  {
   "cell_type": "code",
   "execution_count": null,
   "metadata": {},
   "outputs": [],
   "source": [
    "alameda.barh(0)"
   ]
  },
  {
   "cell_type": "markdown",
   "metadata": {},
   "source": [
    "Do the panels seem representative of the eligible population?\n",
    "\n",
    "A. Yes <br />\n",
    "B. No <br />\n",
    "C. Not sure <br />"
   ]
  },
  {
   "cell_type": "markdown",
   "metadata": {},
   "source": [
    "## Total Variation Distance"
   ]
  },
  {
   "cell_type": "code",
   "execution_count": null,
   "metadata": {},
   "outputs": [],
   "source": [
    "diff = alameda.with_column('Difference',\n",
    "                    alameda.column('Eligible') - alameda.column('Panels'))\n",
    "diff"
   ]
  },
  {
   "cell_type": "code",
   "execution_count": null,
   "metadata": {},
   "outputs": [],
   "source": [
    "abs_diff = diff.with_column('Abs. Difference',\n",
    "                        np.abs(diff.column('Difference')))\n",
    "abs_diff"
   ]
  },
  {
   "cell_type": "code",
   "execution_count": null,
   "metadata": {},
   "outputs": [],
   "source": [
    "sum(abs_diff.column('Abs. Difference')) / 2"
   ]
  },
  {
   "cell_type": "code",
   "execution_count": null,
   "metadata": {},
   "outputs": [],
   "source": [
    "def total_variation_distance(distribution_1, distribution_2):\n",
    "    \"\"\"Each distribution is an array of proportions that sums to 1.\"\"\"\n",
    "    return np.abs(distribution_1 - distribution_2).sum()/2"
   ]
  },
  {
   "cell_type": "code",
   "execution_count": null,
   "metadata": {},
   "outputs": [],
   "source": [
    "def table_tvd(table, label_1, label_2):\n",
    "    return total_variation_distance(table.column(label_1), table.column(label_2))"
   ]
  },
  {
   "cell_type": "code",
   "execution_count": null,
   "metadata": {},
   "outputs": [],
   "source": [
    "observed = table_tvd(alameda, 'Eligible', 'Panels')\n",
    "observed"
   ]
  },
  {
   "cell_type": "markdown",
   "metadata": {},
   "source": [
    "## Simulating the statistic"
   ]
  },
  {
   "cell_type": "code",
   "execution_count": null,
   "metadata": {},
   "outputs": [],
   "source": [
    "def get_one_simulated_panel(t, n):\n",
    "    return t.select('Ethnicity').sample(n, weights=t.column('Eligible'))\n",
    "\n",
    "get_one_simulated_panel(alameda, 1453)"
   ]
  },
  {
   "cell_type": "code",
   "execution_count": null,
   "metadata": {},
   "outputs": [],
   "source": [
    "def simulate_once(t, n):\n",
    "    simulated_panel = get_one_simulated_panel(t, n)\n",
    "    counts = simulated_panel.group('Ethnicity')\n",
    "    sim_proportions = counts.select('Ethnicity').with_column('Random',\n",
    "                                    counts.column('count') / n)\n",
    "    sim_proportions.set_format(1, PercentFormatter(0))\n",
    "    return t.join('Ethnicity', sim_proportions)"
   ]
  },
  {
   "cell_type": "code",
   "execution_count": null,
   "metadata": {
    "scrolled": true
   },
   "outputs": [],
   "source": [
    "simulate_once(alameda, 1453)"
   ]
  },
  {
   "cell_type": "code",
   "execution_count": null,
   "metadata": {},
   "outputs": [],
   "source": [
    "# Compute the empirical distribution of TVDs\n",
    "\n",
    "tvds = make_array()\n",
    "\n",
    "for i in np.arange(1000): # 1000 repetitions of the simulation\n",
    "    sim_results = simulate_once(alameda, 1453)\n",
    "    tvds = np.append(tvds, table_tvd(sim_results, 'Eligible', 'Random'))\n",
    "\n",
    "results = Table().with_column('TVD', tvds)\n",
    "results"
   ]
  },
  {
   "cell_type": "code",
   "execution_count": null,
   "metadata": {
    "scrolled": true
   },
   "outputs": [],
   "source": [
    "results.hist(bins=np.arange(0, 0.2, 0.005))"
   ]
  },
  {
   "cell_type": "markdown",
   "metadata": {},
   "source": []
  }
 ],
 "metadata": {
  "kernelspec": {
   "display_name": "Python 3",
   "language": "python",
   "name": "python3"
  },
  "language_info": {
   "codemirror_mode": {
    "name": "ipython",
    "version": 3
   },
   "file_extension": ".py",
   "mimetype": "text/x-python",
   "name": "python",
   "nbconvert_exporter": "python",
   "pygments_lexer": "ipython3",
   "version": "3.7.1"
  }
 },
 "nbformat": 4,
 "nbformat_minor": 2
}
