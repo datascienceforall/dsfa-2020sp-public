{
 "cells": [
  {
   "cell_type": "code",
   "execution_count": 1,
   "metadata": {},
   "outputs": [],
   "source": [
    "from datascience import *\n",
    "import numpy as np\n",
    "\n",
    "import matplotlib.pyplot as plots\n",
    "plots.style.use('fivethirtyeight')\n",
    "%matplotlib inline"
   ]
  },
  {
   "cell_type": "code",
   "execution_count": 2,
   "metadata": {},
   "outputs": [
    {
     "data": {
      "text/plain": [
       "0.4012630607616213"
      ]
     },
     "execution_count": 2,
     "metadata": {},
     "output_type": "execute_result"
    }
   ],
   "source": [
    "1-(0.95)**10"
   ]
  },
  {
   "cell_type": "markdown",
   "metadata": {},
   "source": [
    "## Percentiles"
   ]
  },
  {
   "cell_type": "code",
   "execution_count": 3,
   "metadata": {},
   "outputs": [
    {
     "data": {
      "text/plain": [
       "[1, 7, 3, 9, 5]"
      ]
     },
     "execution_count": 3,
     "metadata": {},
     "output_type": "execute_result"
    }
   ],
   "source": [
    "v = [1, 7, 3, 9, 5]\n",
    "v"
   ]
  },
  {
   "cell_type": "code",
   "execution_count": null,
   "metadata": {},
   "outputs": [],
   "source": [
    "v = [1, 7, 3, 9, 5]\n",
    "percentile(20, v)"
   ]
  },
  {
   "cell_type": "markdown",
   "metadata": {},
   "source": [
    "* A) 1\n",
    "* B) 3\n",
    "* C) 5\n",
    "* D) 7\n",
    "* E) 0"
   ]
  },
  {
   "cell_type": "code",
   "execution_count": null,
   "metadata": {},
   "outputs": [],
   "source": [
    "v = [1, 7, 3, 9, 5]\n",
    "percentile(10, v)"
   ]
  },
  {
   "cell_type": "markdown",
   "metadata": {},
   "source": [
    "* A) 1\n",
    "* B) 3\n",
    "* C) 5\n",
    "* D) 7\n",
    "* E) 0"
   ]
  },
  {
   "cell_type": "code",
   "execution_count": null,
   "metadata": {},
   "outputs": [],
   "source": [
    "v = [1, 7, 3, 9, 5]\n",
    "percentile(50, v)"
   ]
  },
  {
   "cell_type": "markdown",
   "metadata": {},
   "source": [
    "* A) 1\n",
    "* B) 3\n",
    "* C) 5\n",
    "* D) 7\n",
    "* E) 9"
   ]
  },
  {
   "cell_type": "code",
   "execution_count": 5,
   "metadata": {},
   "outputs": [
    {
     "data": {
      "text/plain": [
       "True"
      ]
     },
     "execution_count": 5,
     "metadata": {},
     "output_type": "execute_result"
    }
   ],
   "source": [
    "v = [1, 7, 3, 9, 5]\n",
    "percentile(39, v) == percentile(40, v)"
   ]
  },
  {
   "cell_type": "markdown",
   "metadata": {},
   "source": [
    "* A) True\n",
    "* B) False"
   ]
  },
  {
   "cell_type": "code",
   "execution_count": 4,
   "metadata": {},
   "outputs": [
    {
     "data": {
      "text/plain": [
       "False"
      ]
     },
     "execution_count": 4,
     "metadata": {},
     "output_type": "execute_result"
    }
   ],
   "source": [
    "v = [1, 7, 3, 9, 5]\n",
    "percentile(40, v) == percentile(41, v)"
   ]
  },
  {
   "cell_type": "markdown",
   "metadata": {},
   "source": [
    "* A) True\n",
    "* B) False"
   ]
  },
  {
   "cell_type": "code",
   "execution_count": null,
   "metadata": {},
   "outputs": [],
   "source": [
    "v = [1, 7, 3, 9, 5]\n",
    "percentile(40, v)"
   ]
  },
  {
   "cell_type": "code",
   "execution_count": 6,
   "metadata": {},
   "outputs": [
    {
     "data": {
      "text/html": [
       "<table border=\"1\" class=\"dataframe\">\n",
       "    <thead>\n",
       "        <tr>\n",
       "            <th>Percent</th> <th>Percentile</th>\n",
       "        </tr>\n",
       "    </thead>\n",
       "    <tbody>\n",
       "        <tr>\n",
       "            <td>1      </td> <td>1         </td>\n",
       "        </tr>\n",
       "        <tr>\n",
       "            <td>10     </td> <td>1         </td>\n",
       "        </tr>\n",
       "        <tr>\n",
       "            <td>20     </td> <td>1         </td>\n",
       "        </tr>\n",
       "        <tr>\n",
       "            <td>39     </td> <td>3         </td>\n",
       "        </tr>\n",
       "        <tr>\n",
       "            <td>40     </td> <td>3         </td>\n",
       "        </tr>\n",
       "        <tr>\n",
       "            <td>41     </td> <td>5         </td>\n",
       "        </tr>\n",
       "        <tr>\n",
       "            <td>50     </td> <td>5         </td>\n",
       "        </tr>\n",
       "    </tbody>\n",
       "</table>"
      ],
      "text/plain": [
       "Percent | Percentile\n",
       "1       | 1\n",
       "10      | 1\n",
       "20      | 1\n",
       "39      | 3\n",
       "40      | 3\n",
       "41      | 5\n",
       "50      | 5"
      ]
     },
     "execution_count": 6,
     "metadata": {},
     "output_type": "execute_result"
    }
   ],
   "source": [
    "Table(['Percent', 'Percentile']).with_rows([\n",
    "   [ 1, percentile( 1, v)], \n",
    "   [10, percentile(10, v)], \n",
    "   [20, percentile(20, v)], \n",
    "   [39, percentile(39, v)], \n",
    "   [40, percentile(40, v)], \n",
    "   [41, percentile(41, v)], \n",
    "   [50, percentile(50, v)], \n",
    "])"
   ]
  },
  {
   "cell_type": "markdown",
   "metadata": {},
   "source": [
    "## Estimation"
   ]
  },
  {
   "cell_type": "code",
   "execution_count": 7,
   "metadata": {},
   "outputs": [
    {
     "name": "stderr",
     "output_type": "stream",
     "text": [
      "/Users/jb383/anaconda3/lib/python3.6/site-packages/datascience/tables.py:132: FutureWarning: read_table is deprecated, use read_csv instead.\n",
      "  df = pandas.read_table(filepath_or_buffer, *args, **vargs)\n"
     ]
    },
    {
     "data": {
      "text/html": [
       "<table border=\"1\" class=\"dataframe\">\n",
       "    <thead>\n",
       "        <tr>\n",
       "            <th>Organization Group</th> <th>Job</th> <th>Total Compensation</th>\n",
       "        </tr>\n",
       "    </thead>\n",
       "    <tbody>\n",
       "        <tr>\n",
       "            <td>Public Works, Transportation & Commerce</td> <td>Water Qualitytech I/II     </td> <td>117,767           </td>\n",
       "        </tr>\n",
       "        <tr>\n",
       "            <td>Public Works, Transportation & Commerce</td> <td>Soft Floor Coverer         </td> <td>41,210            </td>\n",
       "        </tr>\n",
       "        <tr>\n",
       "            <td>Community Health                       </td> <td>Health Care Billing Clerk 2</td> <td>110,561           </td>\n",
       "        </tr>\n",
       "    </tbody>\n",
       "</table>\n",
       "<p>... (38214 rows omitted)</p>"
      ],
      "text/plain": [
       "<IPython.core.display.HTML object>"
      ]
     },
     "metadata": {},
     "output_type": "display_data"
    }
   ],
   "source": [
    "sf = Table.read_table('san_francisco_2015.csv').select(3, 11, 21)\n",
    "sf.set_format('Total Compensation', NumberFormatter(0))\n",
    "sf = sf.where('Total Compensation', are.above(10000))\n",
    "sf.show(3)"
   ]
  },
  {
   "cell_type": "code",
   "execution_count": 8,
   "metadata": {},
   "outputs": [
    {
     "data": {
      "text/html": [
       "<table border=\"1\" class=\"dataframe\">\n",
       "    <thead>\n",
       "        <tr>\n",
       "            <th>Organization Group</th> <th>Job</th> <th>Total Compensation</th>\n",
       "        </tr>\n",
       "    </thead>\n",
       "    <tbody>\n",
       "        <tr>\n",
       "            <td>Human Welfare & Neighborhood Development</td> <td>Public Service Trainee        </td> <td>10,002            </td>\n",
       "        </tr>\n",
       "        <tr>\n",
       "            <td>Community Health                        </td> <td>Special Nurse                 </td> <td>10,003            </td>\n",
       "        </tr>\n",
       "        <tr>\n",
       "            <td>Public Works, Transportation & Commerce </td> <td>Publ Svc Aide-Asst To Prof    </td> <td>10,004            </td>\n",
       "        </tr>\n",
       "        <tr>\n",
       "            <td>Human Welfare & Neighborhood Development</td> <td>Public Svc Aide-Public Works  </td> <td>10,006            </td>\n",
       "        </tr>\n",
       "        <tr>\n",
       "            <td>Public Protection                       </td> <td>EMT Paramedic                 </td> <td>10,009            </td>\n",
       "        </tr>\n",
       "        <tr>\n",
       "            <td>Public Works, Transportation & Commerce </td> <td>Stdntdsgntrain1, Arch/Eng/Plng</td> <td>10,010            </td>\n",
       "        </tr>\n",
       "        <tr>\n",
       "            <td>Human Welfare & Neighborhood Development</td> <td>Public Service Trainee        </td> <td>10,010            </td>\n",
       "        </tr>\n",
       "        <tr>\n",
       "            <td>General Administration & Finance        </td> <td>Communications Systems Tech   </td> <td>10,014            </td>\n",
       "        </tr>\n",
       "        <tr>\n",
       "            <td>Community Health                        </td> <td>Patient Care Assistant        </td> <td>10,015            </td>\n",
       "        </tr>\n",
       "        <tr>\n",
       "            <td>Public Works, Transportation & Commerce </td> <td>Publ Svc Aide-Asst To Prof    </td> <td>10,017            </td>\n",
       "        </tr>\n",
       "    </tbody>\n",
       "</table>\n",
       "<p>... (38207 rows omitted)</p>"
      ],
      "text/plain": [
       "Organization Group                       | Job                            | Total Compensation\n",
       "Human Welfare & Neighborhood Development | Public Service Trainee         | 10,002\n",
       "Community Health                         | Special Nurse                  | 10,003\n",
       "Public Works, Transportation & Commerce  | Publ Svc Aide-Asst To Prof     | 10,004\n",
       "Human Welfare & Neighborhood Development | Public Svc Aide-Public Works   | 10,006\n",
       "Public Protection                        | EMT Paramedic                  | 10,009\n",
       "Public Works, Transportation & Commerce  | Stdntdsgntrain1, Arch/Eng/Plng | 10,010\n",
       "Human Welfare & Neighborhood Development | Public Service Trainee         | 10,010\n",
       "General Administration & Finance         | Communications Systems Tech    | 10,014\n",
       "Community Health                         | Patient Care Assistant         | 10,015\n",
       "Public Works, Transportation & Commerce  | Publ Svc Aide-Asst To Prof     | 10,017\n",
       "... (38207 rows omitted)"
      ]
     },
     "execution_count": 8,
     "metadata": {},
     "output_type": "execute_result"
    }
   ],
   "source": [
    "sf.sort('Total Compensation')"
   ]
  },
  {
   "cell_type": "code",
   "execution_count": 9,
   "metadata": {},
   "outputs": [
    {
     "data": {
      "text/html": [
       "<table border=\"1\" class=\"dataframe\">\n",
       "    <thead>\n",
       "        <tr>\n",
       "            <th>Organization Group</th> <th>Job</th> <th>Total Compensation</th>\n",
       "        </tr>\n",
       "    </thead>\n",
       "    <tbody>\n",
       "        <tr>\n",
       "            <td>General Administration & Finance       </td> <td>Chief Investment Officer   </td> <td>648,875           </td>\n",
       "        </tr>\n",
       "        <tr>\n",
       "            <td>General Administration & Finance       </td> <td>Asst Med Examiner          </td> <td>480,509           </td>\n",
       "        </tr>\n",
       "        <tr>\n",
       "            <td>General Administration & Finance       </td> <td>Asst Med Examiner          </td> <td>427,219           </td>\n",
       "        </tr>\n",
       "        <tr>\n",
       "            <td>Public Works, Transportation & Commerce</td> <td>Dept Head V                </td> <td>426,686           </td>\n",
       "        </tr>\n",
       "        <tr>\n",
       "            <td>Community Health                       </td> <td>Adm, SFGH Medical Center   </td> <td>422,800           </td>\n",
       "        </tr>\n",
       "        <tr>\n",
       "            <td>Public Protection                      </td> <td>Chief, Fire Department     </td> <td>418,844           </td>\n",
       "        </tr>\n",
       "        <tr>\n",
       "            <td>Public Works, Transportation & Commerce</td> <td>Executive Contract Employee</td> <td>417,848           </td>\n",
       "        </tr>\n",
       "        <tr>\n",
       "            <td>Community Health                       </td> <td>Senior Physician Specialist</td> <td>415,457           </td>\n",
       "        </tr>\n",
       "        <tr>\n",
       "            <td>Public Protection                      </td> <td>Chief Of Police            </td> <td>414,791           </td>\n",
       "        </tr>\n",
       "        <tr>\n",
       "            <td>Public Works, Transportation & Commerce</td> <td>Gen Mgr, Public Trnsp Dept </td> <td>405,050           </td>\n",
       "        </tr>\n",
       "    </tbody>\n",
       "</table>\n",
       "<p>... (38207 rows omitted)</p>"
      ],
      "text/plain": [
       "Organization Group                      | Job                         | Total Compensation\n",
       "General Administration & Finance        | Chief Investment Officer    | 648,875\n",
       "General Administration & Finance        | Asst Med Examiner           | 480,509\n",
       "General Administration & Finance        | Asst Med Examiner           | 427,219\n",
       "Public Works, Transportation & Commerce | Dept Head V                 | 426,686\n",
       "Community Health                        | Adm, SFGH Medical Center    | 422,800\n",
       "Public Protection                       | Chief, Fire Department      | 418,844\n",
       "Public Works, Transportation & Commerce | Executive Contract Employee | 417,848\n",
       "Community Health                        | Senior Physician Specialist | 415,457\n",
       "Public Protection                       | Chief Of Police             | 414,791\n",
       "Public Works, Transportation & Commerce | Gen Mgr, Public Trnsp Dept  | 405,050\n",
       "... (38207 rows omitted)"
      ]
     },
     "execution_count": 9,
     "metadata": {},
     "output_type": "execute_result"
    }
   ],
   "source": [
    "sf.sort('Total Compensation', descending=True)"
   ]
  },
  {
   "cell_type": "code",
   "execution_count": 10,
   "metadata": {},
   "outputs": [
    {
     "data": {
      "text/html": [
       "<table border=\"1\" class=\"dataframe\">\n",
       "    <thead>\n",
       "        <tr>\n",
       "            <th>Organization Group</th> <th>Job</th> <th>Total Compensation</th>\n",
       "        </tr>\n",
       "    </thead>\n",
       "    <tbody>\n",
       "        <tr>\n",
       "            <td>General Administration & Finance</td> <td>Mayor</td> <td>379,798           </td>\n",
       "        </tr>\n",
       "    </tbody>\n",
       "</table>"
      ],
      "text/plain": [
       "Organization Group               | Job   | Total Compensation\n",
       "General Administration & Finance | Mayor | 379,798"
      ]
     },
     "execution_count": 10,
     "metadata": {},
     "output_type": "execute_result"
    }
   ],
   "source": [
    "sf.where(\"Job\", \"Mayor\")"
   ]
  },
  {
   "cell_type": "code",
   "execution_count": 11,
   "metadata": {},
   "outputs": [
    {
     "data": {
      "image/png": "[encoded data removed]",
      "text/plain": [
       "<Figure size 432x288 with 1 Axes>"
      ]
     },
     "metadata": {
      "needs_background": "light"
     },
     "output_type": "display_data"
    }
   ],
   "source": [
    "comp_bins = np.arange(0, 700000, 25000)\n",
    "sf.hist('Total Compensation', bins=comp_bins, unit='dollar')"
   ]
  },
  {
   "cell_type": "code",
   "execution_count": 21,
   "metadata": {},
   "outputs": [
    {
     "data": {
      "text/html": [
       "<table border=\"1\" class=\"dataframe\">\n",
       "    <thead>\n",
       "        <tr>\n",
       "            <th>Organization Group</th> <th>Job</th> <th>Total Compensation</th>\n",
       "        </tr>\n",
       "    </thead>\n",
       "    <tbody>\n",
       "        <tr>\n",
       "            <td>Culture & Recreation                   </td> <td>Gardener        </td> <td>20,052            </td>\n",
       "        </tr>\n",
       "        <tr>\n",
       "            <td>Public Works, Transportation & Commerce</td> <td>Transit Operator</td> <td>11,986            </td>\n",
       "        </tr>\n",
       "        <tr>\n",
       "            <td>Public Protection                      </td> <td>Deputy Sheriff  </td> <td>210,283           </td>\n",
       "        </tr>\n",
       "    </tbody>\n",
       "</table>\n",
       "<p>... (197 rows omitted)</p>"
      ],
      "text/plain": [
       "<IPython.core.display.HTML object>"
      ]
     },
     "metadata": {},
     "output_type": "display_data"
    }
   ],
   "source": [
    "sample_from_population = sf.sample(200, with_replacement=False)\n",
    "sample_from_population.show(3)"
   ]
  },
  {
   "cell_type": "code",
   "execution_count": 22,
   "metadata": {},
   "outputs": [
    {
     "data": {
      "text/plain": [
       "106510.465"
      ]
     },
     "execution_count": 22,
     "metadata": {},
     "output_type": "execute_result"
    }
   ],
   "source": [
    "np.median(sample_from_population.column('Total Compensation'))"
   ]
  },
  {
   "cell_type": "code",
   "execution_count": 14,
   "metadata": {},
   "outputs": [
    {
     "data": {
      "text/plain": [
       "107219.48"
      ]
     },
     "execution_count": 14,
     "metadata": {},
     "output_type": "execute_result"
    }
   ],
   "source": [
    "np.median(sf.column('Total Compensation'))"
   ]
  },
  {
   "cell_type": "code",
   "execution_count": 23,
   "metadata": {},
   "outputs": [
    {
     "data": {
      "text/plain": [
       "106082.15"
      ]
     },
     "execution_count": 23,
     "metadata": {},
     "output_type": "execute_result"
    }
   ],
   "source": [
    "percentile(50, sample_from_population.column('Total Compensation'))"
   ]
  },
  {
   "cell_type": "markdown",
   "metadata": {},
   "source": [
    "## Sample variability"
   ]
  },
  {
   "cell_type": "code",
   "execution_count": 24,
   "metadata": {},
   "outputs": [
    {
     "data": {
      "image/png": "[encoded data removed]",
      "text/plain": [
       "<Figure size 360x360 with 1 Axes>"
      ]
     },
     "metadata": {
      "needs_background": "light"
     },
     "output_type": "display_data"
    }
   ],
   "source": [
    "medians = make_array()\n",
    "repetitions = np.arange(100)\n",
    "for i in repetitions:\n",
    "    sample = sf.sample(200, with_replacement=False)\n",
    "    median = np.median(sample.column('Total Compensation'))\n",
    "    medians = np.append(medians, median)\n",
    "\n",
    "Table().with_columns('trial', repetitions, 'median', medians).scatter('trial')"
   ]
  },
  {
   "cell_type": "code",
   "execution_count": 25,
   "metadata": {},
   "outputs": [
    {
     "data": {
      "image/png": "[encoded data removed]",
      "text/plain": [
       "<Figure size 432x288 with 1 Axes>"
      ]
     },
     "metadata": {
      "needs_background": "light"
     },
     "output_type": "display_data"
    }
   ],
   "source": [
    "Table().with_columns('median', medians).hist()"
   ]
  },
  {
   "cell_type": "code",
   "execution_count": 26,
   "metadata": {},
   "outputs": [
    {
     "data": {
      "text/plain": [
       "98156.135"
      ]
     },
     "execution_count": 26,
     "metadata": {},
     "output_type": "execute_result"
    }
   ],
   "source": [
    "percentile(2.5, medians)"
   ]
  },
  {
   "cell_type": "code",
   "execution_count": 27,
   "metadata": {},
   "outputs": [
    {
     "data": {
      "text/plain": [
       "115513.09"
      ]
     },
     "execution_count": 27,
     "metadata": {},
     "output_type": "execute_result"
    }
   ],
   "source": [
    "percentile(97.5, medians)"
   ]
  },
  {
   "cell_type": "code",
   "execution_count": 28,
   "metadata": {},
   "outputs": [
    {
     "name": "stdout",
     "output_type": "stream",
     "text": [
      "95% of sample medians were between 98156.135 and 115513.09\n"
     ]
    }
   ],
   "source": [
    "print(\"95% of sample medians were between\", \n",
    "      percentile(2.5, medians),\n",
    "      \"and\",\n",
    "      percentile(97.5, medians))"
   ]
  },
  {
   "cell_type": "markdown",
   "metadata": {},
   "source": [
    "## Bootstrap"
   ]
  },
  {
   "cell_type": "code",
   "execution_count": null,
   "metadata": {},
   "outputs": [],
   "source": [
    "sample_from_population # From now on, this is all we have."
   ]
  },
  {
   "cell_type": "code",
   "execution_count": 29,
   "metadata": {},
   "outputs": [
    {
     "data": {
      "text/plain": [
       "106510.465"
      ]
     },
     "execution_count": 29,
     "metadata": {},
     "output_type": "execute_result"
    }
   ],
   "source": [
    "sam_median = np.median(sample_from_population.column('Total Compensation'))\n",
    "sam_median"
   ]
  },
  {
   "cell_type": "code",
   "execution_count": 30,
   "metadata": {},
   "outputs": [
    {
     "data": {
      "text/html": [
       "<table border=\"1\" class=\"dataframe\">\n",
       "    <thead>\n",
       "        <tr>\n",
       "            <th>Organization Group</th> <th>Job</th> <th>Total Compensation</th>\n",
       "        </tr>\n",
       "    </thead>\n",
       "    <tbody>\n",
       "        <tr>\n",
       "            <td>Public Works, Transportation & Commerce</td> <td>Public Service Trainee        </td> <td>11,317            </td>\n",
       "        </tr>\n",
       "        <tr>\n",
       "            <td>Public Works, Transportation & Commerce</td> <td>Public Service Trainee        </td> <td>11,317            </td>\n",
       "        </tr>\n",
       "        <tr>\n",
       "            <td>Public Protection                      </td> <td>Dep Dir II                    </td> <td>11,544            </td>\n",
       "        </tr>\n",
       "        <tr>\n",
       "            <td>Public Protection                      </td> <td>Dep Dir II                    </td> <td>11,544            </td>\n",
       "        </tr>\n",
       "        <tr>\n",
       "            <td>Public Protection                      </td> <td>Dep Dir II                    </td> <td>11,544            </td>\n",
       "        </tr>\n",
       "        <tr>\n",
       "            <td>Public Works, Transportation & Commerce</td> <td>PS Aide To Prof               </td> <td>14,935            </td>\n",
       "        </tr>\n",
       "        <tr>\n",
       "            <td>Community Health                       </td> <td>Health Worker 1               </td> <td>16,031            </td>\n",
       "        </tr>\n",
       "        <tr>\n",
       "            <td>Community Health                       </td> <td>Health Worker 1               </td> <td>16,031            </td>\n",
       "        </tr>\n",
       "        <tr>\n",
       "            <td>Public Works, Transportation & Commerce</td> <td>Stdntdsgntrain3, Arch/Eng/Plng</td> <td>16,051            </td>\n",
       "        </tr>\n",
       "        <tr>\n",
       "            <td>Public Works, Transportation & Commerce</td> <td>Stdntdsgntrain3, Arch/Eng/Plng</td> <td>16,051            </td>\n",
       "        </tr>\n",
       "    </tbody>\n",
       "</table>\n",
       "<p>... (190 rows omitted)</p>"
      ],
      "text/plain": [
       "Organization Group                      | Job                            | Total Compensation\n",
       "Public Works, Transportation & Commerce | Public Service Trainee         | 11,317\n",
       "Public Works, Transportation & Commerce | Public Service Trainee         | 11,317\n",
       "Public Protection                       | Dep Dir II                     | 11,544\n",
       "Public Protection                       | Dep Dir II                     | 11,544\n",
       "Public Protection                       | Dep Dir II                     | 11,544\n",
       "Public Works, Transportation & Commerce | PS Aide To Prof                | 14,935\n",
       "Community Health                        | Health Worker 1                | 16,031\n",
       "Community Health                        | Health Worker 1                | 16,031\n",
       "Public Works, Transportation & Commerce | Stdntdsgntrain3, Arch/Eng/Plng | 16,051\n",
       "Public Works, Transportation & Commerce | Stdntdsgntrain3, Arch/Eng/Plng | 16,051\n",
       "... (190 rows omitted)"
      ]
     },
     "execution_count": 30,
     "metadata": {},
     "output_type": "execute_result"
    }
   ],
   "source": [
    "resample_1 = sample_from_population.sample()\n",
    "resample_1.sort(\"Total Compensation\")"
   ]
  },
  {
   "cell_type": "code",
   "execution_count": 31,
   "metadata": {},
   "outputs": [
    {
     "data": {
      "text/plain": [
       "107047.13500000001"
      ]
     },
     "execution_count": 31,
     "metadata": {},
     "output_type": "execute_result"
    }
   ],
   "source": [
    "np.median(resample_1.column('Total Compensation'))"
   ]
  },
  {
   "cell_type": "code",
   "execution_count": 32,
   "metadata": {},
   "outputs": [
    {
     "data": {
      "text/plain": [
       "107113.515"
      ]
     },
     "execution_count": 32,
     "metadata": {},
     "output_type": "execute_result"
    }
   ],
   "source": [
    "resample_2 = sample_from_population.sample()\n",
    "np.median(resample_2.column('Total Compensation'))"
   ]
  },
  {
   "cell_type": "code",
   "execution_count": 33,
   "metadata": {},
   "outputs": [
    {
     "data": {
      "image/png": "[encoded data removed]",
      "text/plain": [
       "<Figure size 432x288 with 1 Axes>"
      ]
     },
     "metadata": {
      "needs_background": "light"
     },
     "output_type": "display_data"
    }
   ],
   "source": [
    "resampled_medians = make_array()\n",
    "for i in np.arange(1000):\n",
    "    resample = sample_from_population.sample()\n",
    "    median = np.median(resample.column('Total Compensation'))\n",
    "    resampled_medians = np.append(resampled_medians, median)\n",
    "    \n",
    "Table().with_column('Resampled median', resampled_medians).hist()"
   ]
  },
  {
   "cell_type": "code",
   "execution_count": 34,
   "metadata": {},
   "outputs": [
    {
     "data": {
      "text/plain": [
       "<matplotlib.collections.PathCollection at 0x119a002e8>"
      ]
     },
     "execution_count": 34,
     "metadata": {},
     "output_type": "execute_result"
    },
    {
     "data": {
      "image/png": "[encoded data removed]",
      "text/plain": [
       "<Figure size 432x288 with 1 Axes>"
      ]
     },
     "metadata": {
      "needs_background": "light"
     },
     "output_type": "display_data"
    }
   ],
   "source": [
    "Table().with_column('Resampled median', resampled_medians).hist()\n",
    "# True population median\n",
    "pop_median = np.median(sf.column(\"Total Compensation\"))\n",
    "sam_median = np.median(sample_from_population.column('Total Compensation'))\n",
    "plots.scatter(pop_median, 0, color='red', s=400)\n",
    "plots.scatter(sam_median, 0, color='blue', s=400)\n"
   ]
  },
  {
   "cell_type": "markdown",
   "metadata": {},
   "source": [
    "## Confidence Intervals"
   ]
  },
  {
   "cell_type": "code",
   "execution_count": 35,
   "metadata": {},
   "outputs": [
    {
     "name": "stdout",
     "output_type": "stream",
     "text": [
      "95% of resampled medians were between 101016.95 and 113947.845\n"
     ]
    }
   ],
   "source": [
    "print(\"95% of resampled medians were between\", \n",
    "      percentile(2.5, resampled_medians),\n",
    "      \"and\",\n",
    "      percentile(97.5, resampled_medians))"
   ]
  },
  {
   "cell_type": "code",
   "execution_count": 36,
   "metadata": {},
   "outputs": [
    {
     "data": {
      "text/plain": [
       "<matplotlib.collections.PathCollection at 0x119c9b748>"
      ]
     },
     "execution_count": 36,
     "metadata": {},
     "output_type": "execute_result"
    },
    {
     "data": {
      "image/png": "[encoded data removed]",
      "text/plain": [
       "<Figure size 432x288 with 1 Axes>"
      ]
     },
     "metadata": {
      "needs_background": "light"
     },
     "output_type": "display_data"
    }
   ],
   "source": [
    "interval_95 = [percentile(2.5, resampled_medians),\n",
    "               percentile(97.5, resampled_medians)]\n",
    "\n",
    "Table().with_column('Resampled median', resampled_medians).hist(0)\n",
    "plots.plot(interval_95, [0, 0], color='gold', lw=5)\n",
    "pop_median = np.median(sf.column('Total Compensation'))\n",
    "sam_median = np.median(sample_from_population.column('Total Compensation'))\n",
    "plots.scatter(pop_median, 0, color='red', s=400)\n",
    "plots.scatter(sam_median, 0, color='blue', s=400)\n"
   ]
  },
  {
   "cell_type": "code",
   "execution_count": null,
   "metadata": {},
   "outputs": [],
   "source": [
    "sample_from_population = sf.sample(200)\n",
    "median_of_sample = np.median(sample_from_population.column('Total Compensation'))\n",
    "print('Sample median:', median_of_sample)"
   ]
  },
  {
   "cell_type": "code",
   "execution_count": null,
   "metadata": {},
   "outputs": [],
   "source": [
    "resampled_medians = make_array()\n",
    "for i in np.arange(1000):\n",
    "    resample = sample_from_population.sample()\n",
    "    median = np.median(resample.column('Total Compensation'))\n",
    "    resampled_medians = np.append(resampled_medians, median)\n",
    "    \n",
    "interval_95 = [percentile(2.5, resampled_medians),\n",
    "               percentile(97.5, resampled_medians)]\n",
    "\n",
    "Table().with_column('Resampled median', resampled_medians).hist()\n",
    "plots.plot(interval_95, [0, 0], color='gold', lw=5)\n",
    "pop_median = np.median(sf.column('Total Compensation'))\n",
    "sam_median = np.median(sample_from_population.column('Total Compensation'))\n",
    "plots.scatter(pop_median, 0, color='red', s=400)\n",
    "plots.scatter(sam_median, 0, color='blue', s=400)\n"
   ]
  },
  {
   "cell_type": "code",
   "execution_count": null,
   "metadata": {},
   "outputs": [],
   "source": [
    "# This simulation takes several minutes\n",
    "\n",
    "intervals = Table(['Lower', 'Upper'])\n",
    "\n",
    "for j in np.arange(100):\n",
    "    sample_from_population = sf.sample(200)\n",
    "    resampled_medians = make_array()\n",
    "    for i in np.arange(1000):\n",
    "        resample = sample_from_population.sample()\n",
    "        median = np.median(resample.column('Total Compensation'))\n",
    "        resampled_medians = np.append(resampled_medians, median)\n",
    "\n",
    "    interval_95 = [percentile(2.5, resampled_medians),\n",
    "                   percentile(97.5, resampled_medians)]\n",
    "\n",
    "    intervals.append(interval_95)\n",
    "    print('trial number', j, 'of 100')"
   ]
  },
  {
   "cell_type": "code",
   "execution_count": null,
   "metadata": {},
   "outputs": [],
   "source": [
    "truth = np.median(sf.column('Total Compensation'))\n",
    "correct = intervals.where('Lower', are.not_above(truth)).where('Upper', are.not_below(truth))\n",
    "correct.num_rows"
   ]
  }
 ],
 "metadata": {
  "kernelspec": {
   "display_name": "Python 3",
   "language": "python",
   "name": "python3"
  },
  "language_info": {
   "codemirror_mode": {
    "name": "ipython",
    "version": 3
   },
   "file_extension": ".py",
   "mimetype": "text/x-python",
   "name": "python",
   "nbconvert_exporter": "python",
   "pygments_lexer": "ipython3",
   "version": "3.7.6"
  }
 },
 "nbformat": 4,
 "nbformat_minor": 2
}
