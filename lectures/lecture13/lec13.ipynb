{
 "cells": [
  {
   "cell_type": "markdown",
   "metadata": {},
   "source": [
    "# Lecture 13: Estimation"
   ]
  },
  {
   "cell_type": "code",
   "execution_count": null,
   "metadata": {},
   "outputs": [],
   "source": [
    "#!pip install datascience\n",
    "\n",
    "from datascience import *\n",
    "import numpy as np\n",
    "\n",
    "import matplotlib.pyplot as plots\n",
    "plots.style.use('fivethirtyeight')\n",
    "%matplotlib inline"
   ]
  },
  {
   "cell_type": "markdown",
   "metadata": {},
   "source": [
    "## Estimating enemy planes"
   ]
  },
  {
   "cell_type": "code",
   "execution_count": null,
   "metadata": {},
   "outputs": [],
   "source": [
    "N = 300\n",
    "serialno = Table().with_column('Serial number', np.arange(N)+1)\n",
    "serialno"
   ]
  },
  {
   "cell_type": "code",
   "execution_count": null,
   "metadata": {},
   "outputs": [],
   "source": [
    "serialno.sample(30).column(0).max()"
   ]
  },
  {
   "cell_type": "markdown",
   "metadata": {},
   "source": [
    "### Interlude:  appending to arrays"
   ]
  },
  {
   "cell_type": "code",
   "execution_count": null,
   "metadata": {},
   "outputs": [],
   "source": [
    "a = make_array(1, 2, 3, 4, 5)\n",
    "a"
   ]
  },
  {
   "cell_type": "code",
   "execution_count": null,
   "metadata": {},
   "outputs": [],
   "source": [
    "np.append(a, 42)"
   ]
  },
  {
   "cell_type": "code",
   "execution_count": null,
   "metadata": {},
   "outputs": [],
   "source": [
    "a"
   ]
  },
  {
   "cell_type": "code",
   "execution_count": null,
   "metadata": {},
   "outputs": [],
   "source": [
    "a = np.append(a, 42)\n",
    "a"
   ]
  },
  {
   "cell_type": "markdown",
   "metadata": {},
   "source": [
    "What is the result of this code?\n",
    "\n",
    "```\n",
    "x = make_array(100, 42, 7)\n",
    "x = np.append(x, 0)\n",
    "x = np.append(x, 1)\n",
    "x\n",
    "```\n",
    "\n",
    "A. `array([100, 42, 7])`  \n",
    "B. `array([1, 0, 100, 42, 7, 0, 1])`  \n",
    "C. `array([100, 42, 7, 0, 1])`  \n",
    "D. I don't know  \n",
    "E. none of the above  "
   ]
  },
  {
   "cell_type": "code",
   "execution_count": null,
   "metadata": {},
   "outputs": [],
   "source": [
    "x = make_array(100, 42, 7)\n",
    "x = np.append(x, 0)\n",
    "x = np.append(x, 1)\n",
    "x"
   ]
  },
  {
   "cell_type": "markdown",
   "metadata": {},
   "source": [
    "### Simulation of estimation with max"
   ]
  },
  {
   "cell_type": "code",
   "execution_count": null,
   "metadata": {},
   "outputs": [],
   "source": [
    "sample_size = 10\n",
    "repetitions = 750\n",
    "\n",
    "maxes = make_array()\n",
    "\n",
    "for _ in np.arange(repetitions):\n",
    "    sampled_numbers = serialno.sample(sample_size).column(0)\n",
    "    statistic = sampled_numbers.max()\n",
    "    maxes = np.append(maxes, statistic)\n",
    "\n",
    "estimates = Table().with_column('Sample Max', maxes)\n",
    "estimates"
   ]
  },
  {
   "cell_type": "code",
   "execution_count": null,
   "metadata": {},
   "outputs": [],
   "source": [
    "estimates.hist(bins=np.arange(1, N+100, 10), unit='serial number')"
   ]
  },
  {
   "cell_type": "markdown",
   "metadata": {},
   "source": [
    "What would happen if we changed sample size to 10 instead of 30?\n",
    "\n",
    "A. The histogram would spread out, with more area to the left of 300.  \n",
    "B. The histogram would spread out, with more area to the right of 300.  \n",
    "C. The histogram would compress, with more area concentrated around 300.  \n",
    "D. I don't know  \n",
    "E. None of the above  "
   ]
  },
  {
   "cell_type": "markdown",
   "metadata": {},
   "source": [
    "### Simulation of estimate with average"
   ]
  },
  {
   "cell_type": "code",
   "execution_count": null,
   "metadata": {},
   "outputs": [],
   "source": [
    "2*np.mean(np.arange(1, 300+1))"
   ]
  },
  {
   "cell_type": "code",
   "execution_count": null,
   "metadata": {},
   "outputs": [],
   "source": [
    "sample_size = 30\n",
    "repetitions = 750\n",
    "\n",
    "double_averages = make_array()\n",
    "\n",
    "for _ in np.arange(repetitions):\n",
    "    sampled_numbers = serialno.sample(sample_size).column(0)\n",
    "    statistic = 2 * sampled_numbers.mean()\n",
    "    double_averages = np.append(double_averages, statistic)\n",
    "\n",
    "estimates = Table().with_columns(\n",
    "    '2 * average', double_averages\n",
    ")\n",
    "\n",
    "estimates"
   ]
  },
  {
   "cell_type": "code",
   "execution_count": null,
   "metadata": {},
   "outputs": [],
   "source": [
    "estimates.hist(bins=np.arange(1, N+100, 10), unit='serial number')"
   ]
  },
  {
   "cell_type": "markdown",
   "metadata": {},
   "source": [
    "### Comparison of statistics"
   ]
  },
  {
   "cell_type": "code",
   "execution_count": null,
   "metadata": {},
   "outputs": [],
   "source": [
    "sample_size = 30\n",
    "repetitions = 750\n",
    "\n",
    "maxes = make_array()\n",
    "double_averages = make_array()\n",
    "\n",
    "for _ in np.arange(repetitions):\n",
    "    sampled_numbers = serialno.sample(sample_size).column(0)\n",
    "    maxes = np.append(maxes, sampled_numbers.max())  \n",
    "    double_averages = np.append(double_averages, 2 * sampled_numbers.mean())\n",
    "\n",
    "estimates = Table().with_columns(\n",
    "    'Max', maxes,\n",
    "    '2 * average', double_averages\n",
    ")\n",
    "\n",
    "estimates"
   ]
  },
  {
   "cell_type": "code",
   "execution_count": null,
   "metadata": {},
   "outputs": [],
   "source": [
    "estimates.hist(bins=np.arange(1, N+100, 10), unit='serial number')"
   ]
  },
  {
   "cell_type": "markdown",
   "metadata": {},
   "source": [
    "**Discussion question:** which estimate would be better for the Allies?"
   ]
  },
  {
   "cell_type": "code",
   "execution_count": null,
   "metadata": {},
   "outputs": [],
   "source": []
  },
  {
   "cell_type": "code",
   "execution_count": null,
   "metadata": {},
   "outputs": [],
   "source": []
  },
  {
   "cell_type": "code",
   "execution_count": null,
   "metadata": {},
   "outputs": [],
   "source": []
  }
 ],
 "metadata": {
  "kernelspec": {
   "display_name": "Python 3",
   "language": "python",
   "name": "python3"
  },
  "language_info": {
   "codemirror_mode": {
    "name": "ipython",
    "version": 3
   },
   "file_extension": ".py",
   "mimetype": "text/x-python",
   "name": "python",
   "nbconvert_exporter": "python",
   "pygments_lexer": "ipython3",
   "version": "3.7.4"
  }
 },
 "nbformat": 4,
 "nbformat_minor": 2
}
