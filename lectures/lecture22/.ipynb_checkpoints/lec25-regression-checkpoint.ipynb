{
 "cells": [
  {
   "cell_type": "markdown",
   "metadata": {},
   "source": [
    "# Lecture 25: Linear Regression"
   ]
  },
  {
   "cell_type": "code",
   "execution_count": null,
   "metadata": {},
   "outputs": [],
   "source": [
    "from datascience import *\n",
    "import numpy as np\n",
    "\n",
    "import matplotlib.pyplot as plots\n",
    "plots.style.use('fivethirtyeight')\n",
    "%matplotlib inline"
   ]
  },
  {
   "cell_type": "markdown",
   "metadata": {},
   "source": [
    "## Review of correlation"
   ]
  },
  {
   "cell_type": "code",
   "execution_count": null,
   "metadata": {},
   "outputs": [],
   "source": [
    "hybrid = Table.read_table('hybrid.csv')\n",
    "hybrid.show(3)"
   ]
  },
  {
   "cell_type": "code",
   "execution_count": null,
   "metadata": {},
   "outputs": [],
   "source": [
    "# Visualize: is there a linear relationship between two variables?\n",
    "hybrid.scatter('acceleration', 'msrp', fit_line=True)"
   ]
  },
  {
   "cell_type": "code",
   "execution_count": null,
   "metadata": {},
   "outputs": [],
   "source": [
    "def standard_units(numbers):\n",
    "    \"Convert any array of numbers to standard units.\"\n",
    "    return (numbers - np.mean(numbers)) / np.std(numbers)  \n",
    "\n",
    "def correlation(t, x, y):\n",
    "    \"\"\"Return the correlation coefficient (r) of two variables.\"\"\"\n",
    "    return np.mean(standard_units(t.column(x)) * standard_units(t.column(y)))\n",
    "   \n",
    "def standardize(t):\n",
    "    \"Covert table t to standard units.\"\n",
    "    su = Table()\n",
    "    for label in t.labels:\n",
    "        su = su.with_column(label + ' (su)', standard_units(t.column(label)))\n",
    "    return su"
   ]
  },
  {
   "cell_type": "code",
   "execution_count": null,
   "metadata": {},
   "outputs": [],
   "source": [
    "# Quantify: how scattered are the points around a straight line?\n",
    "correlation(hybrid, 'acceleration', 'msrp')"
   ]
  },
  {
   "cell_type": "markdown",
   "metadata": {},
   "source": [
    "## Properties of correlation"
   ]
  },
  {
   "cell_type": "markdown",
   "metadata": {},
   "source": [
    "**1. Unaffected by changing units**"
   ]
  },
  {
   "cell_type": "code",
   "execution_count": null,
   "metadata": {},
   "outputs": [],
   "source": [
    "accel_msrp = hybrid.select('acceleration', 'msrp')\n",
    "correlation(accel_msrp, 'acceleration', 'msrp')"
   ]
  },
  {
   "cell_type": "code",
   "execution_count": null,
   "metadata": {},
   "outputs": [],
   "source": [
    "accel_msrp_su = standardize(accel_msrp)\n",
    "correlation(accel_msrp_su, 'acceleration (su)', 'msrp (su)')"
   ]
  },
  {
   "cell_type": "code",
   "execution_count": null,
   "metadata": {},
   "outputs": [],
   "source": [
    "accel_msrp_1k = accel_msrp.with_column(\n",
    "    'msrp ($k)', accel_msrp.column('msrp') / 1000\n",
    ")\n",
    "correlation(accel_msrp_1k, 'acceleration', 'msrp ($k)')"
   ]
  },
  {
   "cell_type": "markdown",
   "metadata": {},
   "source": [
    "Because we're measuring the **relative** spread around a straight line."
   ]
  },
  {
   "cell_type": "code",
   "execution_count": null,
   "metadata": {},
   "outputs": [],
   "source": [
    "accel_msrp.scatter('acceleration', 'msrp')\n",
    "accel_msrp_su.scatter('acceleration (su)', 'msrp (su)')\n",
    "accel_msrp_1k.scatter('acceleration', 'msrp ($k)')"
   ]
  },
  {
   "cell_type": "markdown",
   "metadata": {},
   "source": [
    "**2. Unaffected by swapping variables**"
   ]
  },
  {
   "cell_type": "code",
   "execution_count": null,
   "metadata": {},
   "outputs": [],
   "source": [
    "correlation(hybrid, 'acceleration', 'msrp')"
   ]
  },
  {
   "cell_type": "code",
   "execution_count": null,
   "metadata": {},
   "outputs": [],
   "source": [
    "correlation(hybrid, 'msrp', 'acceleration')"
   ]
  },
  {
   "cell_type": "markdown",
   "metadata": {},
   "source": [
    "Because the roles of $x$ and $y$ are symmetric in formula, and graphs are symmetric when you swap axes."
   ]
  },
  {
   "cell_type": "code",
   "execution_count": null,
   "metadata": {},
   "outputs": [],
   "source": [
    "accel_msrp.scatter('acceleration', 'msrp')\n",
    "accel_msrp.scatter('msrp', 'acceleration')"
   ]
  },
  {
   "cell_type": "markdown",
   "metadata": {},
   "source": [
    "## A little justification for the correlation formula"
   ]
  },
  {
   "cell_type": "code",
   "execution_count": null,
   "metadata": {},
   "outputs": [],
   "source": [
    "# some toy data\n",
    "t = Table().with_columns(\n",
    "    'x', make_array(1,3,4,5,7),\n",
    "    'y', make_array(5,9,7,1,13)\n",
    ")\n",
    "t\n",
    "t.scatter('x', 'y', s=80)"
   ]
  },
  {
   "cell_type": "code",
   "execution_count": null,
   "metadata": {},
   "outputs": [],
   "source": []
  },
  {
   "cell_type": "code",
   "execution_count": null,
   "metadata": {},
   "outputs": [],
   "source": [
    "correlation(t, 'x', 'y')"
   ]
  },
  {
   "cell_type": "code",
   "execution_count": null,
   "metadata": {},
   "outputs": [],
   "source": [
    "# let's plot in standard units\n",
    "# recall it's just the axes that change, not the relative positions of the data points\n",
    "\n",
    "t_su = standardize(t)\n",
    "t_su.scatter('x (su)', 'y (su)', s=80)"
   ]
  },
  {
   "cell_type": "code",
   "execution_count": null,
   "metadata": {},
   "outputs": [],
   "source": [
    "# plot the data with the size of each dot proportional\n",
    "# to the product that dot contributes to the formula\n",
    "\n",
    "t_su_prod = t_su.with_columns(\n",
    "    'product', t_su.column('x (su)') * t_su.column('y (su)'),\n",
    "    'abs product', np.abs(t_su.column('x (su)') * t_su.column('y (su)'))\n",
    ")\n",
    "t_su_prod.scatter('x (su)', 'y (su)', sizes='abs product', labels='product', s=100)\n",
    "plots.xlim(-3, 3);\n",
    "plots.ylim(-3, 3);\n",
    "plots.plot([-3, 3], [0,0], color='blue', linestyle='dashed');\n",
    "plots.plot([0,0], [-3,3], color='blue', linestyle='dashed');\n",
    "plots.text(2, 2, '+', fontsize=48);\n",
    "plots.text(-2.5, 2, '-', fontsize=64);\n",
    "plots.text(-2.75, -2.5, '+', fontsize=48);\n",
    "plots.text(2.25, -2.5, '-', fontsize=64);"
   ]
  },
  {
   "cell_type": "markdown",
   "metadata": {},
   "source": [
    "* Because axes are in standard units, $+$ quadrants have positive products, and $-$ quadrants have negative products\n",
    "* $r$ is the average of those labels on the dots\n",
    "* More big dots in $+$ quadrants brings $r$ closer to $1$\n",
    "* More big dots in $-$ quadrants brings $r$ closer to $-1$\n",
    "* Dots relatively spread out brings $r$ closer to $0$"
   ]
  },
  {
   "cell_type": "markdown",
   "metadata": {},
   "source": [
    "## Prediction using correlation"
   ]
  },
  {
   "cell_type": "code",
   "execution_count": null,
   "metadata": {},
   "outputs": [],
   "source": [
    "galton = Table.read_table('galton.csv')\n",
    "heights = galton.select('midparentHeight', 'childHeight')\\\n",
    "  .relabeled('midparentHeight', 'MidParent')\\\n",
    "  .relabeled('childHeight', 'Child')\n",
    "heights.show(3)"
   ]
  },
  {
   "cell_type": "code",
   "execution_count": null,
   "metadata": {},
   "outputs": [],
   "source": [
    "galton.show(3)"
   ]
  },
  {
   "cell_type": "code",
   "execution_count": null,
   "metadata": {},
   "outputs": [],
   "source": [
    "heights.scatter('MidParent')"
   ]
  },
  {
   "cell_type": "code",
   "execution_count": null,
   "metadata": {},
   "outputs": [],
   "source": [
    "heights_su = standardize(heights)\n",
    "heights_su.scatter('MidParent (su)')"
   ]
  },
  {
   "cell_type": "code",
   "execution_count": null,
   "metadata": {},
   "outputs": [],
   "source": [
    "def predict_child_su(new_midparent_height):\n",
    "    close_points = heights_su.where('MidParent (su)', \n",
    "                                are.between(new_midparent_height - 0.5, \n",
    "                                            new_midparent_height + 0.5))\n",
    "    return close_points.column('Child (su)').mean()    \n",
    "\n",
    "heights_su_pred = heights_su.with_column(\n",
    "    'Prediction (su)', heights_su.apply(predict_child_su, 'MidParent (su)')\n",
    ")\n",
    "heights_su_pred.scatter('MidParent (su)')"
   ]
  },
  {
   "cell_type": "markdown",
   "metadata": {},
   "source": [
    "The yellow line is the *graph of averages*.\n",
    "\n",
    "**Q:** What is the predicted height (in su) of a child whose parents have an average height?\n",
    "\n",
    "A. -1  \n",
    "B. 0  \n",
    "C. 1  \n",
    "D. Whatever $r$ is for this scatter plot  \n",
    "E. Can't answer from this plot  \n",
    "\n",
    "<br/><br/><br/><br/><br/><br/>"
   ]
  },
  {
   "cell_type": "code",
   "execution_count": null,
   "metadata": {},
   "outputs": [],
   "source": [
    "r = correlation(heights, 'MidParent', 'Child')\n",
    "r"
   ]
  },
  {
   "cell_type": "code",
   "execution_count": null,
   "metadata": {},
   "outputs": [],
   "source": [
    "galton_f = galton.where('gender',are.equal_to('female'))\n",
    "heights_f = galton_f.select('midparentHeight', 'childHeight')\\\n",
    "  .relabeled('midparentHeight', 'MidParent')\\\n",
    "  .relabeled('childHeight', 'Child')\n",
    "heights_f.show(3)"
   ]
  },
  {
   "cell_type": "code",
   "execution_count": null,
   "metadata": {},
   "outputs": [],
   "source": [
    "heights_f.scatter('MidParent')\n",
    "plots.ylim(55,80) # same as original plot\n",
    "correlation(heights_f,'MidParent','Child')"
   ]
  },
  {
   "cell_type": "markdown",
   "metadata": {},
   "source": [
    "## The graph of averages and $r$"
   ]
  },
  {
   "cell_type": "code",
   "execution_count": null,
   "metadata": {},
   "outputs": [],
   "source": [
    "heights_su_pred.scatter('MidParent (su)')\n",
    "\n",
    "# plot the line \"y = r * x\"\n",
    "plots.plot([-3, 3.5], [-3*r, 3.5*r], color='blue', lw=2);"
   ]
  },
  {
   "cell_type": "markdown",
   "metadata": {},
   "source": [
    "The line $y = r \\times x$ is a version of the graph of averages, smoothed to a line."
   ]
  },
  {
   "cell_type": "markdown",
   "metadata": {},
   "source": [
    "## Regression to the mean"
   ]
  },
  {
   "cell_type": "code",
   "execution_count": null,
   "metadata": {},
   "outputs": [],
   "source": [
    "heights_su.scatter('MidParent (su)')\n",
    "\n",
    "# Plot the \"SD line\"\n",
    "plots.plot([-3, 3.5], [-3, 3.5], color='green', lw=2);"
   ]
  },
  {
   "cell_type": "code",
   "execution_count": null,
   "metadata": {},
   "outputs": [],
   "source": [
    "heights_su.scatter('MidParent (su)')\n",
    "\n",
    "# Plot the \"SD line\"\n",
    "plots.plot([-3, 3.5], [-3, 3.5], color='green', lw=2);\n",
    "\n",
    "# plot the regression line \"y = r * x\"\n",
    "plots.plot([-3, 3.5], [-3*r, 3.5*r], color='blue', lw=2);"
   ]
  },
  {
   "cell_type": "markdown",
   "metadata": {},
   "source": [
    "Regression line is flatter than SD line:  extreme values of $x$ result in not-as-extreme values of $y$"
   ]
  },
  {
   "cell_type": "markdown",
   "metadata": {},
   "source": [
    "## Prediction by linear regression"
   ]
  },
  {
   "cell_type": "code",
   "execution_count": null,
   "metadata": {},
   "outputs": [],
   "source": [
    "parent_mean = np.mean(heights.column('MidParent'))\n",
    "parent_sd = np.std(heights.column('MidParent'))\n",
    "child_mean = np.mean(heights.column('Child'))\n",
    "child_sd = np.std(heights.column('Child'))\n",
    "print('Parent: mean =', parent_mean, '; SD =', parent_sd)\n",
    "print(' Child: mean =', child_mean, '; SD =', child_sd)\n",
    "print('     r:', r)"
   ]
  },
  {
   "cell_type": "code",
   "execution_count": null,
   "metadata": {},
   "outputs": [],
   "source": [
    "def predict_with_r(parent):\n",
    "    \"\"\"Return a prediction of the height of a child whose parents \n",
    "    have a midparent height of mp, using linear regression.\n",
    "    \"\"\"\n",
    "    parent_su = (parent - parent_mean) / parent_sd\n",
    "    child_su = r * parent_su\n",
    "    return child_su * child_sd + child_mean"
   ]
  },
  {
   "cell_type": "code",
   "execution_count": null,
   "metadata": {},
   "outputs": [],
   "source": [
    "def predict_with_average(parent):\n",
    "    \"\"\"\"Return a prediction of the height of a child whose parents \n",
    "    have a midparent height of mp, using the average of nearby parents.\n",
    "    \"\"\"\n",
    "    close_points = heights.where('MidParent', \n",
    "                                are.between(parent - 0.5, \n",
    "                                            parent + 0.5))\n",
    "    return close_points.column('Child').mean()  "
   ]
  },
  {
   "cell_type": "code",
   "execution_count": null,
   "metadata": {},
   "outputs": [],
   "source": [
    "heights.with_columns(\n",
    "    'Prediction with averages', heights.apply(predict_with_average, 'MidParent'),\n",
    "    'Prediction with r', heights.apply(predict_with_r, 'MidParent')\n",
    ").scatter('MidParent')"
   ]
  },
  {
   "cell_type": "markdown",
   "metadata": {},
   "source": [
    "## Slope and Intercept"
   ]
  },
  {
   "cell_type": "code",
   "execution_count": null,
   "metadata": {},
   "outputs": [],
   "source": [
    "def slope(t, x, y):\n",
    "    \"\"\"The slope of the regression line (original units).\"\"\"\n",
    "    r = correlation(t, x, y)\n",
    "    return r * np.std(t.column(y)) / np.std(t.column(x))\n",
    "\n",
    "def intercept(t, x, y):\n",
    "    \"\"\"The intercept of the regression line (original units).\"\"\"\n",
    "    return np.mean(t.column(y)) - slope(t, x, y) * np.mean(t.column(x))"
   ]
  },
  {
   "cell_type": "code",
   "execution_count": null,
   "metadata": {},
   "outputs": [],
   "source": [
    "predict_with_r(74)"
   ]
  },
  {
   "cell_type": "code",
   "execution_count": null,
   "metadata": {},
   "outputs": [],
   "source": [
    "def predict_with_slope_and_intercept(x):\n",
    "    s = slope(heights, 'MidParent', 'Child')\n",
    "    i = intercept(heights, 'MidParent', 'Child')\n",
    "    return s * x + i"
   ]
  },
  {
   "cell_type": "code",
   "execution_count": null,
   "metadata": {},
   "outputs": [],
   "source": [
    "predict_with_slope_and_intercept(74)"
   ]
  },
  {
   "cell_type": "code",
   "execution_count": null,
   "metadata": {},
   "outputs": [],
   "source": []
  }
 ],
 "metadata": {
  "anaconda-cloud": {},
  "kernelspec": {
   "display_name": "Python 3",
   "language": "python",
   "name": "python3"
  },
  "language_info": {
   "codemirror_mode": {
    "name": "ipython",
    "version": 3
   },
   "file_extension": ".py",
   "mimetype": "text/x-python",
   "name": "python",
   "nbconvert_exporter": "python",
   "pygments_lexer": "ipython3",
   "version": "3.7.6"
  }
 },
 "nbformat": 4,
 "nbformat_minor": 1
}
