{
 "cells": [
  {
   "cell_type": "code",
   "execution_count": 1,
   "metadata": {},
   "outputs": [],
   "source": [
    "#!pip install datascience\n",
    "from datascience import *\n",
    "import numpy as np\n",
    "\n",
    "import matplotlib.pyplot as plots\n",
    "plots.style.use('fivethirtyeight')\n",
    "%matplotlib inline"
   ]
  },
  {
   "cell_type": "markdown",
   "metadata": {},
   "source": [
    "## Alameda County Juries"
   ]
  },
  {
   "cell_type": "code",
   "execution_count": 2,
   "metadata": {},
   "outputs": [
    {
     "data": {
      "text/html": [
       "<table border=\"1\" class=\"dataframe\">\n",
       "    <thead>\n",
       "        <tr>\n",
       "            <th>Ethnicity</th> <th>Eligible</th> <th>Panels</th>\n",
       "        </tr>\n",
       "    </thead>\n",
       "    <tbody>\n",
       "        <tr>\n",
       "            <td>Asian    </td> <td>15%     </td> <td>26%   </td>\n",
       "        </tr>\n",
       "        <tr>\n",
       "            <td>Black    </td> <td>18%     </td> <td>8%    </td>\n",
       "        </tr>\n",
       "        <tr>\n",
       "            <td>Latino   </td> <td>12%     </td> <td>8%    </td>\n",
       "        </tr>\n",
       "        <tr>\n",
       "            <td>White    </td> <td>54%     </td> <td>54%   </td>\n",
       "        </tr>\n",
       "        <tr>\n",
       "            <td>Other    </td> <td>1%      </td> <td>4%    </td>\n",
       "        </tr>\n",
       "    </tbody>\n",
       "</table>"
      ],
      "text/plain": [
       "Ethnicity | Eligible | Panels\n",
       "Asian     | 15%      | 26%\n",
       "Black     | 18%      | 8%\n",
       "Latino    | 12%      | 8%\n",
       "White     | 54%      | 54%\n",
       "Other     | 1%       | 4%"
      ]
     },
     "execution_count": 2,
     "metadata": {},
     "output_type": "execute_result"
    }
   ],
   "source": [
    "# Data from an ACLU 2010 report\n",
    "# Racial and Ethnic Disparities in Alameda County Jury Pools\n",
    "# https://www.aclunc.org/sites/default/files/racial_and_ethnic_disparities_in_alameda_county_jury_pools.pdf\n",
    "\n",
    "alameda = Table().with_columns(\n",
    "    'Ethnicity', make_array('Asian', 'Black', 'Latino', 'White', 'Other'),\n",
    "    'Eligible', make_array(0.15, 0.18, 0.12, 0.54, 0.01),\n",
    "    'Panels', make_array(0.26, 0.08, 0.08, 0.54, 0.04)\n",
    ")\n",
    "\n",
    "alameda.set_format([1, 2], PercentFormatter(0))"
   ]
  },
  {
   "cell_type": "code",
   "execution_count": 3,
   "metadata": {},
   "outputs": [
    {
     "data": {
      "image/png": "[encoded data removed]",
      "text/plain": [
       "<Figure size 432x288 with 1 Axes>"
      ]
     },
     "metadata": {
      "needs_background": "light"
     },
     "output_type": "display_data"
    }
   ],
   "source": [
    "alameda.barh(0)"
   ]
  },
  {
   "cell_type": "markdown",
   "metadata": {},
   "source": [
    "## Total Variation Distance"
   ]
  },
  {
   "cell_type": "code",
   "execution_count": 4,
   "metadata": {},
   "outputs": [
    {
     "data": {
      "text/html": [
       "<table border=\"1\" class=\"dataframe\">\n",
       "    <thead>\n",
       "        <tr>\n",
       "            <th>Ethnicity</th> <th>Eligible</th> <th>Panels</th> <th>Difference</th>\n",
       "        </tr>\n",
       "    </thead>\n",
       "    <tbody>\n",
       "        <tr>\n",
       "            <td>Asian    </td> <td>15%     </td> <td>26%   </td> <td>-0.11     </td>\n",
       "        </tr>\n",
       "        <tr>\n",
       "            <td>Black    </td> <td>18%     </td> <td>8%    </td> <td>0.1       </td>\n",
       "        </tr>\n",
       "        <tr>\n",
       "            <td>Latino   </td> <td>12%     </td> <td>8%    </td> <td>0.04      </td>\n",
       "        </tr>\n",
       "        <tr>\n",
       "            <td>White    </td> <td>54%     </td> <td>54%   </td> <td>0         </td>\n",
       "        </tr>\n",
       "        <tr>\n",
       "            <td>Other    </td> <td>1%      </td> <td>4%    </td> <td>-0.03     </td>\n",
       "        </tr>\n",
       "    </tbody>\n",
       "</table>"
      ],
      "text/plain": [
       "Ethnicity | Eligible | Panels | Difference\n",
       "Asian     | 15%      | 26%    | -0.11\n",
       "Black     | 18%      | 8%     | 0.1\n",
       "Latino    | 12%      | 8%     | 0.04\n",
       "White     | 54%      | 54%    | 0\n",
       "Other     | 1%       | 4%     | -0.03"
      ]
     },
     "execution_count": 4,
     "metadata": {},
     "output_type": "execute_result"
    }
   ],
   "source": [
    "diff = alameda.with_column('Difference',\n",
    "                    alameda.column('Eligible') - alameda.column('Panels'))\n",
    "diff"
   ]
  },
  {
   "cell_type": "code",
   "execution_count": 5,
   "metadata": {},
   "outputs": [
    {
     "data": {
      "text/html": [
       "<table border=\"1\" class=\"dataframe\">\n",
       "    <thead>\n",
       "        <tr>\n",
       "            <th>Ethnicity</th> <th>Eligible</th> <th>Panels</th> <th>Difference</th> <th>Abs. Difference</th>\n",
       "        </tr>\n",
       "    </thead>\n",
       "    <tbody>\n",
       "        <tr>\n",
       "            <td>Asian    </td> <td>15%     </td> <td>26%   </td> <td>-0.11     </td> <td>0.11           </td>\n",
       "        </tr>\n",
       "        <tr>\n",
       "            <td>Black    </td> <td>18%     </td> <td>8%    </td> <td>0.1       </td> <td>0.1            </td>\n",
       "        </tr>\n",
       "        <tr>\n",
       "            <td>Latino   </td> <td>12%     </td> <td>8%    </td> <td>0.04      </td> <td>0.04           </td>\n",
       "        </tr>\n",
       "        <tr>\n",
       "            <td>White    </td> <td>54%     </td> <td>54%   </td> <td>0         </td> <td>0              </td>\n",
       "        </tr>\n",
       "        <tr>\n",
       "            <td>Other    </td> <td>1%      </td> <td>4%    </td> <td>-0.03     </td> <td>0.03           </td>\n",
       "        </tr>\n",
       "    </tbody>\n",
       "</table>"
      ],
      "text/plain": [
       "Ethnicity | Eligible | Panels | Difference | Abs. Difference\n",
       "Asian     | 15%      | 26%    | -0.11      | 0.11\n",
       "Black     | 18%      | 8%     | 0.1        | 0.1\n",
       "Latino    | 12%      | 8%     | 0.04       | 0.04\n",
       "White     | 54%      | 54%    | 0          | 0\n",
       "Other     | 1%       | 4%     | -0.03      | 0.03"
      ]
     },
     "execution_count": 5,
     "metadata": {},
     "output_type": "execute_result"
    }
   ],
   "source": [
    "abs_diff = diff.with_column('Abs. Difference',\n",
    "                        np.abs(diff.column('Difference')))\n",
    "abs_diff"
   ]
  },
  {
   "cell_type": "code",
   "execution_count": 6,
   "metadata": {},
   "outputs": [
    {
     "data": {
      "text/plain": [
       "0.14"
      ]
     },
     "execution_count": 6,
     "metadata": {},
     "output_type": "execute_result"
    }
   ],
   "source": [
    "sum(abs_diff.column('Abs. Difference')) / 2"
   ]
  },
  {
   "cell_type": "code",
   "execution_count": 7,
   "metadata": {},
   "outputs": [],
   "source": [
    "def total_variation_distance(distribution_1, distribution_2):\n",
    "    \"\"\"Each distribution is an array of proportions that sums to 1.\"\"\"\n",
    "    return np.abs(distribution_1 - distribution_2).sum()/2"
   ]
  },
  {
   "cell_type": "code",
   "execution_count": 8,
   "metadata": {},
   "outputs": [],
   "source": [
    "def table_tvd(table, label_1, label_2):\n",
    "    return total_variation_distance(table.column(label_1), table.column(label_2))"
   ]
  },
  {
   "cell_type": "code",
   "execution_count": 9,
   "metadata": {},
   "outputs": [
    {
     "data": {
      "text/plain": [
       "0.14"
      ]
     },
     "execution_count": 9,
     "metadata": {},
     "output_type": "execute_result"
    }
   ],
   "source": [
    "observed = table_tvd(alameda, 'Eligible', 'Panels')\n",
    "observed"
   ]
  },
  {
   "cell_type": "markdown",
   "metadata": {},
   "source": [
    "## Simulating the statistic"
   ]
  },
  {
   "cell_type": "code",
   "execution_count": 10,
   "metadata": {},
   "outputs": [
    {
     "data": {
      "text/html": [
       "<table border=\"1\" class=\"dataframe\">\n",
       "    <thead>\n",
       "        <tr>\n",
       "            <th>Ethnicity</th>\n",
       "        </tr>\n",
       "    </thead>\n",
       "    <tbody>\n",
       "        <tr>\n",
       "            <td>Other    </td>\n",
       "        </tr>\n",
       "        <tr>\n",
       "            <td>Black    </td>\n",
       "        </tr>\n",
       "        <tr>\n",
       "            <td>Black    </td>\n",
       "        </tr>\n",
       "        <tr>\n",
       "            <td>White    </td>\n",
       "        </tr>\n",
       "        <tr>\n",
       "            <td>Latino   </td>\n",
       "        </tr>\n",
       "        <tr>\n",
       "            <td>White    </td>\n",
       "        </tr>\n",
       "        <tr>\n",
       "            <td>Latino   </td>\n",
       "        </tr>\n",
       "        <tr>\n",
       "            <td>White    </td>\n",
       "        </tr>\n",
       "        <tr>\n",
       "            <td>White    </td>\n",
       "        </tr>\n",
       "        <tr>\n",
       "            <td>White    </td>\n",
       "        </tr>\n",
       "    </tbody>\n",
       "</table>\n",
       "<p>... (1443 rows omitted)</p>"
      ],
      "text/plain": [
       "Ethnicity\n",
       "Other\n",
       "Black\n",
       "Black\n",
       "White\n",
       "Latino\n",
       "White\n",
       "Latino\n",
       "White\n",
       "White\n",
       "White\n",
       "... (1443 rows omitted)"
      ]
     },
     "execution_count": 10,
     "metadata": {},
     "output_type": "execute_result"
    }
   ],
   "source": [
    "def get_one_simulated_panel(t, n):\n",
    "    return t.select('Ethnicity').sample(n, weights=t.column('Eligible'))\n",
    "\n",
    "get_one_simulated_panel(alameda, 1453)"
   ]
  },
  {
   "cell_type": "code",
   "execution_count": 11,
   "metadata": {},
   "outputs": [],
   "source": [
    "def simulate_once(t, n):\n",
    "    simulated_panel = get_one_simulated_panel(t, n)\n",
    "    counts = simulated_panel.group('Ethnicity')\n",
    "    sim_proportions = counts.select('Ethnicity').with_column('Random',\n",
    "                                    counts.column('count') / n)\n",
    "    sim_proportions.set_format(1, PercentFormatter(0))\n",
    "    return t.join('Ethnicity', sim_proportions)"
   ]
  },
  {
   "cell_type": "code",
   "execution_count": 12,
   "metadata": {},
   "outputs": [
    {
     "data": {
      "text/html": [
       "<table border=\"1\" class=\"dataframe\">\n",
       "    <thead>\n",
       "        <tr>\n",
       "            <th>Ethnicity</th> <th>Eligible</th> <th>Panels</th> <th>Random</th>\n",
       "        </tr>\n",
       "    </thead>\n",
       "    <tbody>\n",
       "        <tr>\n",
       "            <td>Asian    </td> <td>15%     </td> <td>26%   </td> <td>15%   </td>\n",
       "        </tr>\n",
       "        <tr>\n",
       "            <td>Black    </td> <td>18%     </td> <td>8%    </td> <td>19%   </td>\n",
       "        </tr>\n",
       "        <tr>\n",
       "            <td>Latino   </td> <td>12%     </td> <td>8%    </td> <td>12%   </td>\n",
       "        </tr>\n",
       "        <tr>\n",
       "            <td>Other    </td> <td>1%      </td> <td>4%    </td> <td>1%    </td>\n",
       "        </tr>\n",
       "        <tr>\n",
       "            <td>White    </td> <td>54%     </td> <td>54%   </td> <td>53%   </td>\n",
       "        </tr>\n",
       "    </tbody>\n",
       "</table>"
      ],
      "text/plain": [
       "Ethnicity | Eligible | Panels | Random\n",
       "Asian     | 15%      | 26%    | 15%\n",
       "Black     | 18%      | 8%     | 19%\n",
       "Latino    | 12%      | 8%     | 12%\n",
       "Other     | 1%       | 4%     | 1%\n",
       "White     | 54%      | 54%    | 53%"
      ]
     },
     "execution_count": 12,
     "metadata": {},
     "output_type": "execute_result"
    }
   ],
   "source": [
    "simulate_once(alameda, 1453)"
   ]
  },
  {
   "cell_type": "code",
   "execution_count": 13,
   "metadata": {},
   "outputs": [
    {
     "data": {
      "text/html": [
       "<table border=\"1\" class=\"dataframe\">\n",
       "    <thead>\n",
       "        <tr>\n",
       "            <th>TVD</th>\n",
       "        </tr>\n",
       "    </thead>\n",
       "    <tbody>\n",
       "        <tr>\n",
       "            <td>0.0196284 </td>\n",
       "        </tr>\n",
       "        <tr>\n",
       "            <td>0.0336545 </td>\n",
       "        </tr>\n",
       "        <tr>\n",
       "            <td>0.0116311 </td>\n",
       "        </tr>\n",
       "        <tr>\n",
       "            <td>0.00958706</td>\n",
       "        </tr>\n",
       "        <tr>\n",
       "            <td>0.020351  </td>\n",
       "        </tr>\n",
       "        <tr>\n",
       "            <td>0.0205781 </td>\n",
       "        </tr>\n",
       "        <tr>\n",
       "            <td>0.0150723 </td>\n",
       "        </tr>\n",
       "        <tr>\n",
       "            <td>0.0113833 </td>\n",
       "        </tr>\n",
       "        <tr>\n",
       "            <td>0.0147488 </td>\n",
       "        </tr>\n",
       "        <tr>\n",
       "            <td>0.0226979 </td>\n",
       "        </tr>\n",
       "    </tbody>\n",
       "</table>\n",
       "<p>... (990 rows omitted)</p>"
      ],
      "text/plain": [
       "TVD\n",
       "0.0196284\n",
       "0.0336545\n",
       "0.0116311\n",
       "0.00958706\n",
       "0.020351\n",
       "0.0205781\n",
       "0.0150723\n",
       "0.0113833\n",
       "0.0147488\n",
       "0.0226979\n",
       "... (990 rows omitted)"
      ]
     },
     "execution_count": 13,
     "metadata": {},
     "output_type": "execute_result"
    }
   ],
   "source": [
    "# Compute the empirical distribution of TVDs\n",
    "\n",
    "tvds = make_array()\n",
    "\n",
    "for i in np.arange(1000): # 1000 repetitions of the simulation\n",
    "    sim_results = simulate_once(alameda, 1453)\n",
    "    tvds = np.append(tvds, table_tvd(sim_results, 'Eligible', 'Random'))\n",
    "\n",
    "results = Table().with_column('TVD', tvds)\n",
    "results"
   ]
  },
  {
   "cell_type": "code",
   "execution_count": 14,
   "metadata": {},
   "outputs": [
    {
     "data": {
      "image/png": "[encoded data removed]",
      "text/plain": [
       "<Figure size 432x288 with 1 Axes>"
      ]
     },
     "metadata": {
      "needs_background": "light"
     },
     "output_type": "display_data"
    }
   ],
   "source": [
    "results.hist(bins=np.arange(0, 0.2, 0.005))"
   ]
  },
  {
   "cell_type": "markdown",
   "metadata": {},
   "source": [
    "## P-value"
   ]
  },
  {
   "cell_type": "code",
   "execution_count": 15,
   "metadata": {},
   "outputs": [
    {
     "data": {
      "text/plain": [
       "0.0"
      ]
     },
     "execution_count": 15,
     "metadata": {},
     "output_type": "execute_result"
    }
   ],
   "source": [
    "results.where('TVD', are.above_or_equal_to(0.14)).num_rows / results.num_rows"
   ]
  },
  {
   "cell_type": "markdown",
   "metadata": {},
   "source": [
    "## Swain v. Alabama, repeat"
   ]
  },
  {
   "cell_type": "code",
   "execution_count": 38,
   "metadata": {},
   "outputs": [
    {
     "data": {
      "text/html": [
       "<table border=\"1\" class=\"dataframe\">\n",
       "    <thead>\n",
       "        <tr>\n",
       "            <th>Ethnicity</th> <th>Eligible</th> <th>Panel</th>\n",
       "        </tr>\n",
       "    </thead>\n",
       "    <tbody>\n",
       "        <tr>\n",
       "            <td>Black    </td> <td>26%     </td> <td>8%   </td>\n",
       "        </tr>\n",
       "        <tr>\n",
       "            <td>Other    </td> <td>74%     </td> <td>92%  </td>\n",
       "        </tr>\n",
       "    </tbody>\n",
       "</table>"
      ],
      "text/plain": [
       "Ethnicity | Eligible | Panel\n",
       "Black     | 26%      | 8%\n",
       "Other     | 74%      | 92%"
      ]
     },
     "execution_count": 38,
     "metadata": {},
     "output_type": "execute_result"
    }
   ],
   "source": [
    "swain = Table().with_columns(\n",
    "    'Ethnicity', make_array('Black', 'Other'),\n",
    "    'Eligible', make_array(0.26, 0.74),\n",
    "    'Panel', make_array(0.08, 0.92)\n",
    ")\n",
    "\n",
    "swain.set_format([1, 2], PercentFormatter(0))"
   ]
  },
  {
   "cell_type": "code",
   "execution_count": 39,
   "metadata": {
    "scrolled": true
   },
   "outputs": [
    {
     "data": {
      "image/png": "[encoded data removed]",
      "text/plain": [
       "<Figure size 432x288 with 1 Axes>"
      ]
     },
     "metadata": {
      "needs_background": "light"
     },
     "output_type": "display_data"
    }
   ],
   "source": [
    "swain.barh(0)"
   ]
  },
  {
   "cell_type": "code",
   "execution_count": 40,
   "metadata": {},
   "outputs": [
    {
     "data": {
      "text/plain": [
       "0.18000000000000002"
      ]
     },
     "execution_count": 40,
     "metadata": {},
     "output_type": "execute_result"
    }
   ],
   "source": [
    "observed = table_tvd(swain, 'Eligible', 'Panel')\n",
    "observed"
   ]
  },
  {
   "cell_type": "code",
   "execution_count": 41,
   "metadata": {},
   "outputs": [
    {
     "data": {
      "text/html": [
       "<table border=\"1\" class=\"dataframe\">\n",
       "    <thead>\n",
       "        <tr>\n",
       "            <th>Ethnicity</th> <th>Eligible</th> <th>Panel</th> <th>Random</th>\n",
       "        </tr>\n",
       "    </thead>\n",
       "    <tbody>\n",
       "        <tr>\n",
       "            <td>Black    </td> <td>26%     </td> <td>8%   </td> <td>26%   </td>\n",
       "        </tr>\n",
       "        <tr>\n",
       "            <td>Other    </td> <td>74%     </td> <td>92%  </td> <td>74%   </td>\n",
       "        </tr>\n",
       "    </tbody>\n",
       "</table>"
      ],
      "text/plain": [
       "Ethnicity | Eligible | Panel | Random\n",
       "Black     | 26%      | 8%    | 26%\n",
       "Other     | 74%      | 92%   | 74%"
      ]
     },
     "execution_count": 41,
     "metadata": {},
     "output_type": "execute_result"
    }
   ],
   "source": [
    "simulate_once(swain, 100)"
   ]
  },
  {
   "cell_type": "code",
   "execution_count": 42,
   "metadata": {},
   "outputs": [
    {
     "data": {
      "text/html": [
       "<table border=\"1\" class=\"dataframe\">\n",
       "    <thead>\n",
       "        <tr>\n",
       "            <th>TVD between the population & a random sample</th>\n",
       "        </tr>\n",
       "    </thead>\n",
       "    <tbody>\n",
       "        <tr>\n",
       "            <td>0.03                                        </td>\n",
       "        </tr>\n",
       "        <tr>\n",
       "            <td>0.05                                        </td>\n",
       "        </tr>\n",
       "        <tr>\n",
       "            <td>0.02                                        </td>\n",
       "        </tr>\n",
       "        <tr>\n",
       "            <td>0.04                                        </td>\n",
       "        </tr>\n",
       "        <tr>\n",
       "            <td>0.02                                        </td>\n",
       "        </tr>\n",
       "        <tr>\n",
       "            <td>0.07                                        </td>\n",
       "        </tr>\n",
       "        <tr>\n",
       "            <td>0.02                                        </td>\n",
       "        </tr>\n",
       "        <tr>\n",
       "            <td>0                                           </td>\n",
       "        </tr>\n",
       "        <tr>\n",
       "            <td>0.02                                        </td>\n",
       "        </tr>\n",
       "        <tr>\n",
       "            <td>0                                           </td>\n",
       "        </tr>\n",
       "    </tbody>\n",
       "</table>\n",
       "<p>... (9990 rows omitted)</p>"
      ],
      "text/plain": [
       "TVD between the population & a random sample\n",
       "0.03\n",
       "0.05\n",
       "0.02\n",
       "0.04\n",
       "0.02\n",
       "0.07\n",
       "0.02\n",
       "0\n",
       "0.02\n",
       "0\n",
       "... (9990 rows omitted)"
      ]
     },
     "execution_count": 42,
     "metadata": {},
     "output_type": "execute_result"
    }
   ],
   "source": [
    "# Compute the empirical distribution of TVDs\n",
    "\n",
    "tvds = make_array()\n",
    "\n",
    "for i in np.arange(10000): # 10000 repetitions of the simulation\n",
    "    sim_results = simulate_once(swain, 100)\n",
    "    tvds = np.append(tvds, table_tvd(sim_results, 'Eligible', 'Random'))\n",
    "\n",
    "results = Table().with_column('TVD between the population & a random sample', tvds)\n",
    "results"
   ]
  },
  {
   "cell_type": "code",
   "execution_count": 43,
   "metadata": {},
   "outputs": [
    {
     "data": {
      "image/png": "[encoded data removed]",
      "text/plain": [
       "<Figure size 432x288 with 1 Axes>"
      ]
     },
     "metadata": {
      "needs_background": "light"
     },
     "output_type": "display_data"
    }
   ],
   "source": [
    "results.hist(bins=np.arange(0, 0.20, 0.010))"
   ]
  },
  {
   "cell_type": "code",
   "execution_count": 44,
   "metadata": {},
   "outputs": [
    {
     "data": {
      "text/plain": [
       "0.0"
      ]
     },
     "execution_count": 44,
     "metadata": {},
     "output_type": "execute_result"
    }
   ],
   "source": [
    "results.where('TVD between the population & a random sample', are.above_or_equal_to(observed)).num_rows / results.num_rows"
   ]
  },
  {
   "cell_type": "markdown",
   "metadata": {},
   "source": [
    "# Birth months"
   ]
  },
  {
   "cell_type": "markdown",
   "metadata": {},
   "source": [
    "What month were you born in?\n",
    "\n",
    "* A) Jan-Mar\n",
    "* B) Apr-Jun\n",
    "* C) Jul-Sep\n",
    "* D) Oct-Dec"
   ]
  },
  {
   "cell_type": "code",
   "execution_count": 55,
   "metadata": {},
   "outputs": [
    {
     "data": {
      "text/html": [
       "<table border=\"1\" class=\"dataframe\">\n",
       "    <thead>\n",
       "        <tr>\n",
       "            <th>Month</th> <th>Count</th>\n",
       "        </tr>\n",
       "    </thead>\n",
       "    <tbody>\n",
       "        <tr>\n",
       "            <td>Jan-Mar</td> <td>5    </td>\n",
       "        </tr>\n",
       "        <tr>\n",
       "            <td>Apr-Jun</td> <td>5    </td>\n",
       "        </tr>\n",
       "        <tr>\n",
       "            <td>Jul-Sep</td> <td>5    </td>\n",
       "        </tr>\n",
       "        <tr>\n",
       "            <td>Oct-Dec</td> <td>5    </td>\n",
       "        </tr>\n",
       "    </tbody>\n",
       "</table>"
      ],
      "text/plain": [
       "Month   | Count\n",
       "Jan-Mar | 5\n",
       "Apr-Jun | 5\n",
       "Jul-Sep | 5\n",
       "Oct-Dec | 5"
      ]
     },
     "execution_count": 55,
     "metadata": {},
     "output_type": "execute_result"
    }
   ],
   "source": [
    "birth_month = Table().with_columns(\n",
    "    \"Month\", make_array(\"Jan-Mar\", \"Apr-Jun\", \"Jul-Sep\", \"Oct-Dec\"),\n",
    "    \"Count\", make_array(5,5,5,5))\n",
    "birth_month"
   ]
  },
  {
   "cell_type": "code",
   "execution_count": 56,
   "metadata": {},
   "outputs": [
    {
     "data": {
      "text/plain": [
       "0.0"
      ]
     },
     "execution_count": 56,
     "metadata": {},
     "output_type": "execute_result"
    }
   ],
   "source": [
    "size_of_class = sum(birth_month.column(\"Count\"))\n",
    "observed = sum(abs(birth_month.column(\"Count\")/size_of_class - .25))\n",
    "observed"
   ]
  },
  {
   "cell_type": "markdown",
   "metadata": {},
   "source": [
    "How likely is this distribution of birth months?"
   ]
  },
  {
   "cell_type": "code",
   "execution_count": 57,
   "metadata": {},
   "outputs": [
    {
     "data": {
      "text/html": [
       "<table border=\"1\" class=\"dataframe\">\n",
       "    <thead>\n",
       "        <tr>\n",
       "            <th>Month</th> <th>count</th>\n",
       "        </tr>\n",
       "    </thead>\n",
       "    <tbody>\n",
       "        <tr>\n",
       "            <td>Apr-Jun</td> <td>2    </td>\n",
       "        </tr>\n",
       "        <tr>\n",
       "            <td>Jan-Mar</td> <td>5    </td>\n",
       "        </tr>\n",
       "        <tr>\n",
       "            <td>Jul-Sep</td> <td>8    </td>\n",
       "        </tr>\n",
       "        <tr>\n",
       "            <td>Oct-Dec</td> <td>5    </td>\n",
       "        </tr>\n",
       "    </tbody>\n",
       "</table>"
      ],
      "text/plain": [
       "Month   | count\n",
       "Apr-Jun | 2\n",
       "Jan-Mar | 5\n",
       "Jul-Sep | 8\n",
       "Oct-Dec | 5"
      ]
     },
     "execution_count": 57,
     "metadata": {},
     "output_type": "execute_result"
    }
   ],
   "source": [
    "random_counts = birth_month.select(\"Month\").sample(size_of_class).group(\"Month\")\n",
    "random_counts"
   ]
  },
  {
   "cell_type": "code",
   "execution_count": 58,
   "metadata": {},
   "outputs": [],
   "source": [
    "tvds = make_array()\n",
    "for i in np.arange(10000): # 10000 repetitions\n",
    "    random_counts = birth_month.select(\"Month\").sample(size_of_class).group(\"Month\").column(\"count\")\n",
    "    tvd = sum(abs(random_counts/sum(random_counts) - .25))\n",
    "    tvds = np.append(tvds, tvd)\n",
    "    \n",
    "results = Table().with_column('TVD', tvds)"
   ]
  },
  {
   "cell_type": "code",
   "execution_count": 59,
   "metadata": {},
   "outputs": [
    {
     "data": {
      "text/html": [
       "<table border=\"1\" class=\"dataframe\">\n",
       "    <thead>\n",
       "        <tr>\n",
       "            <th>TVD</th>\n",
       "        </tr>\n",
       "    </thead>\n",
       "    <tbody>\n",
       "        <tr>\n",
       "            <td>0.2 </td>\n",
       "        </tr>\n",
       "        <tr>\n",
       "            <td>0.6 </td>\n",
       "        </tr>\n",
       "        <tr>\n",
       "            <td>0.2 </td>\n",
       "        </tr>\n",
       "        <tr>\n",
       "            <td>0.3 </td>\n",
       "        </tr>\n",
       "        <tr>\n",
       "            <td>0.1 </td>\n",
       "        </tr>\n",
       "        <tr>\n",
       "            <td>0.3 </td>\n",
       "        </tr>\n",
       "        <tr>\n",
       "            <td>0.3 </td>\n",
       "        </tr>\n",
       "        <tr>\n",
       "            <td>0.1 </td>\n",
       "        </tr>\n",
       "        <tr>\n",
       "            <td>0.2 </td>\n",
       "        </tr>\n",
       "        <tr>\n",
       "            <td>0.3 </td>\n",
       "        </tr>\n",
       "    </tbody>\n",
       "</table>\n",
       "<p>... (9990 rows omitted)</p>"
      ],
      "text/plain": [
       "TVD\n",
       "0.2\n",
       "0.6\n",
       "0.2\n",
       "0.3\n",
       "0.1\n",
       "0.3\n",
       "0.3\n",
       "0.1\n",
       "0.2\n",
       "0.3\n",
       "... (9990 rows omitted)"
      ]
     },
     "execution_count": 59,
     "metadata": {},
     "output_type": "execute_result"
    }
   ],
   "source": [
    "results"
   ]
  },
  {
   "cell_type": "code",
   "execution_count": 60,
   "metadata": {},
   "outputs": [
    {
     "data": {
      "image/png": "[encoded data removed]",
      "text/plain": [
       "<Figure size 432x288 with 1 Axes>"
      ]
     },
     "metadata": {
      "needs_background": "light"
     },
     "output_type": "display_data"
    }
   ],
   "source": [
    "results.hist()"
   ]
  },
  {
   "cell_type": "code",
   "execution_count": 52,
   "metadata": {},
   "outputs": [
    {
     "data": {
      "text/plain": [
       "1.0"
      ]
     },
     "execution_count": 52,
     "metadata": {},
     "output_type": "execute_result"
    }
   ],
   "source": [
    "results.where('TVD', are.above_or_equal_to(observed)).num_rows / 10000"
   ]
  },
  {
   "cell_type": "code",
   "execution_count": null,
   "metadata": {},
   "outputs": [],
   "source": []
  }
 ],
 "metadata": {
  "kernelspec": {
   "display_name": "Python 3",
   "language": "python",
   "name": "python3"
  },
  "language_info": {
   "codemirror_mode": {
    "name": "ipython",
    "version": 3
   },
   "file_extension": ".py",
   "mimetype": "text/x-python",
   "name": "python",
   "nbconvert_exporter": "python",
   "pygments_lexer": "ipython3",
   "version": "3.7.4"
  }
 },
 "nbformat": 4,
 "nbformat_minor": 2
}
