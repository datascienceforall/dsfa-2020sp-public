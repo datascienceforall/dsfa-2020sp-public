{
 "cells": [
  {
   "cell_type": "markdown",
   "metadata": {},
   "source": [
    "# Lecture 23: Linear Regression"
   ]
  },
  {
   "cell_type": "code",
   "execution_count": null,
   "metadata": {},
   "outputs": [],
   "source": [
    "from datascience import *\n",
    "import numpy as np\n",
    "\n",
    "import matplotlib.pyplot as plots\n",
    "plots.style.use('fivethirtyeight')\n",
    "%matplotlib inline"
   ]
  },
  {
   "cell_type": "markdown",
   "metadata": {},
   "source": [
    "## Review of correlation"
   ]
  },
  {
   "cell_type": "code",
   "execution_count": null,
   "metadata": {},
   "outputs": [],
   "source": [
    "hybrid = Table.read_table('hybrid.csv')\n",
    "hybrid.show(3)"
   ]
  },
  {
   "cell_type": "code",
   "execution_count": null,
   "metadata": {},
   "outputs": [],
   "source": [
    "# Visualize: is there a linear relationship between two variables?\n",
    "hybrid.scatter('acceleration', 'msrp', fit_line=True)"
   ]
  },
  {
   "cell_type": "code",
   "execution_count": null,
   "metadata": {},
   "outputs": [],
   "source": [
    "def standard_units(numbers):\n",
    "    \"Convert any array of numbers to standard units.\"\n",
    "    return (numbers - np.mean(numbers)) / np.std(numbers)  \n",
    "\n",
    "def correlation(t, x, y):\n",
    "    \"\"\"Return the correlation coefficient (r) of two variables.\"\"\"\n",
    "    return np.mean(standard_units(t.column(x)) * standard_units(t.column(y)))\n",
    "   \n",
    "def standardize(t):\n",
    "    \"Covert table t to standard units.\"\n",
    "    su = Table()\n",
    "    for label in t.labels:\n",
    "        su = su.with_column(label + ' (su)', standard_units(t.column(label)))\n",
    "    return su"
   ]
  },
  {
   "cell_type": "code",
   "execution_count": null,
   "metadata": {},
   "outputs": [],
   "source": [
    "# Quantify: how scattered are the points around a straight line?\n",
    "correlation(hybrid, 'acceleration', 'msrp')"
   ]
  },
  {
   "cell_type": "markdown",
   "metadata": {},
   "source": [
    "## Prediction using correlation"
   ]
  },
  {
   "cell_type": "code",
   "execution_count": null,
   "metadata": {},
   "outputs": [],
   "source": [
    "galton = Table.read_table('galton.csv')\n",
    "heights = galton.select('midparentHeight', 'childHeight')\\\n",
    "  .relabeled('midparentHeight', 'MidParent')\\\n",
    "  .relabeled('childHeight', 'Child')\n",
    "heights.show(3)"
   ]
  },
  {
   "cell_type": "code",
   "execution_count": null,
   "metadata": {},
   "outputs": [],
   "source": [
    "galton.show(3)"
   ]
  },
  {
   "cell_type": "code",
   "execution_count": null,
   "metadata": {},
   "outputs": [],
   "source": [
    "heights.scatter('MidParent')"
   ]
  },
  {
   "cell_type": "code",
   "execution_count": null,
   "metadata": {},
   "outputs": [],
   "source": [
    "heights_su = standardize(heights)\n",
    "heights_su.scatter('MidParent (su)')"
   ]
  },
  {
   "cell_type": "code",
   "execution_count": null,
   "metadata": {},
   "outputs": [],
   "source": [
    "def predict_child_su(new_midparent_height):\n",
    "    close_points = heights_su.where('MidParent (su)', \n",
    "                                are.between(new_midparent_height - 0.5, \n",
    "                                            new_midparent_height + 0.5))\n",
    "    return close_points.column('Child (su)').mean()    \n",
    "\n",
    "heights_su_pred = heights_su.with_column(\n",
    "    'Prediction (su)', heights_su.apply(predict_child_su, 'MidParent (su)')\n",
    ")\n",
    "heights_su_pred.scatter('MidParent (su)')"
   ]
  },
  {
   "cell_type": "markdown",
   "metadata": {},
   "source": [
    "The yellow line is the *graph of averages*."
   ]
  },
  {
   "cell_type": "code",
   "execution_count": null,
   "metadata": {},
   "outputs": [],
   "source": [
    "r = correlation(heights, 'MidParent', 'Child')\n",
    "r"
   ]
  },
  {
   "cell_type": "markdown",
   "metadata": {},
   "source": [
    "## The graph of averages and $r$"
   ]
  },
  {
   "cell_type": "code",
   "execution_count": null,
   "metadata": {},
   "outputs": [],
   "source": [
    "heights_su_pred.scatter('MidParent (su)')\n",
    "\n",
    "# plot the line \"y = r * x\"\n",
    "plots.plot([-3, 3.5], [-3*r, 3.5*r], color='blue', lw=2);"
   ]
  },
  {
   "cell_type": "markdown",
   "metadata": {},
   "source": [
    "The line $y = r \\times x$ is a version of the graph of averages, smoothed to a line."
   ]
  },
  {
   "cell_type": "markdown",
   "metadata": {},
   "source": [
    "## Prediction by linear regression"
   ]
  },
  {
   "cell_type": "code",
   "execution_count": null,
   "metadata": {},
   "outputs": [],
   "source": [
    "parent_mean = np.mean(heights.column('MidParent'))\n",
    "parent_sd = np.std(heights.column('MidParent'))\n",
    "child_mean = np.mean(heights.column('Child'))\n",
    "child_sd = np.std(heights.column('Child'))\n",
    "print('Parent: mean =', parent_mean, '; SD =', parent_sd)\n",
    "print(' Child: mean =', child_mean, '; SD =', child_sd)\n",
    "print('     r:', r)"
   ]
  },
  {
   "cell_type": "code",
   "execution_count": null,
   "metadata": {},
   "outputs": [],
   "source": [
    "def predict_with_r(parent):\n",
    "    \"\"\"Return a prediction of the height of a child whose parents \n",
    "    have a midparent height of mp, using linear regression.\n",
    "    \"\"\"\n",
    "    parent_su = (parent - parent_mean) / parent_sd\n",
    "    child_su = r * parent_su\n",
    "    return child_su * child_sd + child_mean"
   ]
  },
  {
   "cell_type": "code",
   "execution_count": null,
   "metadata": {},
   "outputs": [],
   "source": [
    "def predict_with_average(parent):\n",
    "    \"\"\"\"Return a prediction of the height of a child whose parents \n",
    "    have a midparent height of mp, using the average of nearby parents.\n",
    "    \"\"\"\n",
    "    close_points = heights.where('MidParent', \n",
    "                                are.between(parent - 0.5, \n",
    "                                            parent + 0.5))\n",
    "    return close_points.column('Child').mean()  "
   ]
  },
  {
   "cell_type": "code",
   "execution_count": null,
   "metadata": {
    "scrolled": true
   },
   "outputs": [],
   "source": [
    "heights.with_columns(\n",
    "    'Prediction with averages', heights.apply(predict_with_average, 'MidParent'),\n",
    "    'Prediction with r', heights.apply(predict_with_r, 'MidParent')\n",
    ").scatter('MidParent')"
   ]
  },
  {
   "cell_type": "markdown",
   "metadata": {},
   "source": [
    "## Slope and Intercept"
   ]
  },
  {
   "cell_type": "code",
   "execution_count": null,
   "metadata": {},
   "outputs": [],
   "source": [
    "def slope(t, x, y):\n",
    "    \"\"\"The slope of the regression line (original units).\"\"\"\n",
    "    r = correlation(t, x, y)\n",
    "    return r * np.std(t.column(y)) / np.std(t.column(x))\n",
    "\n",
    "def intercept(t, x, y):\n",
    "    \"\"\"The intercept of the regression line (original units).\"\"\"\n",
    "    return np.mean(t.column(y)) - slope(t, x, y) * np.mean(t.column(x))"
   ]
  },
  {
   "cell_type": "code",
   "execution_count": null,
   "metadata": {},
   "outputs": [],
   "source": [
    "predict_with_r(74)"
   ]
  },
  {
   "cell_type": "code",
   "execution_count": null,
   "metadata": {},
   "outputs": [],
   "source": [
    "def predict_with_slope_and_intercept(x):\n",
    "    s = slope(heights, 'MidParent', 'Child')\n",
    "    i = intercept(heights, 'MidParent', 'Child')\n",
    "    return s * x + i"
   ]
  },
  {
   "cell_type": "code",
   "execution_count": null,
   "metadata": {},
   "outputs": [],
   "source": [
    "predict_with_slope_and_intercept(74)"
   ]
  },
  {
   "cell_type": "code",
   "execution_count": null,
   "metadata": {},
   "outputs": [],
   "source": [
    "# From an actual class, but anonymized\n",
    "exams = Table().read_table('exams.csv')\n",
    "exams.show(3)"
   ]
  },
  {
   "cell_type": "code",
   "execution_count": null,
   "metadata": {},
   "outputs": [],
   "source": [
    "# Does linear regression look appropriate?\n",
    "exams.scatter('prelim', fit_line=True)\n",
    "plots.xlim(35, 105);\n",
    "plots.ylim(35, 105);"
   ]
  },
  {
   "cell_type": "code",
   "execution_count": null,
   "metadata": {},
   "outputs": [],
   "source": [
    "r = correlation(exams, 'prelim', 'final')\n",
    "s = slope(exams, 'prelim', 'final')\n",
    "i = intercept(exams, 'prelim', 'final')\n",
    "print('Correlation: ', r)\n",
    "print('Slope:       ', s)\n",
    "print('Intercept:   ', i)"
   ]
  },
  {
   "cell_type": "markdown",
   "metadata": {},
   "source": [
    "**Q:** Which equation would you use to predict a final exam score $y$ given a prelim score $x$, both in original units (percent)?\n",
    "\n",
    "A. $y = r \\times x$  \n",
    "B. $y = r \\times x + i$  \n",
    "C. $y = s \\times x + i$  \n",
    "D. none of the above\n"
   ]
  },
  {
   "cell_type": "code",
   "execution_count": null,
   "metadata": {},
   "outputs": [],
   "source": [
    "def predict_final(prelim):\n",
    "    return s * prelim + i"
   ]
  },
  {
   "cell_type": "code",
   "execution_count": null,
   "metadata": {},
   "outputs": [],
   "source": [
    "predict_final(100) # regression to the mean?"
   ]
  },
  {
   "cell_type": "code",
   "execution_count": null,
   "metadata": {},
   "outputs": [],
   "source": [
    "predict_final(30)"
   ]
  },
  {
   "cell_type": "code",
   "execution_count": null,
   "metadata": {},
   "outputs": [],
   "source": [
    "exams.scatter('prelim')\n",
    "plots.xlim(35, 105);\n",
    "plots.ylim(35, 105);\n",
    "\n",
    "# plot the regression line\n",
    "x = make_array(40, 100)\n",
    "y = s * x + i\n",
    "plots.plot(x, y);"
   ]
  },
  {
   "cell_type": "markdown",
   "metadata": {},
   "source": [
    "## Abuses of $r$"
   ]
  },
  {
   "cell_type": "markdown",
   "metadata": {},
   "source": [
    "**1. Summarizing non-linear data**"
   ]
  },
  {
   "cell_type": "code",
   "execution_count": null,
   "metadata": {},
   "outputs": [],
   "source": [
    "new_x = np.arange(-4, 4.1, 0.5)\n",
    "nonlinear = Table().with_columns(\n",
    "        'x', new_x,\n",
    "        'y', new_x**2\n",
    "    )\n",
    "nonlinear.scatter('x', 'y', s=30, color='r')"
   ]
  },
  {
   "cell_type": "code",
   "execution_count": null,
   "metadata": {},
   "outputs": [],
   "source": [
    "correlation(nonlinear, 'x', 'y')"
   ]
  },
  {
   "cell_type": "markdown",
   "metadata": {},
   "source": [
    "There is definitely a relationship between $x$ and $y$.  It's just not linear."
   ]
  },
  {
   "cell_type": "markdown",
   "metadata": {},
   "source": [
    "**2. Eliminating outliers to \"improve\" $r$**"
   ]
  },
  {
   "cell_type": "code",
   "execution_count": null,
   "metadata": {},
   "outputs": [],
   "source": [
    "line = Table().with_columns(\n",
    "        'x', [1, 2, 3, 4],\n",
    "        'y', [1, 2, 3, 4]\n",
    "    )\n",
    "line.scatter('x', 'y', s=30, color='r')"
   ]
  },
  {
   "cell_type": "code",
   "execution_count": null,
   "metadata": {},
   "outputs": [],
   "source": [
    "correlation(line, 'x', 'y')"
   ]
  },
  {
   "cell_type": "code",
   "execution_count": null,
   "metadata": {},
   "outputs": [],
   "source": [
    "outlier = Table().with_columns(\n",
    "        'x', [1, 2, 3, 4, 5],\n",
    "        'y', [1, 2, 3, 4, 0]\n",
    "    )\n",
    "outlier.scatter('x', 'y', s=30, color='r')"
   ]
  },
  {
   "cell_type": "code",
   "execution_count": null,
   "metadata": {},
   "outputs": [],
   "source": [
    "correlation(outlier, 'x', 'y')"
   ]
  },
  {
   "cell_type": "markdown",
   "metadata": {},
   "source": [
    "Because weight that outlier contributes to product is huge and offsets the linearity of the rest of the data.  **Do not rush to eliminate outliers from data.**  Maybe that data point is a measurement error, but maybe it indicates underlying population is non-linear."
   ]
  },
  {
   "cell_type": "markdown",
   "metadata": {},
   "source": [
    "**3. Drawing conclusions about individuals based on data about groups**"
   ]
  },
  {
   "cell_type": "code",
   "execution_count": null,
   "metadata": {},
   "outputs": [],
   "source": [
    "# Participation rate = % of high school seniors who took SAT\n",
    "# Scores are average scores across state\n",
    "sat2014 = Table.read_table('sat2014.csv')\n",
    "sat2014.sort('Combined', descending=True)\n",
    "#sat2014.sort('Participation Rate',descending=True)"
   ]
  },
  {
   "cell_type": "code",
   "execution_count": null,
   "metadata": {},
   "outputs": [],
   "source": [
    "sat2014.scatter('Participation Rate', 'Combined')\n",
    "correlation(sat2014, 'Participation Rate', 'Combined')"
   ]
  },
  {
   "cell_type": "markdown",
   "metadata": {},
   "source": [
    "**Q:** States with higher participation rates have lower average scores.  Why?"
   ]
  },
  {
   "cell_type": "code",
   "execution_count": null,
   "metadata": {},
   "outputs": [],
   "source": [
    "sat2014.scatter('Critical Reading', 'Math')"
   ]
  },
  {
   "cell_type": "code",
   "execution_count": null,
   "metadata": {},
   "outputs": [],
   "source": [
    "correlation(sat2014, 'Critical Reading', 'Math')"
   ]
  },
  {
   "cell_type": "markdown",
   "metadata": {},
   "source": [
    "**Q:** Do students with high reading scores also have high math scores?\n",
    "\n",
    "A. Yes  \n",
    "B. No  \n",
    "C. Maybe\n"
   ]
  },
  {
   "cell_type": "markdown",
   "metadata": {},
   "source": [
    "## Quantifying error"
   ]
  },
  {
   "cell_type": "code",
   "execution_count": 58,
   "metadata": {},
   "outputs": [
    {
     "data": {
      "text/html": [
       "<table border=\"1\" class=\"dataframe\">\n",
       "    <thead>\n",
       "        <tr>\n",
       "            <th>Periods</th> <th>Characters</th>\n",
       "        </tr>\n",
       "    </thead>\n",
       "    <tbody>\n",
       "        <tr>\n",
       "            <td>189    </td> <td>21952     </td>\n",
       "        </tr>\n",
       "        <tr>\n",
       "            <td>188    </td> <td>22384     </td>\n",
       "        </tr>\n",
       "        <tr>\n",
       "            <td>231    </td> <td>20815     </td>\n",
       "        </tr>\n",
       "    </tbody>\n",
       "</table>\n",
       "<p>... (44 rows omitted)</p>"
      ],
      "text/plain": [
       "<IPython.core.display.HTML object>"
      ]
     },
     "metadata": {},
     "output_type": "display_data"
    }
   ],
   "source": [
    "def read_file(f):\n",
    "    with open (f, 'r') as file:\n",
    "        data=file.read()\n",
    "    return data\n",
    "lw_text = read_file('little_women.txt')\n",
    "lw_chapters = lw_text.split('CHAPTER ')[1:]\n",
    "lw = Table().with_columns(\n",
    "    'Periods', np.char.count(lw_chapters, '.'),\n",
    "    'Characters', np.vectorize(len)(lw_chapters),\n",
    ")\n",
    "\n",
    "lw.show(3)"
   ]
  },
  {
   "cell_type": "code",
   "execution_count": 59,
   "metadata": {},
   "outputs": [
    {
     "data": {
      "image/png": "[encoded data removed]",
      "text/plain": [
       "<Figure size 360x360 with 1 Axes>"
      ]
     },
     "metadata": {
      "needs_background": "light"
     },
     "output_type": "display_data"
    }
   ],
   "source": [
    "lw.scatter('Periods', 'Characters')"
   ]
  },
  {
   "cell_type": "code",
   "execution_count": 60,
   "metadata": {},
   "outputs": [
    {
     "data": {
      "text/plain": [
       "0.9249621978954679"
      ]
     },
     "execution_count": 60,
     "metadata": {},
     "output_type": "execute_result"
    }
   ],
   "source": [
    "correlation(lw, 'Periods', 'Characters')"
   ]
  },
  {
   "cell_type": "code",
   "execution_count": null,
   "metadata": {},
   "outputs": [],
   "source": [
    "def linear_predict(t, x, y):\n",
    "    \"\"\"Return the height of the regression line at each x value.\"\"\"\n",
    "    s = slope(t, x, y)\n",
    "    i = intercept(t, x, y)\n",
    "    return s * t.column(x) + i"
   ]
  },
  {
   "cell_type": "code",
   "execution_count": 61,
   "metadata": {},
   "outputs": [
    {
     "data": {
      "image/png": "[encoded data removed]",
      "text/plain": [
       "<Figure size 360x360 with 1 Axes>"
      ]
     },
     "metadata": {
      "needs_background": "light"
     },
     "output_type": "display_data"
    }
   ],
   "source": [
    "lw_predicted = lw.with_column(\n",
    "    'Predicted', linear_predict(lw, 'Periods', 'Characters')\n",
    ")\n",
    "lw_predicted.scatter('Periods')"
   ]
  },
  {
   "cell_type": "code",
   "execution_count": 62,
   "metadata": {},
   "outputs": [],
   "source": [
    "sample = [[131, 14431], [231, 20558], [392, 40935], [157, 23524]]\n",
    "def lw_errors(slope, intercept):\n",
    "    print('Slope:    ', np.round(slope), 'characters per period')\n",
    "    print('Intercept:', np.round(intercept), 'characters')\n",
    "    lw.scatter('Periods', 'Characters')\n",
    "    xlims = np.array([50, 450])\n",
    "    plots.plot(xlims, slope * xlims + intercept, lw=2)\n",
    "    for x, y in sample:\n",
    "        plots.plot([x, x], [y, slope * x + intercept], color='r', lw=2)"
   ]
  },
  {
   "cell_type": "code",
   "execution_count": 63,
   "metadata": {},
   "outputs": [
    {
     "name": "stdout",
     "output_type": "stream",
     "text": [
      "Slope:     88.0 characters per period\n",
      "Intercept: 4802.0 characters\n"
     ]
    },
    {
     "data": {
      "image/png": "[encoded data removed]",
      "text/plain": [
       "<Figure size 360x360 with 1 Axes>"
      ]
     },
     "metadata": {
      "needs_background": "light"
     },
     "output_type": "display_data"
    }
   ],
   "source": [
    "lw_reg_slope = slope(lw, 'Periods', 'Characters')\n",
    "lw_reg_intercept = intercept(lw, 'Periods', 'Characters')\n",
    "lw_errors(lw_reg_slope, lw_reg_intercept)"
   ]
  },
  {
   "cell_type": "code",
   "execution_count": 64,
   "metadata": {
    "scrolled": true
   },
   "outputs": [
    {
     "data": {
      "text/html": [
       "<table border=\"1\" class=\"dataframe\">\n",
       "    <thead>\n",
       "        <tr>\n",
       "            <th>Periods</th> <th>Characters</th> <th>Predicted</th> <th>Error</th>\n",
       "        </tr>\n",
       "    </thead>\n",
       "    <tbody>\n",
       "        <tr>\n",
       "            <td>189    </td> <td>21952     </td> <td>21403.2  </td> <td>548.802 </td>\n",
       "        </tr>\n",
       "        <tr>\n",
       "            <td>188    </td> <td>22384     </td> <td>21315.4  </td> <td>1068.64 </td>\n",
       "        </tr>\n",
       "        <tr>\n",
       "            <td>231    </td> <td>20815     </td> <td>25092.4  </td> <td>-4277.38</td>\n",
       "        </tr>\n",
       "    </tbody>\n",
       "</table>\n",
       "<p>... (44 rows omitted)</p>"
      ],
      "text/plain": [
       "<IPython.core.display.HTML object>"
      ]
     },
     "metadata": {},
     "output_type": "display_data"
    }
   ],
   "source": [
    "error = lw_predicted.column('Characters') - lw_predicted.column('Predicted')\n",
    "lw_predicted_error = lw_predicted.with_column(\n",
    "    'Error', error\n",
    ")\n",
    "lw_predicted_error.show(3)"
   ]
  },
  {
   "cell_type": "markdown",
   "metadata": {},
   "source": [
    "**Q:** What would be a good way to summarize all those errors as a single number?"
   ]
  },
  {
   "cell_type": "markdown",
   "metadata": {},
   "source": [
    "## RMSE"
   ]
  },
  {
   "cell_type": "code",
   "execution_count": 65,
   "metadata": {},
   "outputs": [
    {
     "data": {
      "text/html": [
       "<table border=\"1\" class=\"dataframe\">\n",
       "    <thead>\n",
       "        <tr>\n",
       "            <th>Periods</th> <th>Characters</th> <th>Predicted</th> <th>Error</th> <th>Squared Error</th>\n",
       "        </tr>\n",
       "    </thead>\n",
       "    <tbody>\n",
       "        <tr>\n",
       "            <td>189    </td> <td>21952     </td> <td>21403.2  </td> <td>548.802 </td> <td>301183       </td>\n",
       "        </tr>\n",
       "        <tr>\n",
       "            <td>188    </td> <td>22384     </td> <td>21315.4  </td> <td>1068.64 </td> <td>1.14199e+06  </td>\n",
       "        </tr>\n",
       "        <tr>\n",
       "            <td>231    </td> <td>20815     </td> <td>25092.4  </td> <td>-4277.38</td> <td>1.8296e+07   </td>\n",
       "        </tr>\n",
       "    </tbody>\n",
       "</table>\n",
       "<p>... (44 rows omitted)</p>"
      ],
      "text/plain": [
       "<IPython.core.display.HTML object>"
      ]
     },
     "metadata": {},
     "output_type": "display_data"
    }
   ],
   "source": [
    "lw_predicted_error_sq = lw_predicted_error.with_column(\n",
    "    'Squared Error', error ** 2\n",
    ")\n",
    "lw_predicted_error_sq.show(3)"
   ]
  },
  {
   "cell_type": "code",
   "execution_count": 66,
   "metadata": {},
   "outputs": [
    {
     "data": {
      "text/plain": [
       "7226605.108665576"
      ]
     },
     "execution_count": 66,
     "metadata": {},
     "output_type": "execute_result"
    }
   ],
   "source": [
    "mean_squared_error = np.mean(lw_predicted_error_sq.column('Squared Error'))\n",
    "mean_squared_error"
   ]
  },
  {
   "cell_type": "code",
   "execution_count": 67,
   "metadata": {},
   "outputs": [
    {
     "data": {
      "text/plain": [
       "2688.2345709899605"
      ]
     },
     "execution_count": 67,
     "metadata": {},
     "output_type": "execute_result"
    }
   ],
   "source": [
    "root_mean_squared_error = np.sqrt(mean_squared_error)\n",
    "root_mean_squared_error"
   ]
  },
  {
   "cell_type": "markdown",
   "metadata": {},
   "source": [
    "rmse = SD($y$) $\\times \\sqrt{1 - r^2}$"
   ]
  },
  {
   "cell_type": "code",
   "execution_count": 68,
   "metadata": {},
   "outputs": [
    {
     "data": {
      "text/plain": [
       "2688.2345709899623"
      ]
     },
     "execution_count": 68,
     "metadata": {},
     "output_type": "execute_result"
    }
   ],
   "source": [
    "np.sqrt(1 - correlation(lw, 'Periods', 'Characters')**2) * np.std(lw.column('Characters'))"
   ]
  },
  {
   "cell_type": "markdown",
   "metadata": {},
   "source": [
    "## Comparing lines with RMSE"
   ]
  },
  {
   "cell_type": "code",
   "execution_count": 72,
   "metadata": {},
   "outputs": [],
   "source": [
    "def lw_visualize_rmse(slope, intercept):\n",
    "    lw_errors(slope, intercept)\n",
    "    x = lw.column('Periods')\n",
    "    y = lw.column('Characters')\n",
    "    predicted = slope * x + intercept\n",
    "    mse = np.mean((y - predicted) ** 2)\n",
    "    print(\"RMSE:     \", mse ** 0.5)"
   ]
  },
  {
   "cell_type": "code",
   "execution_count": 73,
   "metadata": {},
   "outputs": [
    {
     "name": "stdout",
     "output_type": "stream",
     "text": [
      "Slope:     50 characters per period\n",
      "Intercept: 10000 characters\n",
      "RMSE:      4459.945911321672\n"
     ]
    },
    {
     "data": {
      "image/png": "[encoded data removed]",
      "text/plain": [
       "<Figure size 360x360 with 1 Axes>"
      ]
     },
     "metadata": {
      "needs_background": "light"
     },
     "output_type": "display_data"
    }
   ],
   "source": [
    "lw_visualize_rmse(50, 10000)"
   ]
  },
  {
   "cell_type": "markdown",
   "metadata": {},
   "source": [
    "**Q:** Which way should I adjust slope to reduce error?\n",
    "\n",
    "A. Up  \n",
    "B. Down  \n",
    "C. I'm not sure  "
   ]
  },
  {
   "cell_type": "code",
   "execution_count": 74,
   "metadata": {
    "scrolled": true
   },
   "outputs": [
    {
     "name": "stdout",
     "output_type": "stream",
     "text": [
      "Slope:     88.0 characters per period\n",
      "Intercept: 4802.0 characters\n",
      "RMSE:      2688.2345709899605\n"
     ]
    },
    {
     "data": {
      "image/png": "[encoded data removed]",
      "text/plain": [
       "<Figure size 360x360 with 1 Axes>"
      ]
     },
     "metadata": {
      "needs_background": "light"
     },
     "output_type": "display_data"
    }
   ],
   "source": [
    "lw_reg_slope = slope(lw, 'Periods', 'Characters')\n",
    "lw_reg_intercept = intercept(lw, 'Periods', 'Characters')\n",
    "lw_visualize_rmse(lw_reg_slope, lw_reg_intercept)"
   ]
  },
  {
   "cell_type": "markdown",
   "metadata": {},
   "source": [
    "## Finding the line with least RMSE"
   ]
  },
  {
   "cell_type": "code",
   "execution_count": 76,
   "metadata": {},
   "outputs": [],
   "source": [
    "def f(x):\n",
    "    return (x - 3) ** 2 + 1"
   ]
  },
  {
   "cell_type": "markdown",
   "metadata": {},
   "source": [
    "**Q:** What value of `x` will produce the smallest value of `f(x)`?\n",
    "\n",
    "A. 0  \n",
    "B. 1  \n",
    "C. 2  \n",
    "D. 3  \n",
    "E. none of the above"
   ]
  },
  {
   "cell_type": "code",
   "execution_count": 77,
   "metadata": {},
   "outputs": [
    {
     "data": {
      "image/png": "[encoded data removed]",
      "text/plain": [
       "<Figure size 360x360 with 1 Axes>"
      ]
     },
     "metadata": {
      "needs_background": "light"
     },
     "output_type": "display_data"
    }
   ],
   "source": [
    "x = np.arange(0, 6.1, .1)\n",
    "y = f(x)\n",
    "Table().with_columns('x', x, 'y', y).scatter('x')"
   ]
  },
  {
   "cell_type": "code",
   "execution_count": 78,
   "metadata": {},
   "outputs": [
    {
     "data": {
      "text/plain": [
       "2.999999999968361"
      ]
     },
     "execution_count": 78,
     "metadata": {},
     "output_type": "execute_result"
    }
   ],
   "source": [
    "minimize(f)"
   ]
  },
  {
   "cell_type": "code",
   "execution_count": 79,
   "metadata": {},
   "outputs": [
    {
     "data": {
      "text/plain": [
       "1.0"
      ]
     },
     "execution_count": 79,
     "metadata": {},
     "output_type": "execute_result"
    }
   ],
   "source": [
    "f(minimize(f))"
   ]
  },
  {
   "cell_type": "code",
   "execution_count": 81,
   "metadata": {},
   "outputs": [],
   "source": [
    "def lw_rmse(any_slope, any_intercept):\n",
    "    \"\"\"Compute the RMSE for a line through the Little Women data.\n",
    "    The line has the slope and intercept given as arguments.\"\"\"\n",
    "    x = lw.column('Periods')\n",
    "    y = lw.column('Characters')\n",
    "    predicted = any_slope*x + any_intercept\n",
    "    return np.sqrt(np.mean((y - predicted) ** 2))"
   ]
  },
  {
   "cell_type": "code",
   "execution_count": 82,
   "metadata": {},
   "outputs": [
    {
     "data": {
      "text/plain": [
       "4459.945911321672"
      ]
     },
     "execution_count": 82,
     "metadata": {},
     "output_type": "execute_result"
    }
   ],
   "source": [
    "lw_rmse(50, 10000)"
   ]
  },
  {
   "cell_type": "code",
   "execution_count": 83,
   "metadata": {},
   "outputs": [
    {
     "data": {
      "text/plain": [
       "array([  87.83764729, 4801.88299808])"
      ]
     },
     "execution_count": 83,
     "metadata": {},
     "output_type": "execute_result"
    }
   ],
   "source": [
    "best = minimize(lw_rmse)\n",
    "best"
   ]
  },
  {
   "cell_type": "code",
   "execution_count": 84,
   "metadata": {},
   "outputs": [
    {
     "data": {
      "text/plain": [
       "2688.23457098996"
      ]
     },
     "execution_count": 84,
     "metadata": {},
     "output_type": "execute_result"
    }
   ],
   "source": [
    "lw_rmse(best.item(0), best.item(1))"
   ]
  },
  {
   "cell_type": "code",
   "execution_count": 85,
   "metadata": {},
   "outputs": [
    {
     "data": {
      "text/plain": [
       "array([  87.83764729, 4801.88300867])"
      ]
     },
     "execution_count": 85,
     "metadata": {},
     "output_type": "execute_result"
    }
   ],
   "source": [
    "make_array(lw_reg_slope, lw_reg_intercept)"
   ]
  },
  {
   "cell_type": "code",
   "execution_count": 86,
   "metadata": {},
   "outputs": [
    {
     "data": {
      "text/plain": [
       "2688.2345709899605"
      ]
     },
     "execution_count": 86,
     "metadata": {},
     "output_type": "execute_result"
    }
   ],
   "source": [
    "lw_rmse(lw_reg_slope, lw_reg_intercept)"
   ]
  },
  {
   "cell_type": "code",
   "execution_count": null,
   "metadata": {},
   "outputs": [],
   "source": []
  }
 ],
 "metadata": {
  "anaconda-cloud": {},
  "kernelspec": {
   "display_name": "Python 3",
   "language": "python",
   "name": "python3"
  },
  "language_info": {
   "codemirror_mode": {
    "name": "ipython",
    "version": 3
   },
   "file_extension": ".py",
   "mimetype": "text/x-python",
   "name": "python",
   "nbconvert_exporter": "python",
   "pygments_lexer": "ipython3",
   "version": "3.7.6"
  }
 },
 "nbformat": 4,
 "nbformat_minor": 1
}
