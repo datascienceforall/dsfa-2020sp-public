{
 "cells": [
  {
   "cell_type": "code",
   "execution_count": 1,
   "metadata": {},
   "outputs": [
    {
     "name": "stderr",
     "output_type": "stream",
     "text": [
      "Traceback (most recent call last):\n",
      "  File \"C:\\Users\\dw36\\AppData\\Local\\Continuum\\anaconda3\\Scripts\\pip-script.py\", line 10, in <module>\n",
      "    sys.exit(main())\n",
      "TypeError: 'module' object is not callable\n"
     ]
    }
   ],
   "source": [
    "!pip install datascience\n",
    "from datascience import *\n",
    "import numpy as np\n",
    "\n",
    "%matplotlib inline\n",
    "import matplotlib.pyplot as plots\n",
    "plots.style.use('fivethirtyeight')"
   ]
  },
  {
   "cell_type": "markdown",
   "metadata": {},
   "source": [
    "## Booleans"
   ]
  },
  {
   "cell_type": "code",
   "execution_count": 2,
   "metadata": {},
   "outputs": [
    {
     "data": {
      "text/plain": [
       "True"
      ]
     },
     "execution_count": 2,
     "metadata": {},
     "output_type": "execute_result"
    }
   ],
   "source": [
    "True"
   ]
  },
  {
   "cell_type": "code",
   "execution_count": 3,
   "metadata": {},
   "outputs": [
    {
     "data": {
      "text/plain": [
       "False"
      ]
     },
     "execution_count": 3,
     "metadata": {},
     "output_type": "execute_result"
    }
   ],
   "source": [
    "False"
   ]
  },
  {
   "cell_type": "code",
   "execution_count": 4,
   "metadata": {},
   "outputs": [
    {
     "data": {
      "text/plain": [
       "False"
      ]
     },
     "execution_count": 4,
     "metadata": {},
     "output_type": "execute_result"
    }
   ],
   "source": [
    "not True"
   ]
  },
  {
   "cell_type": "code",
   "execution_count": 5,
   "metadata": {},
   "outputs": [
    {
     "data": {
      "text/plain": [
       "True"
      ]
     },
     "execution_count": 5,
     "metadata": {},
     "output_type": "execute_result"
    }
   ],
   "source": [
    "not False"
   ]
  },
  {
   "cell_type": "code",
   "execution_count": 6,
   "metadata": {},
   "outputs": [
    {
     "data": {
      "text/plain": [
       "True"
      ]
     },
     "execution_count": 6,
     "metadata": {},
     "output_type": "execute_result"
    }
   ],
   "source": [
    "True or False"
   ]
  },
  {
   "cell_type": "code",
   "execution_count": 7,
   "metadata": {},
   "outputs": [
    {
     "data": {
      "text/plain": [
       "False"
      ]
     },
     "execution_count": 7,
     "metadata": {},
     "output_type": "execute_result"
    }
   ],
   "source": [
    "True and False"
   ]
  },
  {
   "cell_type": "markdown",
   "metadata": {},
   "source": [
    "## Comparison Operators"
   ]
  },
  {
   "cell_type": "code",
   "execution_count": 8,
   "metadata": {},
   "outputs": [
    {
     "data": {
      "text/plain": [
       "True"
      ]
     },
     "execution_count": 8,
     "metadata": {},
     "output_type": "execute_result"
    }
   ],
   "source": [
    "x = 3\n",
    "y = 4\n",
    "y > x\n"
   ]
  },
  {
   "cell_type": "code",
   "execution_count": 9,
   "metadata": {},
   "outputs": [
    {
     "data": {
      "text/plain": [
       "True"
      ]
     },
     "execution_count": 9,
     "metadata": {},
     "output_type": "execute_result"
    }
   ],
   "source": [
    "10/2 != y"
   ]
  },
  {
   "cell_type": "code",
   "execution_count": 10,
   "metadata": {},
   "outputs": [
    {
     "data": {
      "text/plain": [
       "array([11, 12, 13, 14, 15, 16, 17, 18, 19, 20, 21, 22, 23, 24, 25, 26, 27,\n",
       "       28, 29, 30, 31, 32, 33, 34, 35, 36, 37, 38, 39, 40, 41, 42, 43, 44,\n",
       "       45, 46, 47, 48, 49])"
      ]
     },
     "execution_count": 10,
     "metadata": {},
     "output_type": "execute_result"
    }
   ],
   "source": [
    "a = np.arange(11, 50)\n",
    "a"
   ]
  },
  {
   "cell_type": "code",
   "execution_count": 11,
   "metadata": {
    "scrolled": true
   },
   "outputs": [
    {
     "data": {
      "text/plain": [
       "array([False, False, False, False, False, False, False, False, False,\n",
       "       False, False, False, False, False, False, False, False, False,\n",
       "       False, False,  True,  True,  True,  True,  True,  True,  True,\n",
       "        True,  True,  True,  True,  True,  True,  True,  True,  True,\n",
       "        True,  True,  True])"
      ]
     },
     "execution_count": 11,
     "metadata": {},
     "output_type": "execute_result"
    }
   ],
   "source": [
    "a > 30"
   ]
  },
  {
   "cell_type": "code",
   "execution_count": 12,
   "metadata": {},
   "outputs": [
    {
     "data": {
      "text/plain": [
       "array([False, False, False, False,  True, False, False, False, False,\n",
       "       False, False, False, False, False, False, False, False, False,\n",
       "       False, False, False, False, False, False, False, False, False,\n",
       "       False, False, False, False, False, False, False, False, False,\n",
       "       False, False, False])"
      ]
     },
     "execution_count": 12,
     "metadata": {},
     "output_type": "execute_result"
    }
   ],
   "source": [
    "a == 15"
   ]
  },
  {
   "cell_type": "code",
   "execution_count": 13,
   "metadata": {},
   "outputs": [
    {
     "data": {
      "text/plain": [
       "[False, True, False]"
      ]
     },
     "execution_count": 13,
     "metadata": {},
     "output_type": "execute_result"
    }
   ],
   "source": [
    "def teen(x):\n",
    "    return 13 <= x <= 19\n",
    "\n",
    "[teen(10), teen(15), teen(20)]"
   ]
  },
  {
   "cell_type": "code",
   "execution_count": 14,
   "metadata": {},
   "outputs": [
    {
     "data": {
      "text/plain": [
       "array([False, False,  True,  True,  True,  True,  True,  True,  True,\n",
       "       False, False, False, False, False, False, False, False, False,\n",
       "       False, False, False, False, False, False, False, False, False,\n",
       "       False, False, False, False, False, False, False, False, False,\n",
       "       False, False, False])"
      ]
     },
     "execution_count": 14,
     "metadata": {},
     "output_type": "execute_result"
    }
   ],
   "source": [
    "ages = Table().with_column('Age', a)\n",
    "ages\n",
    "TN=ages.apply(teen, 'Age')\n",
    "TN"
   ]
  },
  {
   "cell_type": "code",
   "execution_count": 15,
   "metadata": {
    "scrolled": true
   },
   "outputs": [
    {
     "data": {
      "text/html": [
       "<table border=\"1\" class=\"dataframe\">\n",
       "    <thead>\n",
       "        <tr>\n",
       "            <th>Age</th>\n",
       "        </tr>\n",
       "    </thead>\n",
       "    <tbody>\n",
       "        <tr>\n",
       "            <td>13  </td>\n",
       "        </tr>\n",
       "        <tr>\n",
       "            <td>14  </td>\n",
       "        </tr>\n",
       "        <tr>\n",
       "            <td>15  </td>\n",
       "        </tr>\n",
       "        <tr>\n",
       "            <td>16  </td>\n",
       "        </tr>\n",
       "        <tr>\n",
       "            <td>17  </td>\n",
       "        </tr>\n",
       "        <tr>\n",
       "            <td>18  </td>\n",
       "        </tr>\n",
       "        <tr>\n",
       "            <td>19  </td>\n",
       "        </tr>\n",
       "    </tbody>\n",
       "</table>"
      ],
      "text/plain": [
       "Age\n",
       "13\n",
       "14\n",
       "15\n",
       "16\n",
       "17\n",
       "18\n",
       "19"
      ]
     },
     "execution_count": 15,
     "metadata": {},
     "output_type": "execute_result"
    }
   ],
   "source": [
    "teens=ages.where(TN)\n",
    "teens"
   ]
  },
  {
   "cell_type": "markdown",
   "metadata": {},
   "source": [
    "## Combining Comparisons"
   ]
  },
  {
   "cell_type": "code",
   "execution_count": 16,
   "metadata": {},
   "outputs": [],
   "source": [
    "x = 3\n",
    "y = 4"
   ]
  },
  {
   "cell_type": "code",
   "execution_count": 17,
   "metadata": {},
   "outputs": [
    {
     "data": {
      "text/plain": [
       "False"
      ]
     },
     "execution_count": 17,
     "metadata": {},
     "output_type": "execute_result"
    }
   ],
   "source": [
    "x < 4 and y > 4"
   ]
  },
  {
   "cell_type": "code",
   "execution_count": 18,
   "metadata": {},
   "outputs": [
    {
     "data": {
      "text/plain": [
       "True"
      ]
     },
     "execution_count": 18,
     "metadata": {},
     "output_type": "execute_result"
    }
   ],
   "source": [
    "x < 4 or y >= 4"
   ]
  },
  {
   "cell_type": "code",
   "execution_count": 19,
   "metadata": {},
   "outputs": [
    {
     "data": {
      "text/plain": [
       "False"
      ]
     },
     "execution_count": 19,
     "metadata": {},
     "output_type": "execute_result"
    }
   ],
   "source": [
    "not (x < 4 or y > 4)"
   ]
  },
  {
   "cell_type": "code",
   "execution_count": 20,
   "metadata": {},
   "outputs": [
    {
     "data": {
      "text/plain": [
       "1"
      ]
     },
     "execution_count": 20,
     "metadata": {},
     "output_type": "execute_result"
    }
   ],
   "source": [
    "True + 0"
   ]
  },
  {
   "cell_type": "code",
   "execution_count": 21,
   "metadata": {},
   "outputs": [
    {
     "data": {
      "text/plain": [
       "0"
      ]
     },
     "execution_count": 21,
     "metadata": {},
     "output_type": "execute_result"
    }
   ],
   "source": [
    "False + 0"
   ]
  },
  {
   "cell_type": "code",
   "execution_count": 22,
   "metadata": {},
   "outputs": [
    {
     "data": {
      "text/plain": [
       "0"
      ]
     },
     "execution_count": 22,
     "metadata": {},
     "output_type": "execute_result"
    }
   ],
   "source": [
    "z=1\n",
    "z*(z>3)"
   ]
  },
  {
   "cell_type": "code",
   "execution_count": 23,
   "metadata": {},
   "outputs": [
    {
     "data": {
      "text/html": [
       "<table border=\"1\" class=\"dataframe\">\n",
       "    <thead>\n",
       "        <tr>\n",
       "            <th>Age</th>\n",
       "        </tr>\n",
       "    </thead>\n",
       "    <tbody>\n",
       "        <tr>\n",
       "            <td>11  </td>\n",
       "        </tr>\n",
       "        <tr>\n",
       "            <td>12  </td>\n",
       "        </tr>\n",
       "        <tr>\n",
       "            <td>13  </td>\n",
       "        </tr>\n",
       "        <tr>\n",
       "            <td>14  </td>\n",
       "        </tr>\n",
       "        <tr>\n",
       "            <td>15  </td>\n",
       "        </tr>\n",
       "        <tr>\n",
       "            <td>16  </td>\n",
       "        </tr>\n",
       "        <tr>\n",
       "            <td>17  </td>\n",
       "        </tr>\n",
       "        <tr>\n",
       "            <td>18  </td>\n",
       "        </tr>\n",
       "        <tr>\n",
       "            <td>19  </td>\n",
       "        </tr>\n",
       "        <tr>\n",
       "            <td>20  </td>\n",
       "        </tr>\n",
       "    </tbody>\n",
       "</table>\n",
       "<p>... (29 rows omitted)</p>"
      ],
      "text/plain": [
       "Age\n",
       "11\n",
       "12\n",
       "13\n",
       "14\n",
       "15\n",
       "16\n",
       "17\n",
       "18\n",
       "19\n",
       "20\n",
       "... (29 rows omitted)"
      ]
     },
     "execution_count": 23,
     "metadata": {},
     "output_type": "execute_result"
    }
   ],
   "source": [
    "ages"
   ]
  },
  {
   "cell_type": "code",
   "execution_count": 24,
   "metadata": {
    "scrolled": false
   },
   "outputs": [
    {
     "data": {
      "text/plain": [
       "array([False, False,  True,  True,  True,  True,  True,  True,  True,\n",
       "       False, False, False, False, False, False, False, False, False,\n",
       "       False, False, False, False, False, False, False, False, False,\n",
       "       False, False, False, False, False, False, False, False, False,\n",
       "       False, False, False])"
      ]
     },
     "execution_count": 24,
     "metadata": {},
     "output_type": "execute_result"
    }
   ],
   "source": [
    "ages = ages.with_column('Teenage', ages.apply(teen, 'Age'))\n",
    "ages.column('Teenage')"
   ]
  },
  {
   "cell_type": "code",
   "execution_count": 25,
   "metadata": {},
   "outputs": [
    {
     "data": {
      "text/html": [
       "<table border=\"1\" class=\"dataframe\">\n",
       "    <thead>\n",
       "        <tr>\n",
       "            <th>Age</th> <th>Teenage</th>\n",
       "        </tr>\n",
       "    </thead>\n",
       "    <tbody>\n",
       "        <tr>\n",
       "            <td>13  </td> <td>True   </td>\n",
       "        </tr>\n",
       "        <tr>\n",
       "            <td>14  </td> <td>True   </td>\n",
       "        </tr>\n",
       "        <tr>\n",
       "            <td>15  </td> <td>True   </td>\n",
       "        </tr>\n",
       "        <tr>\n",
       "            <td>16  </td> <td>True   </td>\n",
       "        </tr>\n",
       "        <tr>\n",
       "            <td>17  </td> <td>True   </td>\n",
       "        </tr>\n",
       "        <tr>\n",
       "            <td>18  </td> <td>True   </td>\n",
       "        </tr>\n",
       "        <tr>\n",
       "            <td>19  </td> <td>True   </td>\n",
       "        </tr>\n",
       "    </tbody>\n",
       "</table>"
      ],
      "text/plain": [
       "Age  | Teenage\n",
       "13   | True\n",
       "14   | True\n",
       "15   | True\n",
       "16   | True\n",
       "17   | True\n",
       "18   | True\n",
       "19   | True"
      ]
     },
     "execution_count": 25,
     "metadata": {},
     "output_type": "execute_result"
    }
   ],
   "source": [
    "ages.where(ages.apply(teen, 'Age'))"
   ]
  },
  {
   "cell_type": "code",
   "execution_count": 26,
   "metadata": {},
   "outputs": [
    {
     "data": {
      "text/plain": [
       "7"
      ]
     },
     "execution_count": 26,
     "metadata": {},
     "output_type": "execute_result"
    }
   ],
   "source": [
    "sum(ages.column('Teenage'))"
   ]
  },
  {
   "cell_type": "code",
   "execution_count": 27,
   "metadata": {},
   "outputs": [
    {
     "data": {
      "text/plain": [
       "7"
      ]
     },
     "execution_count": 27,
     "metadata": {},
     "output_type": "execute_result"
    }
   ],
   "source": [
    "np.count_nonzero(ages.column('Teenage'))"
   ]
  },
  {
   "cell_type": "markdown",
   "metadata": {},
   "source": [
    "## Random choice"
   ]
  },
  {
   "cell_type": "code",
   "execution_count": 28,
   "metadata": {},
   "outputs": [
    {
     "data": {
      "text/plain": [
       "array(['Heads', 'Tails'], dtype='<U5')"
      ]
     },
     "execution_count": 28,
     "metadata": {},
     "output_type": "execute_result"
    }
   ],
   "source": [
    "coin = make_array('Heads', 'Tails')\n",
    "coin"
   ]
  },
  {
   "cell_type": "code",
   "execution_count": 29,
   "metadata": {},
   "outputs": [
    {
     "data": {
      "text/plain": [
       "'Tails'"
      ]
     },
     "execution_count": 29,
     "metadata": {},
     "output_type": "execute_result"
    }
   ],
   "source": [
    "np.random.choice(coin)"
   ]
  },
  {
   "cell_type": "code",
   "execution_count": 30,
   "metadata": {},
   "outputs": [
    {
     "data": {
      "text/plain": [
       "array(['Tails', 'Tails', 'Heads', 'Tails', 'Tails', 'Heads', 'Tails',\n",
       "       'Tails', 'Heads', 'Tails'], dtype='<U5')"
      ]
     },
     "execution_count": 30,
     "metadata": {},
     "output_type": "execute_result"
    }
   ],
   "source": [
    "np.random.choice(coin, 10)"
   ]
  },
  {
   "cell_type": "code",
   "execution_count": 31,
   "metadata": {},
   "outputs": [
    {
     "data": {
      "text/plain": [
       "array([1, 2, 3, 4, 5, 6])"
      ]
     },
     "execution_count": 31,
     "metadata": {},
     "output_type": "execute_result"
    }
   ],
   "source": [
    "d6 = np.arange(1,6+1)\n",
    "d6"
   ]
  },
  {
   "cell_type": "code",
   "execution_count": 32,
   "metadata": {},
   "outputs": [
    {
     "data": {
      "text/plain": [
       "array([5, 2, 1])"
      ]
     },
     "execution_count": 32,
     "metadata": {},
     "output_type": "execute_result"
    }
   ],
   "source": [
    "np.random.choice(d6, 3)"
   ]
  },
  {
   "cell_type": "markdown",
   "metadata": {},
   "source": [
    "What are the possible results?\n",
    "\n",
    "A. 1-6  \n",
    "B. 1-18  \n",
    "C. multiples of 3 between 1-18  \n",
    "D. 3-18  \n",
    "E. none of the above"
   ]
  },
  {
   "cell_type": "markdown",
   "metadata": {},
   "source": [
    "What if we made the code be:"
   ]
  },
  {
   "cell_type": "code",
   "execution_count": 33,
   "metadata": {},
   "outputs": [
    {
     "data": {
      "text/plain": [
       "6"
      ]
     },
     "execution_count": 33,
     "metadata": {},
     "output_type": "execute_result"
    }
   ],
   "source": [
    "sum(np.random.choice(d6, 3))"
   ]
  },
  {
   "cell_type": "code",
   "execution_count": 34,
   "metadata": {},
   "outputs": [
    {
     "data": {
      "text/plain": [
       "array(['control', 'control', 'control', 'treatment', 'control',\n",
       "       'treatment', 'control', 'treatment', 'control', 'control'],\n",
       "      dtype='<U9')"
      ]
     },
     "execution_count": 34,
     "metadata": {},
     "output_type": "execute_result"
    }
   ],
   "source": [
    "two_groups = make_array('treatment', 'control')\n",
    "outcomes = np.random.choice(two_groups, 10)\n",
    "outcomes"
   ]
  },
  {
   "cell_type": "code",
   "execution_count": 35,
   "metadata": {},
   "outputs": [
    {
     "data": {
      "text/plain": [
       "array([ True,  True,  True, False,  True, False,  True, False,  True,\n",
       "        True])"
      ]
     },
     "execution_count": 35,
     "metadata": {},
     "output_type": "execute_result"
    }
   ],
   "source": [
    "outcomes == 'control'"
   ]
  },
  {
   "cell_type": "code",
   "execution_count": 36,
   "metadata": {},
   "outputs": [],
   "source": [
    "#sum(outcomes)"
   ]
  },
  {
   "cell_type": "code",
   "execution_count": 37,
   "metadata": {},
   "outputs": [
    {
     "data": {
      "text/plain": [
       "7"
      ]
     },
     "execution_count": 37,
     "metadata": {},
     "output_type": "execute_result"
    }
   ],
   "source": [
    "sum(outcomes == 'control')"
   ]
  },
  {
   "cell_type": "code",
   "execution_count": 38,
   "metadata": {},
   "outputs": [
    {
     "data": {
      "text/plain": [
       "3"
      ]
     },
     "execution_count": 38,
     "metadata": {},
     "output_type": "execute_result"
    }
   ],
   "source": [
    "sum(outcomes == 'treatment')"
   ]
  },
  {
   "cell_type": "markdown",
   "metadata": {},
   "source": [
    "## Discussion Question"
   ]
  },
  {
   "cell_type": "code",
   "execution_count": 39,
   "metadata": {},
   "outputs": [
    {
     "data": {
      "image/png": "[encoded data removed]",
      "text/plain": [
       "<Figure size 432x288 with 1 Axes>"
      ]
     },
     "metadata": {},
     "output_type": "display_data"
    }
   ],
   "source": [
    "outcomes = np.random.choice(d6, 10000) + np.random.choice(d6, 10000)\n",
    "Table().with_column('Outcome', outcomes).hist('Outcome', bins=np.arange(1.5,13))"
   ]
  },
  {
   "cell_type": "code",
   "execution_count": 40,
   "metadata": {},
   "outputs": [
    {
     "data": {
      "image/png": "[encoded data removed]",
      "text/plain": [
       "<Figure size 432x288 with 1 Axes>"
      ]
     },
     "metadata": {},
     "output_type": "display_data"
    }
   ],
   "source": [
    "outcomes = 2 * np.random.choice(d6, 10000)\n",
    "Table().with_column('Outcome', outcomes).hist('Outcome', bins=np.arange(1.5,13))"
   ]
  },
  {
   "cell_type": "markdown",
   "metadata": {},
   "source": [
    "## Conditional Statements"
   ]
  },
  {
   "cell_type": "code",
   "execution_count": 41,
   "metadata": {},
   "outputs": [
    {
     "name": "stdout",
     "output_type": "stream",
     "text": [
      "zero\n"
     ]
    }
   ],
   "source": [
    "x = 0\n",
    "if x > 0:\n",
    "    print('positive')\n",
    "elif x < 0:\n",
    "    print('negative')\n",
    "else:\n",
    "    print('zero')"
   ]
  },
  {
   "cell_type": "code",
   "execution_count": 42,
   "metadata": {},
   "outputs": [],
   "source": [
    "def sign(x):\n",
    "    if x > 0:\n",
    "        return 'positive'\n",
    "    elif x < 0:\n",
    "        return 'negative'\n",
    "    else:\n",
    "        return 'zero'"
   ]
  },
  {
   "cell_type": "code",
   "execution_count": 43,
   "metadata": {},
   "outputs": [
    {
     "data": {
      "text/plain": [
       "'negative'"
      ]
     },
     "execution_count": 43,
     "metadata": {},
     "output_type": "execute_result"
    }
   ],
   "source": [
    "sign(-3)"
   ]
  },
  {
   "cell_type": "code",
   "execution_count": 44,
   "metadata": {},
   "outputs": [
    {
     "data": {
      "text/plain": [
       "array([-1,  1,  0], dtype=int64)"
      ]
     },
     "execution_count": 44,
     "metadata": {},
     "output_type": "execute_result"
    }
   ],
   "source": [
    "numbers=make_array(-1,1,0)\n",
    "numbers"
   ]
  },
  {
   "cell_type": "code",
   "execution_count": 45,
   "metadata": {},
   "outputs": [
    {
     "data": {
      "text/html": [
       "<table border=\"1\" class=\"dataframe\">\n",
       "    <thead>\n",
       "        <tr>\n",
       "            <th>RN</th> <th>Signs</th>\n",
       "        </tr>\n",
       "    </thead>\n",
       "    <tbody>\n",
       "        <tr>\n",
       "            <td>0   </td> <td>zero    </td>\n",
       "        </tr>\n",
       "        <tr>\n",
       "            <td>0   </td> <td>zero    </td>\n",
       "        </tr>\n",
       "        <tr>\n",
       "            <td>0   </td> <td>zero    </td>\n",
       "        </tr>\n",
       "        <tr>\n",
       "            <td>0   </td> <td>zero    </td>\n",
       "        </tr>\n",
       "        <tr>\n",
       "            <td>-1  </td> <td>negative</td>\n",
       "        </tr>\n",
       "        <tr>\n",
       "            <td>-1  </td> <td>negative</td>\n",
       "        </tr>\n",
       "        <tr>\n",
       "            <td>1   </td> <td>positive</td>\n",
       "        </tr>\n",
       "        <tr>\n",
       "            <td>0   </td> <td>zero    </td>\n",
       "        </tr>\n",
       "        <tr>\n",
       "            <td>1   </td> <td>positive</td>\n",
       "        </tr>\n",
       "        <tr>\n",
       "            <td>0   </td> <td>zero    </td>\n",
       "        </tr>\n",
       "    </tbody>\n",
       "</table>\n",
       "<p>... (20 rows omitted)</p>"
      ],
      "text/plain": [
       "RN   | Signs\n",
       "0    | zero\n",
       "0    | zero\n",
       "0    | zero\n",
       "0    | zero\n",
       "-1   | negative\n",
       "-1   | negative\n",
       "1    | positive\n",
       "0    | zero\n",
       "1    | positive\n",
       "0    | zero\n",
       "... (20 rows omitted)"
      ]
     },
     "execution_count": 45,
     "metadata": {},
     "output_type": "execute_result"
    }
   ],
   "source": [
    "random_numbers=Table().with_column(\"RN\",np.random.choice(numbers, 30))\n",
    "random_numbers.with_column(\"Signs\",random_numbers.apply(sign,\"RN\"))"
   ]
  },
  {
   "cell_type": "markdown",
   "metadata": {},
   "source": [
    "## For Statements"
   ]
  },
  {
   "cell_type": "code",
   "execution_count": 46,
   "metadata": {},
   "outputs": [
    {
     "data": {
      "text/plain": [
       "array([0, 1, 2, 3])"
      ]
     },
     "execution_count": 46,
     "metadata": {},
     "output_type": "execute_result"
    }
   ],
   "source": [
    "np.arange(4)"
   ]
  },
  {
   "cell_type": "code",
   "execution_count": 47,
   "metadata": {},
   "outputs": [
    {
     "name": "stdout",
     "output_type": "stream",
     "text": [
      "iteration 0\n",
      "iteration 1\n",
      "iteration 2\n",
      "iteration 3\n"
     ]
    }
   ],
   "source": [
    "for i in np.arange(4):\n",
    "    print('iteration', i)"
   ]
  },
  {
   "cell_type": "code",
   "execution_count": 48,
   "metadata": {
    "scrolled": true
   },
   "outputs": [
    {
     "name": "stdout",
     "output_type": "stream",
     "text": [
      "This time through the for loop * things * is  a .\n",
      "This time through the for loop * things * is  b .\n",
      "This time through the for loop * things * is  c .\n",
      "This time through the for loop * things * is  1 .\n",
      "This time through the for loop * things * is  [1, 2, 3] .\n"
     ]
    }
   ],
   "source": [
    "for things in ['a',\"b\",'c', 1, [1,2,3]]:\n",
    "    print('This time through the for loop * things * is ', things, '.')"
   ]
  },
  {
   "cell_type": "code",
   "execution_count": 49,
   "metadata": {},
   "outputs": [
    {
     "name": "stdout",
     "output_type": "stream",
     "text": [
      "This is the first time through for loop. Call it time 1 .\n",
      "This is the second time through for loop. Call it time 2 .\n",
      "This is the third time through for loop. Call it time 3 .\n",
      "This is the forth time through for loop. Call it time 4 .\n"
     ]
    },
    {
     "data": {
      "text/plain": [
       "5"
      ]
     },
     "execution_count": 49,
     "metadata": {},
     "output_type": "execute_result"
    }
   ],
   "source": [
    "d=1\n",
    "for step in ['first',\"second\",'third', \"forth\"]:\n",
    "    print('This is the', step, 'time through for loop. Call it time',d,'.')\n",
    "    d=d+1\n",
    "d"
   ]
  },
  {
   "cell_type": "code",
   "execution_count": 50,
   "metadata": {},
   "outputs": [
    {
     "data": {
      "text/plain": [
       "array(['Heads', 'Tails'], dtype='<U5')"
      ]
     },
     "execution_count": 50,
     "metadata": {},
     "output_type": "execute_result"
    }
   ],
   "source": [
    "coin"
   ]
  },
  {
   "cell_type": "code",
   "execution_count": 51,
   "metadata": {},
   "outputs": [
    {
     "data": {
      "text/plain": [
       "50"
      ]
     },
     "execution_count": 51,
     "metadata": {},
     "output_type": "execute_result"
    }
   ],
   "source": [
    "sum(np.random.choice(coin, 100) == 'Heads')"
   ]
  },
  {
   "cell_type": "markdown",
   "metadata": {},
   "source": [
    "That was one experiment (flipping 100 times).  What if we wanted to repeat 10,000 experiments, and produce a table of results?"
   ]
  },
  {
   "cell_type": "code",
   "execution_count": 52,
   "metadata": {},
   "outputs": [
    {
     "data": {
      "text/plain": [
       "array([51], dtype=int64)"
      ]
     },
     "execution_count": 52,
     "metadata": {},
     "output_type": "execute_result"
    }
   ],
   "source": [
    "num_heads = make_array(sum(np.random.choice(coin, 100) == 'Heads'))\n",
    "num_heads"
   ]
  },
  {
   "cell_type": "code",
   "execution_count": 53,
   "metadata": {},
   "outputs": [
    {
     "data": {
      "text/plain": [
       "array([51, 44], dtype=int64)"
      ]
     },
     "execution_count": 53,
     "metadata": {},
     "output_type": "execute_result"
    }
   ],
   "source": [
    "num_heads = np.append(num_heads, sum(np.random.choice(coin, 100) == 'Heads'))\n",
    "num_heads"
   ]
  },
  {
   "cell_type": "code",
   "execution_count": 54,
   "metadata": {},
   "outputs": [
    {
     "data": {
      "text/plain": [
       "array([53., 45., 49., ..., 44., 57., 52.])"
      ]
     },
     "execution_count": 54,
     "metadata": {},
     "output_type": "execute_result"
    }
   ],
   "source": [
    "num_heads = make_array()\n",
    "for i in np.arange(10000):\n",
    "    num_heads = np.append(num_heads, sum(np.random.choice(coin, 100) == 'Heads'))\n",
    "num_heads"
   ]
  },
  {
   "cell_type": "code",
   "execution_count": 55,
   "metadata": {},
   "outputs": [
    {
     "data": {
      "text/plain": [
       "10000"
      ]
     },
     "execution_count": 55,
     "metadata": {},
     "output_type": "execute_result"
    }
   ],
   "source": [
    "len(num_heads)"
   ]
  },
  {
   "cell_type": "code",
   "execution_count": 56,
   "metadata": {},
   "outputs": [
    {
     "data": {
      "image/png": "[encoded data removed]",
      "text/plain": [
       "<Figure size 432x288 with 1 Axes>"
      ]
     },
     "metadata": {},
     "output_type": "display_data"
    }
   ],
   "source": [
    "t = Table().with_column('Heads in 100 coin flips', num_heads)\n",
    "t.hist(bins=np.arange(30, 70, 1))"
   ]
  },
  {
   "cell_type": "code",
   "execution_count": 57,
   "metadata": {},
   "outputs": [
    {
     "data": {
      "text/html": [
       "<table border=\"1\" class=\"dataframe\">\n",
       "    <thead>\n",
       "        <tr>\n",
       "            <th>Heads in 100 coin flips</th> <th>count</th>\n",
       "        </tr>\n",
       "    </thead>\n",
       "    <tbody>\n",
       "        <tr>\n",
       "            <td>40                     </td> <td>114  </td>\n",
       "        </tr>\n",
       "        <tr>\n",
       "            <td>41                     </td> <td>170  </td>\n",
       "        </tr>\n",
       "        <tr>\n",
       "            <td>42                     </td> <td>219  </td>\n",
       "        </tr>\n",
       "        <tr>\n",
       "            <td>43                     </td> <td>289  </td>\n",
       "        </tr>\n",
       "        <tr>\n",
       "            <td>44                     </td> <td>416  </td>\n",
       "        </tr>\n",
       "        <tr>\n",
       "            <td>45                     </td> <td>448  </td>\n",
       "        </tr>\n",
       "        <tr>\n",
       "            <td>46                     </td> <td>561  </td>\n",
       "        </tr>\n",
       "        <tr>\n",
       "            <td>47                     </td> <td>671  </td>\n",
       "        </tr>\n",
       "        <tr>\n",
       "            <td>48                     </td> <td>736  </td>\n",
       "        </tr>\n",
       "        <tr>\n",
       "            <td>49                     </td> <td>773  </td>\n",
       "        </tr>\n",
       "        <tr>\n",
       "            <td>50                     </td> <td>792  </td>\n",
       "        </tr>\n",
       "        <tr>\n",
       "            <td>51                     </td> <td>822  </td>\n",
       "        </tr>\n",
       "        <tr>\n",
       "            <td>52                     </td> <td>724  </td>\n",
       "        </tr>\n",
       "        <tr>\n",
       "            <td>53                     </td> <td>665  </td>\n",
       "        </tr>\n",
       "        <tr>\n",
       "            <td>54                     </td> <td>599  </td>\n",
       "        </tr>\n",
       "        <tr>\n",
       "            <td>55                     </td> <td>474  </td>\n",
       "        </tr>\n",
       "        <tr>\n",
       "            <td>56                     </td> <td>392  </td>\n",
       "        </tr>\n",
       "        <tr>\n",
       "            <td>57                     </td> <td>304  </td>\n",
       "        </tr>\n",
       "        <tr>\n",
       "            <td>58                     </td> <td>224  </td>\n",
       "        </tr>\n",
       "        <tr>\n",
       "            <td>59                     </td> <td>168  </td>\n",
       "        </tr>\n",
       "    </tbody>\n",
       "</table>"
      ],
      "text/plain": [
       "<IPython.core.display.HTML object>"
      ]
     },
     "metadata": {},
     "output_type": "display_data"
    }
   ],
   "source": [
    "most = t.group('Heads in 100 coin flips')\\\n",
    "        .where('Heads in 100 coin flips', are.between(40, 60))\n",
    "most.show()"
   ]
  },
  {
   "cell_type": "code",
   "execution_count": 58,
   "metadata": {},
   "outputs": [
    {
     "data": {
      "text/plain": [
       "95.61"
      ]
     },
     "execution_count": 58,
     "metadata": {},
     "output_type": "execute_result"
    }
   ],
   "source": [
    "sum(most.column('count')) / t.num_rows * 100"
   ]
  },
  {
   "cell_type": "code",
   "execution_count": 59,
   "metadata": {},
   "outputs": [],
   "source": [
    "#noaccident that it's 95%"
   ]
  }
 ],
 "metadata": {
  "kernelspec": {
   "display_name": "Python 3",
   "language": "python",
   "name": "python3"
  },
  "language_info": {
   "codemirror_mode": {
    "name": "ipython",
    "version": 3
   },
   "file_extension": ".py",
   "mimetype": "text/x-python",
   "name": "python",
   "nbconvert_exporter": "python",
   "pygments_lexer": "ipython3",
   "version": "3.7.1"
  }
 },
 "nbformat": 4,
 "nbformat_minor": 2
}
