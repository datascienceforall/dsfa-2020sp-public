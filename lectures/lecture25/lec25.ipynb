{
 "cells": [
  {
   "cell_type": "markdown",
   "metadata": {},
   "source": [
    "# Lecture 25: Classification"
   ]
  },
  {
   "cell_type": "code",
   "execution_count": null,
   "metadata": {},
   "outputs": [],
   "source": [
    "from datascience import *\n",
    "import numpy as np\n",
    "\n",
    "import matplotlib.pyplot as plots\n",
    "plots.style.use('fivethirtyeight')\n",
    "%matplotlib inline\n",
    "np.set_printoptions(legacy='1.13')"
   ]
  },
  {
   "cell_type": "markdown",
   "metadata": {},
   "source": [
    "## Chronic kidney disease"
   ]
  },
  {
   "cell_type": "code",
   "execution_count": null,
   "metadata": {},
   "outputs": [],
   "source": [
    "# Source: https://archive.ics.uci.edu/ml/datasets/chronic_kidney_disease\n",
    "ckd = Table.read_table('ckd.csv').relabeled('Blood Glucose Random', 'Glucose')\n",
    "    \n",
    "def ckd_label(number):\n",
    "    if number == 0:\n",
    "        return \"notckd\"\n",
    "    elif number == 1:\n",
    "        return \"ckd\"\n",
    "    else:\n",
    "        return \"unknown\"\n",
    "  \n",
    "ckd = ckd.with_column(\n",
    "    'Class', ckd.apply(ckd_label, 'Class')\n",
    ")    \n",
    "ckd.show(3)"
   ]
  },
  {
   "cell_type": "code",
   "execution_count": null,
   "metadata": {},
   "outputs": [],
   "source": [
    "ckd.group('Class')"
   ]
  },
  {
   "cell_type": "code",
   "execution_count": null,
   "metadata": {},
   "outputs": [],
   "source": [
    "ckd.scatter('White Blood Cell Count', 'Glucose', colors='Class')"
   ]
  },
  {
   "cell_type": "markdown",
   "metadata": {},
   "source": [
    "**Q:** As a human, how would you classify based on Glucose and White Blood Cell Count? \n",
    "\n",
    "<br/><br/><br/><br/><br/>"
   ]
  },
  {
   "cell_type": "code",
   "execution_count": null,
   "metadata": {},
   "outputs": [],
   "source": [
    "def my_classifier(wbc, glc):\n",
    "    if wbc <= 12000 and glc <= 140:\n",
    "        return 'notckd'\n",
    "    else:\n",
    "        return 'ckd'"
   ]
  },
  {
   "cell_type": "code",
   "execution_count": null,
   "metadata": {},
   "outputs": [],
   "source": [
    "my_classifier(8000, 100)"
   ]
  },
  {
   "cell_type": "code",
   "execution_count": null,
   "metadata": {},
   "outputs": [],
   "source": [
    "ckd_classified = ckd.with_column(\n",
    "    'My Class', ckd.apply(my_classifier, \n",
    "                         'White Blood Cell Count',\n",
    "                         'Glucose' )\n",
    ")\n",
    "ckd_classified.show(3)"
   ]
  },
  {
   "cell_type": "markdown",
   "metadata": {},
   "source": [
    "**Q:** How would you assess whether `my_classifier` is doing a good job?\n",
    "\n",
    "<br/><br/><br/><br/><br/>"
   ]
  },
  {
   "cell_type": "code",
   "execution_count": null,
   "metadata": {},
   "outputs": [],
   "source": [
    "correct = ckd_classified.column('Class')\\\n",
    "  == ckd_classified.column('My Class')\n",
    "correct"
   ]
  },
  {
   "cell_type": "code",
   "execution_count": null,
   "metadata": {},
   "outputs": [],
   "source": [
    "np.sum(correct) / ckd_classified.num_rows"
   ]
  },
  {
   "cell_type": "code",
   "execution_count": null,
   "metadata": {},
   "outputs": [],
   "source": [
    "np.mean(correct)"
   ]
  },
  {
   "cell_type": "markdown",
   "metadata": {},
   "source": [
    "**Problem:** We are misclassifying.  What if we try another pair of variables?"
   ]
  },
  {
   "cell_type": "code",
   "execution_count": null,
   "metadata": {},
   "outputs": [],
   "source": [
    "ckd.scatter('Hemoglobin', 'Glucose', colors='Class')"
   ]
  },
  {
   "cell_type": "code",
   "execution_count": null,
   "metadata": {},
   "outputs": [],
   "source": [
    "def another_classifier(hgb, glc):\n",
    "    if glc <= 140 and hgb >= 13:\n",
    "        return 'notckd'\n",
    "    else:\n",
    "        return 'ckd'\n",
    "\n",
    "ckd_reclassified = ckd.with_column(\n",
    "    'My Class', ckd.apply(another_classifier, \n",
    "                          'Hemoglobin', \n",
    "                          'Glucose')\n",
    ")\n",
    "\n",
    "np.mean(ckd_reclassified.column('Class') \n",
    "        == ckd_reclassified.column('My Class'))\n"
   ]
  },
  {
   "cell_type": "markdown",
   "metadata": {},
   "source": [
    "**Problem:** What if we get a new individual to classify?"
   ]
  },
  {
   "cell_type": "code",
   "execution_count": null,
   "metadata": {},
   "outputs": [],
   "source": [
    "ckd.scatter('Hemoglobin', 'Glucose', colors='Class')\n",
    "plots.scatter([13,13,13], [150,200,250], color='red');"
   ]
  },
  {
   "cell_type": "markdown",
   "metadata": {},
   "source": [
    "**Q:** How would you label the bottom red point?\n",
    "\n",
    "A. ckd  \n",
    "B. notckd  \n"
   ]
  },
  {
   "cell_type": "markdown",
   "metadata": {},
   "source": [
    "**Q:** How would you label the middle red point?\n",
    "\n",
    "A. ckd  \n",
    "B. notckd  \n"
   ]
  },
  {
   "cell_type": "markdown",
   "metadata": {},
   "source": [
    "## Nearest Neighbor"
   ]
  },
  {
   "cell_type": "markdown",
   "metadata": {},
   "source": [
    "**Distance between points.**"
   ]
  },
  {
   "cell_type": "code",
   "execution_count": null,
   "metadata": {},
   "outputs": [],
   "source": [
    "plots.scatter([0,4], [0,3], color='red', s=80);\n",
    "plots.plot([0,4], [0,3], linestyle='dashed');"
   ]
  },
  {
   "cell_type": "code",
   "execution_count": null,
   "metadata": {},
   "outputs": [],
   "source": [
    "def distance(a, b):\n",
    "    \"\"\"Returns the distance between a and b, where a and b\n",
    "    are both arrays representing points.\"\"\"\n",
    "    return np.sqrt(np.sum((a - b)**2))"
   ]
  },
  {
   "cell_type": "code",
   "execution_count": null,
   "metadata": {},
   "outputs": [],
   "source": [
    "distance(make_array(0,0), make_array(4,3))"
   ]
  },
  {
   "cell_type": "markdown",
   "metadata": {},
   "source": [
    "**Classifying a new individual.**"
   ]
  },
  {
   "cell_type": "code",
   "execution_count": null,
   "metadata": {},
   "outputs": [],
   "source": [
    "hgb_glc = ckd.select('Hemoglobin', 'Glucose', 'Class')\n",
    "hgb_glc    "
   ]
  },
  {
   "cell_type": "code",
   "execution_count": null,
   "metadata": {},
   "outputs": [],
   "source": [
    "hgb_glc.scatter('Hemoglobin', 'Glucose', colors='Class')\n",
    "plots.scatter([13], [150], color='red');"
   ]
  },
  {
   "cell_type": "markdown",
   "metadata": {},
   "source": [
    "**Aside: Rows.**"
   ]
  },
  {
   "cell_type": "code",
   "execution_count": null,
   "metadata": {},
   "outputs": [],
   "source": [
    "hgb_glc.row(0)"
   ]
  },
  {
   "cell_type": "code",
   "execution_count": null,
   "metadata": {},
   "outputs": [],
   "source": [
    "np.array(hgb_glc.row(0))"
   ]
  },
  {
   "cell_type": "code",
   "execution_count": null,
   "metadata": {},
   "outputs": [],
   "source": [
    "np.array(hgb_glc.drop('Class').row(0))"
   ]
  },
  {
   "cell_type": "code",
   "execution_count": null,
   "metadata": {},
   "outputs": [],
   "source": [
    "hgb_glc.drop('Class').apply(np.array)"
   ]
  },
  {
   "cell_type": "code",
   "execution_count": null,
   "metadata": {},
   "outputs": [],
   "source": [
    "def mean_of_row(row):\n",
    "    row_as_array = np.array(row)\n",
    "    return np.mean(row_as_array)\n",
    "\n",
    "hgb_glc.with_column(\n",
    "    'Mean of row', hgb_glc.drop('Class').apply(mean_of_row)\n",
    ")"
   ]
  },
  {
   "cell_type": "markdown",
   "metadata": {},
   "source": [
    "**End Aside, back to classifying**"
   ]
  },
  {
   "cell_type": "code",
   "execution_count": null,
   "metadata": {},
   "outputs": [],
   "source": [
    "new_point = make_array(13, 150)\n",
    "\n",
    "def distance_from_new(row):\n",
    "    \"\"\"Return the distance between row and new_point.\n",
    "    Row is an input to the function and can change every\n",
    "    time the function is called.  new_point is the same\n",
    "    every time, though.\"\"\"\n",
    "    return distance(np.array(row), new_point)\n",
    "    \n",
    "distances = hgb_glc.with_column(\n",
    "    'Distance', hgb_glc.drop('Class').apply(distance_from_new)\n",
    ").sort('Distance')\n",
    "\n",
    "distances"
   ]
  },
  {
   "cell_type": "markdown",
   "metadata": {},
   "source": [
    "**Note:** What we just did with `distance_from_new` is incredibly important to understand."
   ]
  },
  {
   "cell_type": "code",
   "execution_count": null,
   "metadata": {},
   "outputs": [],
   "source": [
    "hgb_glc.scatter('Hemoglobin', 'Glucose', colors='Class')\n",
    "plots.scatter([13, 5.6], [150, 157], color='red');"
   ]
  },
  {
   "cell_type": "markdown",
   "metadata": {},
   "source": [
    "**Q:** What's wrong with my classifier?\n",
    "\n",
    "A.  Nothing.  \n",
    "B.  I must have coded the `distance` function wrong.  \n",
    "C.  Something else is wrong."
   ]
  },
  {
   "cell_type": "code",
   "execution_count": null,
   "metadata": {},
   "outputs": [],
   "source": [
    "hgb_glc.scatter('Hemoglobin', 'Glucose', colors='Class')\n",
    "plots.scatter([13, 5.6], [150, 157], color='red');\n",
    "plots.xlim(0,50);\n",
    "plots.ylim(125,175);"
   ]
  },
  {
   "cell_type": "code",
   "execution_count": null,
   "metadata": {},
   "outputs": [],
   "source": [
    "hgb_glc.scatter('Hemoglobin', 'Glucose', colors='Class')\n",
    "plots.scatter([13, 5.6], [150, 157], color='red');\n",
    "plots.xlim(0,500);\n",
    "plots.ylim(0,500);"
   ]
  },
  {
   "cell_type": "markdown",
   "metadata": {},
   "source": [
    "**Accounting for scale.**"
   ]
  },
  {
   "cell_type": "code",
   "execution_count": null,
   "metadata": {},
   "outputs": [],
   "source": [
    "def standard_units(array):\n",
    "    \"\"\"Convert array to standard units.\"\"\"\n",
    "    return (array - array.mean()) / array.std()\n",
    "    \n",
    "def standardize(t):\n",
    "    \"Covert table t to standard units.\"\n",
    "    su = Table()\n",
    "    for label in t.labels:\n",
    "        su = su.with_column(label + ' (su)', standard_units(t.column(label)))\n",
    "    return su\n",
    "\n",
    "def in_su(value, array):\n",
    "    \"\"\"Return value in standard units according to \n",
    "    the distribution of array.\"\"\"\n",
    "    return (value - array.mean()) / array.std()"
   ]
  },
  {
   "cell_type": "code",
   "execution_count": null,
   "metadata": {},
   "outputs": [],
   "source": [
    "hgb_glc_su = standardize(hgb_glc.drop('Class'))\\\n",
    "  .with_column('Class', hgb_glc.column('Class'))\n",
    "hgb_glc_su"
   ]
  },
  {
   "cell_type": "code",
   "execution_count": null,
   "metadata": {},
   "outputs": [],
   "source": [
    "hgb_glc_su.scatter('Hemoglobin (su)', 'Glucose (su)', colors='Class')\n",
    "x_su = in_su(13, hgb_glc.column('Hemoglobin'))\n",
    "y_su = in_su(150, hgb_glc.column('Glucose'))\n",
    "plots.scatter(x_su, y_su, color='red');"
   ]
  },
  {
   "cell_type": "code",
   "execution_count": null,
   "metadata": {},
   "outputs": [],
   "source": [
    "new_point = make_array(x_su, y_su)\n",
    "\n",
    "def distance_from_new(row):\n",
    "    \"\"\"Return the distance between row and new_point.\"\"\"\n",
    "    return distance(np.array(row), new_point)\n",
    "       \n",
    "distances = hgb_glc_su.with_column(\n",
    "    'Distance', hgb_glc_su.drop('Class').apply(distance_from_new)\n",
    ").sort('Distance')\n",
    "\n",
    "distances"
   ]
  },
  {
   "cell_type": "code",
   "execution_count": null,
   "metadata": {},
   "outputs": [],
   "source": [
    "hgb_glc_su.scatter('Hemoglobin (su)', 'Glucose (su)', colors='Class')\n",
    "close_x = distances.column('Hemoglobin (su)').item(0)\n",
    "close_y = distances.column('Glucose (su)').item(0)\n",
    "plots.scatter([x_su, close_x], [y_su, close_y], color='red');"
   ]
  },
  {
   "cell_type": "markdown",
   "metadata": {},
   "source": [
    "**Nearest Neighbor Classifier.**"
   ]
  },
  {
   "cell_type": "code",
   "execution_count": null,
   "metadata": {},
   "outputs": [],
   "source": [
    "def hgb_glc_nn_classifier_su(new_point_su):\n",
    "    \"\"\"Return the hgb/glc classification of new_point_su, which\n",
    "    should be in standard units already.\"\"\"\n",
    "    def distance_from_new(row):\n",
    "        return distance(np.array(row), new_point_su)\n",
    "    \n",
    "    distances = hgb_glc_su.with_column(\n",
    "        'Distance', hgb_glc_su.drop('Class').apply(distance_from_new)\n",
    "    )\n",
    "    return distances.sort('Distance').column('Class').item(0)\n",
    "\n",
    "def hgb_glc_nn_classifier_ou(new_point):\n",
    "    \"\"\"Return the hgb/glc classification of new_point, which\n",
    "    should still be in original units.\"\"\"\n",
    "    hgb_su = in_su(new_point.item(0), hgb_glc.column('Hemoglobin'))\n",
    "    glc_su = in_su(new_point.item(1), hgb_glc.column('Glucose'))\n",
    "    return hgb_glc_nn_classifier_su(make_array(hgb_su, glc_su))"
   ]
  },
  {
   "cell_type": "code",
   "execution_count": null,
   "metadata": {},
   "outputs": [],
   "source": [
    "hgb_glc_nn_classifier_ou(make_array(13, 150))"
   ]
  },
  {
   "cell_type": "code",
   "execution_count": null,
   "metadata": {},
   "outputs": [],
   "source": [
    "hgb_glc.scatter('Hemoglobin', 'Glucose', colors='Class')\n",
    "plots.scatter([13,13,13], [150,200,250], color='red');"
   ]
  },
  {
   "cell_type": "markdown",
   "metadata": {},
   "source": [
    "**Q:** What should the classification of (13, 200) be?\n",
    "\n",
    "A.  ckd  \n",
    "B.  notckd  "
   ]
  },
  {
   "cell_type": "code",
   "execution_count": null,
   "metadata": {},
   "outputs": [],
   "source": [
    "hgb_glc_nn_classifier_ou(make_array(13, 200))"
   ]
  },
  {
   "cell_type": "code",
   "execution_count": null,
   "metadata": {},
   "outputs": [],
   "source": [
    "x_su = in_su(13, hgb_glc.column('Hemoglobin'))\n",
    "y_su = in_su(200, hgb_glc.column('Glucose'))\n",
    "make_array(x_su,y_su)"
   ]
  },
  {
   "cell_type": "code",
   "execution_count": null,
   "metadata": {},
   "outputs": [],
   "source": [
    "decisions = Table(hgb_glc.labels)\n",
    "for hgb in np.arange(10, 19, .125):\n",
    "    for glc in np.arange(50, 250, 5):\n",
    "        predicted = hgb_glc_nn_classifier_ou(make_array(hgb, glc))\n",
    "        decisions.append([hgb, glc, predicted])\n",
    "decisions.scatter(0, 1, colors='Class', alpha=0.4)\n",
    "plots.xlim(10,19)\n",
    "plots.ylim(40,250)\n",
    "notckd_pts = hgb_glc.where('Class', 'notckd')\n",
    "ckd_pts = hgb_glc.where('Class', 'ckd')\n",
    "plots.scatter(notckd_pts.column(0), notckd_pts.column(1), c='gold', edgecolor='k');\n",
    "plots.scatter(ckd_pts.column(0), ckd_pts.column(1), c='darkblue', edgecolor='k');"
   ]
  },
  {
   "cell_type": "markdown",
   "metadata": {},
   "source": [
    "## Training and Testing"
   ]
  },
  {
   "cell_type": "code",
   "execution_count": null,
   "metadata": {},
   "outputs": [],
   "source": [
    "shuffled_hgb_glc = hgb_glc.sample(with_replacement=False)\n",
    "half = int(hgb_glc.num_rows / 2)\n",
    "train_hgb_glc = shuffled_hgb_glc.take(np.arange(0, half))\n",
    "test_hgb_glc  = shuffled_hgb_glc.take(np.arange(half, hgb_glc.num_rows))"
   ]
  },
  {
   "cell_type": "code",
   "execution_count": null,
   "metadata": {},
   "outputs": [],
   "source": [
    "train_hgb_glc.scatter('Hemoglobin', 'Glucose', colors='Class')"
   ]
  },
  {
   "cell_type": "code",
   "execution_count": null,
   "metadata": {},
   "outputs": [],
   "source": [
    "def train_nn_su_classifier(train):\n",
    "    \"\"\"Create a nearest-neighbor classifier.  The last column \n",
    "    of the training table should be the labels, and the preceeding\n",
    "    columns should be the attributes.  The names of the columns do not\n",
    "    matter.  The classifier will work in standard units; but,\n",
    "    the training table should be in original units.\n",
    "    \n",
    "    Returns a function.  That function takes as input a \n",
    "    new point in original units. The function returns the \n",
    "    classification of the new point as output.\"\"\"\n",
    "    \n",
    "    last_column = train.num_columns - 1\n",
    "    \n",
    "    train_su = standardize(train.drop(last_column)).with_column(\n",
    "        train.labels[last_column], train.column(last_column)\n",
    "    )\n",
    "    \n",
    "    def classify_new_point(new_point):\n",
    "        \"\"\"Return the classification of new_point, which\n",
    "        should still be in original units.\"\"\"\n",
    "        \n",
    "        new_point_su = make_array()\n",
    "        for i in range(len(new_point)):\n",
    "            coord_su = in_su(new_point.item(i), train.column(i))\n",
    "            new_point_su = np.append(new_point_su, coord_su)\n",
    "        \n",
    "        def distance_from_new(row):\n",
    "            \"\"\"Return the distance between row, which\n",
    "            should be in standard units, and new_point_su.\"\"\"\n",
    "            return distance(np.array(row), new_point_su)\n",
    "    \n",
    "        distances = Table().with_columns(\n",
    "            'Distance', train_su.drop(last_column).apply(distance_from_new),\n",
    "            'Class', train_su.column(last_column)\n",
    "        ).sort('Distance')\n",
    "    \n",
    "        return distances.column('Class').item(0)\n",
    "    \n",
    "    return classify_new_point"
   ]
  },
  {
   "cell_type": "code",
   "execution_count": null,
   "metadata": {},
   "outputs": [],
   "source": []
  },
  {
   "cell_type": "code",
   "execution_count": null,
   "metadata": {},
   "outputs": [],
   "source": [
    "hgb_glc_scaled_classifier = train_nn_su_classifier(train_hgb_glc)"
   ]
  },
  {
   "cell_type": "code",
   "execution_count": null,
   "metadata": {},
   "outputs": [],
   "source": [
    "hgb_glc_scaled_classifier(make_array(13, 150))"
   ]
  },
  {
   "cell_type": "markdown",
   "metadata": {},
   "source": [
    "**Note:** What we just did with returning a function was incredibly important to understand."
   ]
  },
  {
   "cell_type": "code",
   "execution_count": null,
   "metadata": {},
   "outputs": [],
   "source": [
    "def visualize_boundary(known_points, classifier, x_range, y_range):\n",
    "    \"\"\"Visualize the boundary region of a classifier.\n",
    "    The visualization is in original units.\"\"\"\n",
    "    decisions = Table(known_points.labels)\n",
    "    for x in x_range:\n",
    "        for y in y_range:\n",
    "            predicted = classifier(make_array(x, y))\n",
    "            decisions.append([x, y, predicted])\n",
    "    decisions.scatter(0, 1, colors='Class', alpha=0.4)\n",
    "    plots.xlim(x_range.min(), x_range.max())\n",
    "    plots.ylim(y_range.min(), y_range.max())\n",
    "    notckd_pts = known_points.where('Class', 'notckd')\n",
    "    ckd_pts = known_points.where('Class', 'ckd')\n",
    "    plots.scatter(notckd_pts.column(0), notckd_pts.column(1), c='gold', edgecolor='k');\n",
    "    plots.scatter(ckd_pts.column(0), ckd_pts.column(1), c='darkblue', edgecolor='k');"
   ]
  },
  {
   "cell_type": "code",
   "execution_count": null,
   "metadata": {},
   "outputs": [],
   "source": [
    "visualize_boundary(train_hgb_glc, hgb_glc_scaled_classifier,\n",
    "                  np.arange(10, 20, .25), np.arange(50, 250, 5))"
   ]
  },
  {
   "cell_type": "code",
   "execution_count": null,
   "metadata": {},
   "outputs": [],
   "source": [
    "visualize_boundary(test_hgb_glc, hgb_glc_scaled_classifier,\n",
    "                  np.arange(10, 20, .25), np.arange(50, 250, 5))"
   ]
  },
  {
   "cell_type": "code",
   "execution_count": null,
   "metadata": {},
   "outputs": [],
   "source": [
    "def classifier_accuracy(test, classifier):\n",
    "    \"\"\"Evaluate the accuracy of the classifier using the\n",
    "    provided test table, whose last column should be\n",
    "    the labels.  The names of the columns are irrelevant.\"\"\"\n",
    "    \n",
    "    last_column = test.num_columns - 1\n",
    "    actual_labels = test.column(last_column)\n",
    "    predicted_labels = test.drop(last_column).apply(classifier)\n",
    "    \n",
    "    return np.mean(actual_labels == predicted_labels)    "
   ]
  },
  {
   "cell_type": "code",
   "execution_count": null,
   "metadata": {},
   "outputs": [],
   "source": [
    "classifier_accuracy(test_hgb_glc, hgb_glc_scaled_classifier)"
   ]
  },
  {
   "cell_type": "markdown",
   "metadata": {},
   "source": [
    "## Majority Voting in a Neighborhood"
   ]
  },
  {
   "cell_type": "markdown",
   "metadata": {},
   "source": [
    "Back to a pair of variables where it was harder to classify..."
   ]
  },
  {
   "cell_type": "code",
   "execution_count": null,
   "metadata": {},
   "outputs": [],
   "source": [
    "ckd.scatter('White Blood Cell Count', 'Glucose', colors='Class')"
   ]
  },
  {
   "cell_type": "code",
   "execution_count": null,
   "metadata": {},
   "outputs": [],
   "source": [
    "ckd.scatter('White Blood Cell Count', 'Glucose', colors='Class')\n",
    "plots.xlim(3500,10000);\n",
    "plots.ylim(60,180);"
   ]
  },
  {
   "cell_type": "code",
   "execution_count": null,
   "metadata": {},
   "outputs": [],
   "source": [
    "wbc_glc = ckd.select('White Blood Cell Count', 'Glucose', 'Class')\n",
    "half = int(wbc_glc.num_rows / 2)\n",
    "train_wbc_glc, test_wbc_glc = wbc_glc.split(half)\n",
    "wbc_glc_scaled_classifier = train_nn_su_classifier(train_wbc_glc)\n",
    "visualize_boundary(train_wbc_glc, wbc_glc_scaled_classifier,\n",
    "                  np.arange(3500,11000,200), np.arange(60,200,5))"
   ]
  },
  {
   "cell_type": "markdown",
   "metadata": {},
   "source": [
    "**Q:** How many points are being mis-classified here?\n",
    "\n",
    "A. 0  \n",
    "B. 1  \n",
    "C. 2 or more  "
   ]
  },
  {
   "cell_type": "code",
   "execution_count": null,
   "metadata": {},
   "outputs": [],
   "source": [
    "classifier_accuracy(train_wbc_glc, wbc_glc_scaled_classifier)"
   ]
  },
  {
   "cell_type": "code",
   "execution_count": null,
   "metadata": {},
   "outputs": [],
   "source": [
    "visualize_boundary(test_wbc_glc, wbc_glc_scaled_classifier,\n",
    "                  np.arange(3500,11000,200), np.arange(60,200,5))"
   ]
  },
  {
   "cell_type": "markdown",
   "metadata": {},
   "source": [
    "**Q:** How many points are being mis-classified here?\n",
    "\n",
    "A. 0  \n",
    "B. 1  \n",
    "C. 2 or more  "
   ]
  },
  {
   "cell_type": "code",
   "execution_count": null,
   "metadata": {},
   "outputs": [],
   "source": [
    "classifier_accuracy(test_wbc_glc, wbc_glc_scaled_classifier)"
   ]
  },
  {
   "cell_type": "code",
   "execution_count": null,
   "metadata": {},
   "outputs": [],
   "source": [
    "def most_frequent_value(array):\n",
    "    \"\"\"Returns the value of array that occurs most frequently.\n",
    "    \"\"\"\n",
    "    t = Table().with_column('values', array)\n",
    "    counts = t.group('values').sort('count', descending=True).column('values')\n",
    "    return counts.item(0)"
   ]
  },
  {
   "cell_type": "code",
   "execution_count": null,
   "metadata": {},
   "outputs": [],
   "source": [
    "most_frequent_value(make_array(1,1,1,0,0,0,0,0))"
   ]
  },
  {
   "cell_type": "code",
   "execution_count": null,
   "metadata": {},
   "outputs": [],
   "source": [
    "def train_knn_su_classifier(train, k):\n",
    "    \"\"\"Create a nearest-neighbor classifier.  The last column \n",
    "    of the training table should be the labels, and the preceeding\n",
    "    columns should be the attributes.  The names of the columns do not\n",
    "    matter.  The classifier will work in standard units; but,\n",
    "    the training table should be in original units.\n",
    "    \n",
    "    Returns a function.  That function takes as input a \n",
    "    new point in original units. The function returns the \n",
    "    classification of the new point as output.\"\"\"\n",
    "    \n",
    "    last_column = train.num_columns - 1\n",
    "    \n",
    "    train_su = standardize(train.drop(last_column)).with_column(\n",
    "        train.labels[last_column], train.column(last_column)\n",
    "    )\n",
    "    \n",
    "    def classify_new_point(new_point):\n",
    "        \"\"\"Return the classification of new_point, which\n",
    "        should still be in original units.\"\"\"\n",
    "        \n",
    "        new_point_su = make_array()\n",
    "        for i in range(len(new_point)):\n",
    "            coord_su = in_su(new_point.item(i), train.column(i))\n",
    "            new_point_su = np.append(new_point_su, coord_su)\n",
    "        \n",
    "        def distance_from_new(row):\n",
    "            \"\"\"Return the distance between row, which\n",
    "            should be in standard units, and new_point_su.\"\"\"\n",
    "            return distance(np.array(row), new_point_su)\n",
    "    \n",
    "        distances = Table().with_columns(\n",
    "            'Distance', train_su.drop(last_column).apply(distance_from_new),\n",
    "            'Class', train_su.column(last_column)\n",
    "        ).sort('Distance')\n",
    "        \n",
    "        top_k = distances.take(np.arange(k)).column('Class')\n",
    "        return most_frequent_value(top_k)\n",
    "    \n",
    "    return classify_new_point"
   ]
  },
  {
   "cell_type": "code",
   "execution_count": null,
   "metadata": {},
   "outputs": [],
   "source": [
    "def train_and_visualize_wbc_glc(k):\n",
    "    classifier = train_knn_su_classifier(train_wbc_glc, k)\n",
    "    visualize_boundary(test_wbc_glc, classifier,\n",
    "                  np.arange(3500,11000,250), np.arange(60,200,10))\n",
    "    acc = classifier_accuracy(test_wbc_glc, classifier)\n",
    "    print('Accuracy:', acc)"
   ]
  },
  {
   "cell_type": "code",
   "execution_count": null,
   "metadata": {
    "scrolled": true
   },
   "outputs": [],
   "source": [
    "train_and_visualize_wbc_glc(1)"
   ]
  },
  {
   "cell_type": "code",
   "execution_count": null,
   "metadata": {},
   "outputs": [],
   "source": [
    "train_and_visualize_wbc_glc(3)"
   ]
  },
  {
   "cell_type": "code",
   "execution_count": null,
   "metadata": {
    "scrolled": true
   },
   "outputs": [],
   "source": [
    "train_and_visualize_wbc_glc(5)"
   ]
  },
  {
   "cell_type": "markdown",
   "metadata": {},
   "source": [
    "## Distances using more attributes"
   ]
  },
  {
   "cell_type": "code",
   "execution_count": null,
   "metadata": {},
   "outputs": [],
   "source": [
    "distance(make_array(0,0), make_array(1,1))"
   ]
  },
  {
   "cell_type": "code",
   "execution_count": null,
   "metadata": {},
   "outputs": [],
   "source": [
    "distance(make_array(0,0,0), make_array(1,1,1))"
   ]
  },
  {
   "cell_type": "code",
   "execution_count": null,
   "metadata": {
    "scrolled": true
   },
   "outputs": [],
   "source": [
    "distance(make_array(0,0,0,0), make_array(1,1,1,1))"
   ]
  },
  {
   "cell_type": "code",
   "execution_count": null,
   "metadata": {},
   "outputs": [],
   "source": []
  }
 ],
 "metadata": {
  "anaconda-cloud": {},
  "kernelspec": {
   "display_name": "Python 3",
   "language": "python",
   "name": "python3"
  },
  "language_info": {
   "codemirror_mode": {
    "name": "ipython",
    "version": 3
   },
   "file_extension": ".py",
   "mimetype": "text/x-python",
   "name": "python",
   "nbconvert_exporter": "python",
   "pygments_lexer": "ipython3",
   "version": "3.7.6"
  }
 },
 "nbformat": 4,
 "nbformat_minor": 1
}
